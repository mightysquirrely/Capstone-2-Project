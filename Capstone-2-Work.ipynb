{
 "cells": [
  {
   "cell_type": "code",
   "execution_count": 1,
   "metadata": {},
   "outputs": [],
   "source": [
    "import numpy as np # linear algebra\n",
    "import pandas as pd # data processing, CSV file I/O (e.g. pd.read_csv)\n",
    "import seaborn as sns\n",
    "import matplotlib\n",
    "import matplotlib.pyplot as plt\n",
    "from scipy import stats\n",
    "from scipy.stats import norm\n",
    "from scipy.stats import t\n",
    "from numpy.random import seed\n",
    "\n",
    "import re\n",
    "import sklearn\n",
    "\n",
    "import warnings\n",
    "warnings.filterwarnings(\"ignore\")\n",
    "\n",
    "%matplotlib inline"
   ]
  },
  {
   "cell_type": "code",
   "execution_count": 23,
   "metadata": {},
   "outputs": [],
   "source": [
    "from pandas.io.json import json_normalize \n",
    "data = pd.read_csv('/Users/Sandi/Desktop/Projects/Capstone_2/questionnaire.csv')\n",
    "demographics = pd.read_csv('/Users/Sandi/Desktop/Projects/Capstone_2/demographic.csv')\n",
    "labs = pd.read_csv('/Users/Sandi/Desktop/Projects/Capstone_2/labs.csv')"
   ]
  },
  {
   "cell_type": "code",
   "execution_count": null,
   "metadata": {},
   "outputs": [],
   "source": []
  },
  {
   "cell_type": "markdown",
   "metadata": {},
   "source": [
    "**Data Set Merge and Select Attribute**"
   ]
  },
  {
   "cell_type": "code",
   "execution_count": 24,
   "metadata": {},
   "outputs": [],
   "source": [
    "data.drop(['SEQN'], axis = 1, inplace=True)\n",
    "demographics.drop(['SEQN'], axis = 1, inplace=True)\n",
    "labs.drop(['SEQN'], axis = 1, inplace=True)\n",
    "#https://www.kaggle.com/what0919/diabetes-prediction"
   ]
  },
  {
   "cell_type": "code",
   "execution_count": 26,
   "metadata": {},
   "outputs": [
    {
     "data": {
      "text/html": [
       "<div>\n",
       "<style scoped>\n",
       "    .dataframe tbody tr th:only-of-type {\n",
       "        vertical-align: middle;\n",
       "    }\n",
       "\n",
       "    .dataframe tbody tr th {\n",
       "        vertical-align: top;\n",
       "    }\n",
       "\n",
       "    .dataframe thead th {\n",
       "        text-align: right;\n",
       "    }\n",
       "</style>\n",
       "<table border=\"1\" class=\"dataframe\">\n",
       "  <thead>\n",
       "    <tr style=\"text-align: right;\">\n",
       "      <th></th>\n",
       "      <th>ACD011A</th>\n",
       "      <th>ACD011B</th>\n",
       "      <th>ACD011C</th>\n",
       "      <th>ACD040</th>\n",
       "      <th>ACD110</th>\n",
       "      <th>ALQ101</th>\n",
       "      <th>ALQ110</th>\n",
       "      <th>ALQ120Q</th>\n",
       "      <th>ALQ120U</th>\n",
       "      <th>ALQ130</th>\n",
       "      <th>...</th>\n",
       "      <th>URXUTL</th>\n",
       "      <th>URDUTLLC</th>\n",
       "      <th>URXUTU</th>\n",
       "      <th>URDUTULC</th>\n",
       "      <th>URXUUR</th>\n",
       "      <th>URDUURLC</th>\n",
       "      <th>URXPREG</th>\n",
       "      <th>URXUAS</th>\n",
       "      <th>LBDB12</th>\n",
       "      <th>LBDB12SI</th>\n",
       "    </tr>\n",
       "  </thead>\n",
       "  <tbody>\n",
       "    <tr>\n",
       "      <th>count</th>\n",
       "      <td>5548.0</td>\n",
       "      <td>16.0</td>\n",
       "      <td>166.0</td>\n",
       "      <td>2292.000000</td>\n",
       "      <td>975.000000</td>\n",
       "      <td>5223.000000</td>\n",
       "      <td>1576.000000</td>\n",
       "      <td>4312.000000</td>\n",
       "      <td>3460.000000</td>\n",
       "      <td>3463.000000</td>\n",
       "      <td>...</td>\n",
       "      <td>2664.000000</td>\n",
       "      <td>2664.000000</td>\n",
       "      <td>2664.000000</td>\n",
       "      <td>2664.000000</td>\n",
       "      <td>2664.000000</td>\n",
       "      <td>2664.000000</td>\n",
       "      <td>1261.000000</td>\n",
       "      <td>2662.000000</td>\n",
       "      <td>5316.000000</td>\n",
       "      <td>5316.000000</td>\n",
       "    </tr>\n",
       "    <tr>\n",
       "      <th>mean</th>\n",
       "      <td>1.0</td>\n",
       "      <td>8.0</td>\n",
       "      <td>9.0</td>\n",
       "      <td>3.109075</td>\n",
       "      <td>2.949744</td>\n",
       "      <td>1.312464</td>\n",
       "      <td>1.595812</td>\n",
       "      <td>4.787801</td>\n",
       "      <td>1.924566</td>\n",
       "      <td>3.534796</td>\n",
       "      <td>...</td>\n",
       "      <td>0.186950</td>\n",
       "      <td>0.007883</td>\n",
       "      <td>0.150535</td>\n",
       "      <td>0.162162</td>\n",
       "      <td>0.012038</td>\n",
       "      <td>0.177177</td>\n",
       "      <td>1.969072</td>\n",
       "      <td>15.670639</td>\n",
       "      <td>640.100263</td>\n",
       "      <td>472.394865</td>\n",
       "    </tr>\n",
       "    <tr>\n",
       "      <th>std</th>\n",
       "      <td>0.0</td>\n",
       "      <td>0.0</td>\n",
       "      <td>0.0</td>\n",
       "      <td>1.513612</td>\n",
       "      <td>1.731617</td>\n",
       "      <td>0.548327</td>\n",
       "      <td>0.619028</td>\n",
       "      <td>35.079943</td>\n",
       "      <td>0.854441</td>\n",
       "      <td>29.410605</td>\n",
       "      <td>...</td>\n",
       "      <td>0.133833</td>\n",
       "      <td>0.088452</td>\n",
       "      <td>0.576409</td>\n",
       "      <td>0.368669</td>\n",
       "      <td>0.034026</td>\n",
       "      <td>0.381890</td>\n",
       "      <td>0.251651</td>\n",
       "      <td>46.735936</td>\n",
       "      <td>751.967084</td>\n",
       "      <td>554.951537</td>\n",
       "    </tr>\n",
       "    <tr>\n",
       "      <th>min</th>\n",
       "      <td>1.0</td>\n",
       "      <td>8.0</td>\n",
       "      <td>9.0</td>\n",
       "      <td>1.000000</td>\n",
       "      <td>1.000000</td>\n",
       "      <td>1.000000</td>\n",
       "      <td>1.000000</td>\n",
       "      <td>0.000000</td>\n",
       "      <td>1.000000</td>\n",
       "      <td>1.000000</td>\n",
       "      <td>...</td>\n",
       "      <td>0.013000</td>\n",
       "      <td>0.000000</td>\n",
       "      <td>0.013000</td>\n",
       "      <td>0.000000</td>\n",
       "      <td>0.001400</td>\n",
       "      <td>0.000000</td>\n",
       "      <td>1.000000</td>\n",
       "      <td>0.280000</td>\n",
       "      <td>18.000000</td>\n",
       "      <td>13.300000</td>\n",
       "    </tr>\n",
       "    <tr>\n",
       "      <th>25%</th>\n",
       "      <td>1.0</td>\n",
       "      <td>8.0</td>\n",
       "      <td>9.0</td>\n",
       "      <td>2.000000</td>\n",
       "      <td>1.000000</td>\n",
       "      <td>1.000000</td>\n",
       "      <td>1.000000</td>\n",
       "      <td>1.000000</td>\n",
       "      <td>1.000000</td>\n",
       "      <td>1.000000</td>\n",
       "      <td>...</td>\n",
       "      <td>0.090000</td>\n",
       "      <td>0.000000</td>\n",
       "      <td>0.028000</td>\n",
       "      <td>0.000000</td>\n",
       "      <td>0.002600</td>\n",
       "      <td>0.000000</td>\n",
       "      <td>2.000000</td>\n",
       "      <td>3.210000</td>\n",
       "      <td>381.000000</td>\n",
       "      <td>281.200000</td>\n",
       "    </tr>\n",
       "    <tr>\n",
       "      <th>50%</th>\n",
       "      <td>1.0</td>\n",
       "      <td>8.0</td>\n",
       "      <td>9.0</td>\n",
       "      <td>3.000000</td>\n",
       "      <td>3.000000</td>\n",
       "      <td>1.000000</td>\n",
       "      <td>2.000000</td>\n",
       "      <td>2.000000</td>\n",
       "      <td>2.000000</td>\n",
       "      <td>2.000000</td>\n",
       "      <td>...</td>\n",
       "      <td>0.159000</td>\n",
       "      <td>0.000000</td>\n",
       "      <td>0.069000</td>\n",
       "      <td>0.000000</td>\n",
       "      <td>0.005100</td>\n",
       "      <td>0.000000</td>\n",
       "      <td>2.000000</td>\n",
       "      <td>6.240000</td>\n",
       "      <td>514.000000</td>\n",
       "      <td>379.300000</td>\n",
       "    </tr>\n",
       "    <tr>\n",
       "      <th>75%</th>\n",
       "      <td>1.0</td>\n",
       "      <td>8.0</td>\n",
       "      <td>9.0</td>\n",
       "      <td>4.000000</td>\n",
       "      <td>5.000000</td>\n",
       "      <td>2.000000</td>\n",
       "      <td>2.000000</td>\n",
       "      <td>4.000000</td>\n",
       "      <td>3.000000</td>\n",
       "      <td>3.000000</td>\n",
       "      <td>...</td>\n",
       "      <td>0.252000</td>\n",
       "      <td>0.000000</td>\n",
       "      <td>0.150000</td>\n",
       "      <td>0.000000</td>\n",
       "      <td>0.010700</td>\n",
       "      <td>0.000000</td>\n",
       "      <td>2.000000</td>\n",
       "      <td>12.435000</td>\n",
       "      <td>711.000000</td>\n",
       "      <td>524.700000</td>\n",
       "    </tr>\n",
       "    <tr>\n",
       "      <th>max</th>\n",
       "      <td>1.0</td>\n",
       "      <td>8.0</td>\n",
       "      <td>9.0</td>\n",
       "      <td>9.000000</td>\n",
       "      <td>5.000000</td>\n",
       "      <td>9.000000</td>\n",
       "      <td>9.000000</td>\n",
       "      <td>999.000000</td>\n",
       "      <td>3.000000</td>\n",
       "      <td>999.000000</td>\n",
       "      <td>...</td>\n",
       "      <td>1.290000</td>\n",
       "      <td>1.000000</td>\n",
       "      <td>25.760000</td>\n",
       "      <td>1.000000</td>\n",
       "      <td>0.843400</td>\n",
       "      <td>1.000000</td>\n",
       "      <td>3.000000</td>\n",
       "      <td>1071.300000</td>\n",
       "      <td>26801.000000</td>\n",
       "      <td>19779.100000</td>\n",
       "    </tr>\n",
       "  </tbody>\n",
       "</table>\n",
       "<p>8 rows × 1419 columns</p>\n",
       "</div>"
      ],
      "text/plain": [
       "       ACD011A  ACD011B  ACD011C       ACD040      ACD110       ALQ101  \\\n",
       "count   5548.0     16.0    166.0  2292.000000  975.000000  5223.000000   \n",
       "mean       1.0      8.0      9.0     3.109075    2.949744     1.312464   \n",
       "std        0.0      0.0      0.0     1.513612    1.731617     0.548327   \n",
       "min        1.0      8.0      9.0     1.000000    1.000000     1.000000   \n",
       "25%        1.0      8.0      9.0     2.000000    1.000000     1.000000   \n",
       "50%        1.0      8.0      9.0     3.000000    3.000000     1.000000   \n",
       "75%        1.0      8.0      9.0     4.000000    5.000000     2.000000   \n",
       "max        1.0      8.0      9.0     9.000000    5.000000     9.000000   \n",
       "\n",
       "            ALQ110      ALQ120Q      ALQ120U       ALQ130  ...       URXUTL  \\\n",
       "count  1576.000000  4312.000000  3460.000000  3463.000000  ...  2664.000000   \n",
       "mean      1.595812     4.787801     1.924566     3.534796  ...     0.186950   \n",
       "std       0.619028    35.079943     0.854441    29.410605  ...     0.133833   \n",
       "min       1.000000     0.000000     1.000000     1.000000  ...     0.013000   \n",
       "25%       1.000000     1.000000     1.000000     1.000000  ...     0.090000   \n",
       "50%       2.000000     2.000000     2.000000     2.000000  ...     0.159000   \n",
       "75%       2.000000     4.000000     3.000000     3.000000  ...     0.252000   \n",
       "max       9.000000   999.000000     3.000000   999.000000  ...     1.290000   \n",
       "\n",
       "          URDUTLLC       URXUTU     URDUTULC       URXUUR     URDUURLC  \\\n",
       "count  2664.000000  2664.000000  2664.000000  2664.000000  2664.000000   \n",
       "mean      0.007883     0.150535     0.162162     0.012038     0.177177   \n",
       "std       0.088452     0.576409     0.368669     0.034026     0.381890   \n",
       "min       0.000000     0.013000     0.000000     0.001400     0.000000   \n",
       "25%       0.000000     0.028000     0.000000     0.002600     0.000000   \n",
       "50%       0.000000     0.069000     0.000000     0.005100     0.000000   \n",
       "75%       0.000000     0.150000     0.000000     0.010700     0.000000   \n",
       "max       1.000000    25.760000     1.000000     0.843400     1.000000   \n",
       "\n",
       "           URXPREG       URXUAS        LBDB12      LBDB12SI  \n",
       "count  1261.000000  2662.000000   5316.000000   5316.000000  \n",
       "mean      1.969072    15.670639    640.100263    472.394865  \n",
       "std       0.251651    46.735936    751.967084    554.951537  \n",
       "min       1.000000     0.280000     18.000000     13.300000  \n",
       "25%       2.000000     3.210000    381.000000    281.200000  \n",
       "50%       2.000000     6.240000    514.000000    379.300000  \n",
       "75%       2.000000    12.435000    711.000000    524.700000  \n",
       "max       3.000000  1071.300000  26801.000000  19779.100000  \n",
       "\n",
       "[8 rows x 1419 columns]"
      ]
     },
     "execution_count": 26,
     "metadata": {},
     "output_type": "execute_result"
    }
   ],
   "source": [
    "df = pd.concat([data, demographics], axis=1, join='inner')\n",
    "df = pd.concat([df, labs], axis=1, join='inner')\n",
    "df.describe()\n",
    "#merge"
   ]
  },
  {
   "cell_type": "code",
   "execution_count": null,
   "metadata": {},
   "outputs": [],
   "source": []
  },
  {
   "cell_type": "markdown",
   "metadata": {},
   "source": [
    "**NaN Handling and Feature Column Selection**"
   ]
  },
  {
   "cell_type": "code",
   "execution_count": 28,
   "metadata": {},
   "outputs": [
    {
     "data": {
      "text/html": [
       "<div>\n",
       "<style scoped>\n",
       "    .dataframe tbody tr th:only-of-type {\n",
       "        vertical-align: middle;\n",
       "    }\n",
       "\n",
       "    .dataframe tbody tr th {\n",
       "        vertical-align: top;\n",
       "    }\n",
       "\n",
       "    .dataframe thead th {\n",
       "        text-align: right;\n",
       "    }\n",
       "</style>\n",
       "<table border=\"1\" class=\"dataframe\">\n",
       "  <thead>\n",
       "    <tr style=\"text-align: right;\">\n",
       "      <th></th>\n",
       "      <th>ID</th>\n",
       "      <th>Gender</th>\n",
       "      <th>WeightAt25Yrs</th>\n",
       "      <th>HeightAt25Yrs</th>\n",
       "      <th>PlateletCount</th>\n",
       "      <th>CreatinePhosphokinase</th>\n",
       "      <th>HasArthritis</th>\n",
       "      <th>HasAsthma</th>\n",
       "      <th>AllergyCongestionPast12Months</th>\n",
       "      <th>Breast_fed</th>\n",
       "      <th>UseMilk&gt;=5x/wk</th>\n",
       "      <th>DrankMilkAge13to17yrs</th>\n",
       "      <th>DrankMilkAge18to35yrs</th>\n",
       "      <th>ChemicalPesticideUsedInHomePast7days</th>\n",
       "      <th>ChemicalWeedKillUsedExteriorHomePast7days</th>\n",
       "      <th>Past7DaysCardio20Minutes+</th>\n",
       "      <th>Past7DaysStrengthTone20Minutes+</th>\n",
       "      <th>Past7DaysCardio60Minutes+</th>\n",
       "    </tr>\n",
       "  </thead>\n",
       "  <tbody>\n",
       "    <tr>\n",
       "      <th>count</th>\n",
       "      <td>0.0</td>\n",
       "      <td>9813.000000</td>\n",
       "      <td>4842.000000</td>\n",
       "      <td>2667.000000</td>\n",
       "      <td>8544.000000</td>\n",
       "      <td>6542.000000</td>\n",
       "      <td>0.0</td>\n",
       "      <td>9422.000000</td>\n",
       "      <td>3680.000000</td>\n",
       "      <td>0.0</td>\n",
       "      <td>5561.000000</td>\n",
       "      <td>4126.000000</td>\n",
       "      <td>4126.000000</td>\n",
       "      <td>7532.000000</td>\n",
       "      <td>7531.000000</td>\n",
       "      <td>655.000000</td>\n",
       "      <td>655.000000</td>\n",
       "      <td>2887.000000</td>\n",
       "    </tr>\n",
       "    <tr>\n",
       "      <th>mean</th>\n",
       "      <td>NaN</td>\n",
       "      <td>1.509426</td>\n",
       "      <td>567.920074</td>\n",
       "      <td>373.831646</td>\n",
       "      <td>251.195108</td>\n",
       "      <td>153.986090</td>\n",
       "      <td>NaN</td>\n",
       "      <td>1.849395</td>\n",
       "      <td>1.716033</td>\n",
       "      <td>NaN</td>\n",
       "      <td>1.956662</td>\n",
       "      <td>2.663354</td>\n",
       "      <td>2.341978</td>\n",
       "      <td>1.925783</td>\n",
       "      <td>2.061214</td>\n",
       "      <td>3.413740</td>\n",
       "      <td>2.172519</td>\n",
       "      <td>5.805681</td>\n",
       "    </tr>\n",
       "    <tr>\n",
       "      <th>std</th>\n",
       "      <td>NaN</td>\n",
       "      <td>0.499937</td>\n",
       "      <td>1975.492188</td>\n",
       "      <td>1716.831150</td>\n",
       "      <td>66.054022</td>\n",
       "      <td>185.262311</td>\n",
       "      <td>NaN</td>\n",
       "      <td>0.422699</td>\n",
       "      <td>0.556719</td>\n",
       "      <td>NaN</td>\n",
       "      <td>0.875584</td>\n",
       "      <td>0.828785</td>\n",
       "      <td>0.898817</td>\n",
       "      <td>0.533254</td>\n",
       "      <td>0.925856</td>\n",
       "      <td>4.320649</td>\n",
       "      <td>2.038432</td>\n",
       "      <td>5.354061</td>\n",
       "    </tr>\n",
       "    <tr>\n",
       "      <th>min</th>\n",
       "      <td>NaN</td>\n",
       "      <td>1.000000</td>\n",
       "      <td>55.000000</td>\n",
       "      <td>50.000000</td>\n",
       "      <td>18.000000</td>\n",
       "      <td>6.000000</td>\n",
       "      <td>NaN</td>\n",
       "      <td>1.000000</td>\n",
       "      <td>1.000000</td>\n",
       "      <td>NaN</td>\n",
       "      <td>1.000000</td>\n",
       "      <td>0.000000</td>\n",
       "      <td>0.000000</td>\n",
       "      <td>1.000000</td>\n",
       "      <td>1.000000</td>\n",
       "      <td>0.000000</td>\n",
       "      <td>0.000000</td>\n",
       "      <td>0.000000</td>\n",
       "    </tr>\n",
       "    <tr>\n",
       "      <th>25%</th>\n",
       "      <td>NaN</td>\n",
       "      <td>1.000000</td>\n",
       "      <td>125.000000</td>\n",
       "      <td>63.000000</td>\n",
       "      <td>206.000000</td>\n",
       "      <td>75.000000</td>\n",
       "      <td>NaN</td>\n",
       "      <td>2.000000</td>\n",
       "      <td>1.000000</td>\n",
       "      <td>NaN</td>\n",
       "      <td>1.000000</td>\n",
       "      <td>2.000000</td>\n",
       "      <td>2.000000</td>\n",
       "      <td>2.000000</td>\n",
       "      <td>2.000000</td>\n",
       "      <td>1.000000</td>\n",
       "      <td>0.000000</td>\n",
       "      <td>4.000000</td>\n",
       "    </tr>\n",
       "    <tr>\n",
       "      <th>50%</th>\n",
       "      <td>NaN</td>\n",
       "      <td>2.000000</td>\n",
       "      <td>150.000000</td>\n",
       "      <td>66.000000</td>\n",
       "      <td>244.000000</td>\n",
       "      <td>108.000000</td>\n",
       "      <td>NaN</td>\n",
       "      <td>2.000000</td>\n",
       "      <td>2.000000</td>\n",
       "      <td>NaN</td>\n",
       "      <td>2.000000</td>\n",
       "      <td>3.000000</td>\n",
       "      <td>3.000000</td>\n",
       "      <td>2.000000</td>\n",
       "      <td>2.000000</td>\n",
       "      <td>3.000000</td>\n",
       "      <td>2.000000</td>\n",
       "      <td>7.000000</td>\n",
       "    </tr>\n",
       "    <tr>\n",
       "      <th>75%</th>\n",
       "      <td>NaN</td>\n",
       "      <td>2.000000</td>\n",
       "      <td>180.000000</td>\n",
       "      <td>70.000000</td>\n",
       "      <td>288.000000</td>\n",
       "      <td>173.000000</td>\n",
       "      <td>NaN</td>\n",
       "      <td>2.000000</td>\n",
       "      <td>2.000000</td>\n",
       "      <td>NaN</td>\n",
       "      <td>3.000000</td>\n",
       "      <td>3.000000</td>\n",
       "      <td>3.000000</td>\n",
       "      <td>2.000000</td>\n",
       "      <td>2.000000</td>\n",
       "      <td>5.000000</td>\n",
       "      <td>3.000000</td>\n",
       "      <td>7.000000</td>\n",
       "    </tr>\n",
       "    <tr>\n",
       "      <th>max</th>\n",
       "      <td>NaN</td>\n",
       "      <td>2.000000</td>\n",
       "      <td>9999.000000</td>\n",
       "      <td>9999.000000</td>\n",
       "      <td>723.000000</td>\n",
       "      <td>3966.000000</td>\n",
       "      <td>NaN</td>\n",
       "      <td>9.000000</td>\n",
       "      <td>9.000000</td>\n",
       "      <td>NaN</td>\n",
       "      <td>9.000000</td>\n",
       "      <td>9.000000</td>\n",
       "      <td>9.000000</td>\n",
       "      <td>9.000000</td>\n",
       "      <td>9.000000</td>\n",
       "      <td>99.000000</td>\n",
       "      <td>7.000000</td>\n",
       "      <td>99.000000</td>\n",
       "    </tr>\n",
       "  </tbody>\n",
       "</table>\n",
       "</div>"
      ],
      "text/plain": [
       "        ID       Gender  WeightAt25Yrs  HeightAt25Yrs  PlateletCount  \\\n",
       "count  0.0  9813.000000    4842.000000    2667.000000    8544.000000   \n",
       "mean   NaN     1.509426     567.920074     373.831646     251.195108   \n",
       "std    NaN     0.499937    1975.492188    1716.831150      66.054022   \n",
       "min    NaN     1.000000      55.000000      50.000000      18.000000   \n",
       "25%    NaN     1.000000     125.000000      63.000000     206.000000   \n",
       "50%    NaN     2.000000     150.000000      66.000000     244.000000   \n",
       "75%    NaN     2.000000     180.000000      70.000000     288.000000   \n",
       "max    NaN     2.000000    9999.000000    9999.000000     723.000000   \n",
       "\n",
       "       CreatinePhosphokinase  HasArthritis    HasAsthma  \\\n",
       "count            6542.000000           0.0  9422.000000   \n",
       "mean              153.986090           NaN     1.849395   \n",
       "std               185.262311           NaN     0.422699   \n",
       "min                 6.000000           NaN     1.000000   \n",
       "25%                75.000000           NaN     2.000000   \n",
       "50%               108.000000           NaN     2.000000   \n",
       "75%               173.000000           NaN     2.000000   \n",
       "max              3966.000000           NaN     9.000000   \n",
       "\n",
       "       AllergyCongestionPast12Months  Breast_fed  UseMilk>=5x/wk  \\\n",
       "count                    3680.000000         0.0     5561.000000   \n",
       "mean                        1.716033         NaN        1.956662   \n",
       "std                         0.556719         NaN        0.875584   \n",
       "min                         1.000000         NaN        1.000000   \n",
       "25%                         1.000000         NaN        1.000000   \n",
       "50%                         2.000000         NaN        2.000000   \n",
       "75%                         2.000000         NaN        3.000000   \n",
       "max                         9.000000         NaN        9.000000   \n",
       "\n",
       "       DrankMilkAge13to17yrs  DrankMilkAge18to35yrs  \\\n",
       "count            4126.000000            4126.000000   \n",
       "mean                2.663354               2.341978   \n",
       "std                 0.828785               0.898817   \n",
       "min                 0.000000               0.000000   \n",
       "25%                 2.000000               2.000000   \n",
       "50%                 3.000000               3.000000   \n",
       "75%                 3.000000               3.000000   \n",
       "max                 9.000000               9.000000   \n",
       "\n",
       "       ChemicalPesticideUsedInHomePast7days  \\\n",
       "count                           7532.000000   \n",
       "mean                               1.925783   \n",
       "std                                0.533254   \n",
       "min                                1.000000   \n",
       "25%                                2.000000   \n",
       "50%                                2.000000   \n",
       "75%                                2.000000   \n",
       "max                                9.000000   \n",
       "\n",
       "       ChemicalWeedKillUsedExteriorHomePast7days  Past7DaysCardio20Minutes+  \\\n",
       "count                                7531.000000                 655.000000   \n",
       "mean                                    2.061214                   3.413740   \n",
       "std                                     0.925856                   4.320649   \n",
       "min                                     1.000000                   0.000000   \n",
       "25%                                     2.000000                   1.000000   \n",
       "50%                                     2.000000                   3.000000   \n",
       "75%                                     2.000000                   5.000000   \n",
       "max                                     9.000000                  99.000000   \n",
       "\n",
       "       Past7DaysStrengthTone20Minutes+  Past7DaysCardio60Minutes+  \n",
       "count                       655.000000                2887.000000  \n",
       "mean                          2.172519                   5.805681  \n",
       "std                           2.038432                   5.354061  \n",
       "min                           0.000000                   0.000000  \n",
       "25%                           0.000000                   4.000000  \n",
       "50%                           2.000000                   7.000000  \n",
       "75%                           3.000000                   7.000000  \n",
       "max                           7.000000                  99.000000  "
      ]
     },
     "execution_count": 28,
     "metadata": {},
     "output_type": "execute_result"
    }
   ],
   "source": [
    "from sklearn.feature_selection import VarianceThreshold\n",
    "\n",
    "df.dropna(axis=1, how='all')\n",
    "df.dropna(axis=0, how='all')\n",
    "\n",
    "\n",
    "\n",
    "\n",
    "df = df.rename(columns = {'SEQN' : 'ID',\n",
    "                          'RIAGENDR' : 'Gender',\n",
    "                          'WHD120' : 'WeightAt25Yrs', \n",
    "                          'WHD130' : 'HeightAt25Yrs',\n",
    "                          'LBXPLTSI' : 'PlateletCount',\n",
    "                          'LBXSCK' : 'CreatinePhosphokinase',\n",
    "                          'MCQ160a' : 'HasArthritis',\n",
    "                          'MCQ010' : 'HasAsthma',\n",
    "                          'CSQ204' : 'AllergyCongestionPast12Months',\n",
    "                          'DRABF' : 'Breast_fed',\n",
    "                          'DBQ229' : 'UseMilk>=5x/wk',\n",
    "                          'DBQ235B' : 'DrankMilkAge13to17yrs',\n",
    "                          'DBQ235C' : 'DrankMilkAge18to35yrs',\n",
    "                          'PUQ100' : 'ChemicalPesticideUsedInHomePast7days',\n",
    "                          'PUQ110' : 'ChemicalWeedKillUsedExteriorHomePast7days',\n",
    "                          'PAQ677' : 'Past7DaysCardio20Minutes+',\n",
    "                          'PAQ678' : 'Past7DaysStrengthTone20Minutes+',\n",
    "                          'PAQ706' : 'Past7DaysCardio60Minutes+'})\n",
    "\n",
    "df = df.loc[:, ['ID', 'Gender', 'WeightAt25Yrs', 'HeightAt25Yrs','PlateletCount', 'CreatinePhosphokinase', \n",
    "                'HasArthritis', 'HasAsthma', 'AllergyCongestionPast12Months', 'Breast_fed', 'UseMilk>=5x/wk', \n",
    "                'DrankMilkAge13to17yrs', 'DrankMilkAge18to35yrs', 'ChemicalPesticideUsedInHomePast7days', 'ChemicalWeedKillUsedExteriorHomePast7days',\n",
    "                'Past7DaysCardio20Minutes+', 'Past7DaysStrengthTone20Minutes+', 'Past7DaysCardio60Minutes+']]\n",
    "\n",
    "df.describe()\n",
    "\n",
    "\n",
    "\n",
    "\n",
    "\n"
   ]
  },
  {
   "cell_type": "markdown",
   "metadata": {},
   "source": [
    "**Feature Generation**\n",
    "new column should be created for BMI.  \n",
    "#The formula is BMI = kg/m2 where kg is a person’s weight in kilograms and m2 is their height in meters squared.\n",
    "'WeightAt25Yrs' in kg divided by the 'HeightAt25Yrs' in meters squared.  "
   ]
  },
  {
   "cell_type": "code",
   "execution_count": 29,
   "metadata": {},
   "outputs": [
    {
     "ename": "TypeError",
     "evalue": "unsupported operand type(s) for ** or pow(): 'str' and 'int'",
     "output_type": "error",
     "traceback": [
      "\u001b[0;31m---------------------------------------------------------------------------\u001b[0m",
      "\u001b[0;31mTypeError\u001b[0m                                 Traceback (most recent call last)",
      "\u001b[0;32m<ipython-input-29-8d8011b146a9>\u001b[0m in \u001b[0;36m<module>\u001b[0;34m\u001b[0m\n\u001b[0;32m----> 1\u001b[0;31m \u001b[0mdf\u001b[0m\u001b[0;34m.\u001b[0m\u001b[0minsert\u001b[0m\u001b[0;34m(\u001b[0m\u001b[0;36m4\u001b[0m\u001b[0;34m,\u001b[0m \u001b[0;34m'BMI'\u001b[0m\u001b[0;34m,\u001b[0m \u001b[0;34m[\u001b[0m\u001b[0;34m'WeightAt25Yrs'\u001b[0m \u001b[0;34m/\u001b[0m \u001b[0;34m(\u001b[0m\u001b[0;34m'HeightAt25Yrs'\u001b[0m\u001b[0;34m**\u001b[0m\u001b[0;36m2\u001b[0m\u001b[0;34m)\u001b[0m\u001b[0;34m,\u001b[0m \u001b[0;32mTrue\u001b[0m\u001b[0;34m]\u001b[0m\u001b[0;34m)\u001b[0m\u001b[0;34m\u001b[0m\u001b[0;34m\u001b[0m\u001b[0m\n\u001b[0m\u001b[1;32m      2\u001b[0m \u001b[0;31m#need to check the units for weight and height.\u001b[0m\u001b[0;34m\u001b[0m\u001b[0;34m\u001b[0m\u001b[0;34m\u001b[0m\u001b[0m\n",
      "\u001b[0;31mTypeError\u001b[0m: unsupported operand type(s) for ** or pow(): 'str' and 'int'"
     ]
    }
   ],
   "source": [
    "df.insert(4, 'BMI', ['WeightAt25Yrs' / ('HeightAt25Yrs'**2), True])\n",
    "#need to check the units for weight and height.\n",
    "#https://wwwn.cdc.gov/Nchs/Nhanes/2013-2014/WHQ_H.htm#Component_Description\n",
    "#English Instructions:\n",
    "    #ENTER HEIGHT IN FEET AND INCHES OR METERS AND CENTIMETERS.\n",
    "    #RECORD CURRENT WEIGHT. ENTER WEIGHT IN POUNDS OR KILOGRAMS. \n",
    "    #IF PREGNANT, ASK FOR WEIGHT BEFORE PREGNANCY. "
   ]
  },
  {
   "cell_type": "code",
   "execution_count": null,
   "metadata": {},
   "outputs": [],
   "source": []
  },
  {
   "cell_type": "code",
   "execution_count": null,
   "metadata": {},
   "outputs": [],
   "source": []
  },
  {
   "cell_type": "code",
   "execution_count": null,
   "metadata": {},
   "outputs": [],
   "source": []
  },
  {
   "cell_type": "code",
   "execution_count": null,
   "metadata": {},
   "outputs": [],
   "source": []
  },
  {
   "cell_type": "code",
   "execution_count": null,
   "metadata": {},
   "outputs": [],
   "source": []
  },
  {
   "cell_type": "code",
   "execution_count": null,
   "metadata": {},
   "outputs": [],
   "source": []
  },
  {
   "cell_type": "code",
   "execution_count": null,
   "metadata": {},
   "outputs": [],
   "source": []
  },
  {
   "cell_type": "code",
   "execution_count": null,
   "metadata": {},
   "outputs": [],
   "source": []
  },
  {
   "cell_type": "code",
   "execution_count": 6,
   "metadata": {},
   "outputs": [],
   "source": [
    "#https://wwwn.cdc.gov/Nchs/Nhanes/Search/variablelist.aspx?Component=Questionnaire&CycleBeginYear=2013\n",
    "##The variable dictionary to understand the code at the top of each column.  "
   ]
  },
  {
   "cell_type": "code",
   "execution_count": 7,
   "metadata": {},
   "outputs": [
    {
     "name": "stdout",
     "output_type": "stream",
     "text": [
      "<class 'pandas.core.frame.DataFrame'>\n",
      "RangeIndex: 10175 entries, 0 to 10174\n",
      "Columns: 952 entries, ACD011A to WHQ520\n",
      "dtypes: float64(944), int64(6), object(2)\n",
      "memory usage: 73.9+ MB\n"
     ]
    }
   ],
   "source": [
    "data.info()"
   ]
  },
  {
   "cell_type": "markdown",
   "metadata": {},
   "source": [
    "Medical Conditions  MCQ084 \n",
    "difficulties in thinking or remembering that can make a big difference in everyday activities.\n",
    "The next question asks about difficulties in thinking or remembering that can make a big difference in everyday activities. This does not refer to occasionally forgetting your keys or the name of someone you recently met. This refers to things like confusion or memory loss that are happening more often or getting worse. We want to know how these difficulties impact {you/SP}. During the past 12 months, {have you/has she/has he} experienced confusion or memory loss that is happening more often or is getting worse?"
   ]
  },
  {
   "cell_type": "code",
   "execution_count": 8,
   "metadata": {},
   "outputs": [
    {
     "data": {
      "text/plain": [
       "2.0    1521\n",
       "1.0     318\n",
       "9.0       1\n",
       "Name: MCQ084, dtype: int64"
      ]
     },
     "execution_count": 8,
     "metadata": {},
     "output_type": "execute_result"
    }
   ],
   "source": [
    "data.MCQ084.value_counts()"
   ]
  },
  {
   "cell_type": "code",
   "execution_count": 9,
   "metadata": {},
   "outputs": [
    {
     "data": {
      "text/plain": [
       "1840"
      ]
     },
     "execution_count": 9,
     "metadata": {},
     "output_type": "execute_result"
    }
   ],
   "source": [
    "data.MCQ084.count()"
   ]
  },
  {
   "cell_type": "markdown",
   "metadata": {},
   "source": [
    "https://wwwn.cdc.gov/Nchs/Nhanes/2013-2014/MCQ_H.htm#MCQ084\n",
    "- 1521 is the count of No\n",
    "- 318 is the count of Yes\n",
    "- 1 is the count of don't know\n",
    "- 7,930 are missing"
   ]
  },
  {
   "cell_type": "code",
   "execution_count": 10,
   "metadata": {},
   "outputs": [
    {
     "data": {
      "text/plain": [
       "10165    NaN\n",
       "10166    2.0\n",
       "10167    1.0\n",
       "10168    NaN\n",
       "10169    NaN\n",
       "10170    NaN\n",
       "10171    NaN\n",
       "10172    NaN\n",
       "10173    NaN\n",
       "10174    NaN\n",
       "Name: MCQ084, dtype: float64"
      ]
     },
     "execution_count": 10,
     "metadata": {},
     "output_type": "execute_result"
    }
   ],
   "source": [
    "data.MCQ084.tail(10)"
   ]
  },
  {
   "cell_type": "code",
   "execution_count": 11,
   "metadata": {},
   "outputs": [
    {
     "data": {
      "text/plain": [
       "10127    2.0\n",
       "10130    2.0\n",
       "10135    2.0\n",
       "10145    2.0\n",
       "10151    2.0\n",
       "10155    2.0\n",
       "10160    2.0\n",
       "10161    1.0\n",
       "10166    2.0\n",
       "10167    1.0\n",
       "Name: MCQ084, dtype: float64"
      ]
     },
     "execution_count": 11,
     "metadata": {},
     "output_type": "execute_result"
    }
   ],
   "source": [
    "#drop the NaN values.  How many rows re\n",
    "memory_difficulty= data.MCQ084.dropna(axis = 0)\n",
    "memory_difficulty.tail(10)\n",
    "\n",
    "#axis=0  row   axis = 1  column"
   ]
  },
  {
   "cell_type": "code",
   "execution_count": 12,
   "metadata": {},
   "outputs": [
    {
     "data": {
      "text/plain": [
       "1840"
      ]
     },
     "execution_count": 12,
     "metadata": {},
     "output_type": "execute_result"
    }
   ],
   "source": [
    "memory_difficulty.count()"
   ]
  },
  {
   "cell_type": "code",
   "execution_count": null,
   "metadata": {},
   "outputs": [],
   "source": []
  },
  {
   "cell_type": "code",
   "execution_count": null,
   "metadata": {},
   "outputs": [],
   "source": []
  },
  {
   "cell_type": "markdown",
   "metadata": {},
   "source": [
    "https://wwwn.cdc.gov/Nchs/Nhanes/2013-2014/PAQ_H.htm\n",
    "-Past wk # days cardiovascular exercise  Physical Activity PAQ677\n",
    "the first column is the number od days, the second column is the count\n",
    "99 represents \"I don't know\"\n",
    "-8805 are missing"
   ]
  },
  {
   "cell_type": "markdown",
   "metadata": {},
   "source": [
    "Physical Activity PAQ677 On how many of the past 7 days did {you/SP} exercise or participate in physical activity for at least 20 minutes that made {you/him/her} sweat and breathe hard, such as basketball, soccer, running, swimming laps, fast bicycling, fast dancing, or similar activities?"
   ]
  },
  {
   "cell_type": "code",
   "execution_count": 13,
   "metadata": {},
   "outputs": [
    {
     "data": {
      "text/plain": [
       "5.0     154\n",
       "0.0     111\n",
       "3.0     110\n",
       "2.0      81\n",
       "4.0      65\n",
       "1.0      62\n",
       "7.0      52\n",
       "6.0      43\n",
       "99.0      1\n",
       "Name: PAQ677, dtype: int64"
      ]
     },
     "execution_count": 13,
     "metadata": {},
     "output_type": "execute_result"
    }
   ],
   "source": [
    "data.PAQ677.value_counts()"
   ]
  },
  {
   "cell_type": "code",
   "execution_count": 14,
   "metadata": {},
   "outputs": [
    {
     "data": {
      "text/plain": [
       "679"
      ]
     },
     "execution_count": 14,
     "metadata": {},
     "output_type": "execute_result"
    }
   ],
   "source": [
    "data.PAQ677.count()"
   ]
  },
  {
   "cell_type": "code",
   "execution_count": null,
   "metadata": {},
   "outputs": [],
   "source": []
  },
  {
   "cell_type": "code",
   "execution_count": null,
   "metadata": {},
   "outputs": [],
   "source": []
  },
  {
   "cell_type": "code",
   "execution_count": null,
   "metadata": {},
   "outputs": [],
   "source": []
  },
  {
   "cell_type": "markdown",
   "metadata": {},
   "source": [
    "-Past wk # days strengthened muscles Physical Activity PAQ678\n",
    "the first column is the number od days, the second column is the count\n",
    "-8805 are missing"
   ]
  },
  {
   "cell_type": "markdown",
   "metadata": {},
   "source": [
    "Physical Activity PAQ678 On how many of the past 7 days did {you/SP} do exercises to strengthen or tone {your/his/her} muscles, such as push-ups, sit-ups, or weight lifting?"
   ]
  },
  {
   "cell_type": "code",
   "execution_count": 15,
   "metadata": {},
   "outputs": [
    {
     "data": {
      "text/plain": [
       "0.0    207\n",
       "2.0    109\n",
       "3.0    106\n",
       "1.0     96\n",
       "5.0     77\n",
       "4.0     39\n",
       "7.0     32\n",
       "6.0     13\n",
       "Name: PAQ678, dtype: int64"
      ]
     },
     "execution_count": 15,
     "metadata": {},
     "output_type": "execute_result"
    }
   ],
   "source": [
    "data.PAQ678.value_counts()"
   ]
  },
  {
   "cell_type": "code",
   "execution_count": 16,
   "metadata": {},
   "outputs": [
    {
     "data": {
      "text/plain": [
       "679"
      ]
     },
     "execution_count": 16,
     "metadata": {},
     "output_type": "execute_result"
    }
   ],
   "source": [
    "data.PAQ678.count()"
   ]
  },
  {
   "cell_type": "code",
   "execution_count": null,
   "metadata": {},
   "outputs": [],
   "source": []
  },
  {
   "cell_type": "code",
   "execution_count": null,
   "metadata": {},
   "outputs": [],
   "source": []
  },
  {
   "cell_type": "code",
   "execution_count": null,
   "metadata": {},
   "outputs": [],
   "source": []
  },
  {
   "cell_type": "markdown",
   "metadata": {},
   "source": [
    "-Days physically active at least 60 min.\n",
    "-6495 are missing\n",
    "first column is number of days.\n",
    "99 represents the don't know, which in this set was 8."
   ]
  },
  {
   "cell_type": "markdown",
   "metadata": {},
   "source": [
    "Physical Activity PAQ706 During the past 7 days, on how many days {were you/was SP} physically active for a total of at least 60 minutes per day? Add up all the time {you/he/she} spent in any kind of physical activity that increased {your/his/her} heart rate and made {you/him/her} breathe hard some of the time."
   ]
  },
  {
   "cell_type": "code",
   "execution_count": 17,
   "metadata": {},
   "outputs": [
    {
     "data": {
      "text/plain": [
       "7.0     1799\n",
       "5.0      314\n",
       "3.0      194\n",
       "4.0      183\n",
       "2.0      159\n",
       "0.0      131\n",
       "6.0      111\n",
       "1.0       90\n",
       "99.0       8\n",
       "Name: PAQ706, dtype: int64"
      ]
     },
     "execution_count": 17,
     "metadata": {},
     "output_type": "execute_result"
    }
   ],
   "source": [
    "data.PAQ706.value_counts()"
   ]
  },
  {
   "cell_type": "code",
   "execution_count": 18,
   "metadata": {},
   "outputs": [
    {
     "data": {
      "text/plain": [
       "2989"
      ]
     },
     "execution_count": 18,
     "metadata": {},
     "output_type": "execute_result"
    }
   ],
   "source": [
    "data.PAQ706.count()"
   ]
  },
  {
   "cell_type": "code",
   "execution_count": null,
   "metadata": {},
   "outputs": [],
   "source": []
  },
  {
   "cell_type": "code",
   "execution_count": null,
   "metadata": {},
   "outputs": [],
   "source": []
  },
  {
   "cell_type": "code",
   "execution_count": null,
   "metadata": {},
   "outputs": [],
   "source": []
  }
 ],
 "metadata": {
  "kernelspec": {
   "display_name": "Python 3",
   "language": "python",
   "name": "python3"
  },
  "language_info": {
   "codemirror_mode": {
    "name": "ipython",
    "version": 3
   },
   "file_extension": ".py",
   "mimetype": "text/x-python",
   "name": "python",
   "nbconvert_exporter": "python",
   "pygments_lexer": "ipython3",
   "version": "3.7.3"
  }
 },
 "nbformat": 4,
 "nbformat_minor": 2
}
