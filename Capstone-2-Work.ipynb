{
 "cells": [
  {
   "cell_type": "code",
   "execution_count": null,
   "metadata": {},
   "outputs": [],
   "source": []
  },
  {
   "cell_type": "markdown",
   "metadata": {},
   "source": [
    "#https://wwwn.cdc.gov/Nchs/Nhanes/Search/variablelist.aspx?Component=Questionnaire&CycleBeginYear=2013\n",
    "##The variable dictionary to understand the code at the top of each column. "
   ]
  },
  {
   "cell_type": "code",
   "execution_count": 73,
   "metadata": {},
   "outputs": [],
   "source": [
    "import numpy as np # linear algebra\n",
    "import pandas as pd # data processing, CSV file I/O (e.g. pd.read_csv)\n",
    "from pandas.io.json import json_normalize \n",
    "import seaborn as sns\n",
    "import matplotlib\n",
    "import matplotlib.pyplot as plt\n",
    "from scipy import stats\n",
    "from scipy.stats import norm\n",
    "from scipy.stats import t\n",
    "from numpy.random import seed\n",
    "\n",
    "import re\n",
    "import sklearn\n",
    "from sklearn import preprocessing\n",
    "import warnings\n",
    "warnings.filterwarnings(\"ignore\")\n",
    "\n",
    "%matplotlib inline"
   ]
  },
  {
   "cell_type": "code",
   "execution_count": 74,
   "metadata": {},
   "outputs": [],
   "source": [
    "data = pd.read_csv('/Users/Sandi/Desktop/Projects/Capstone_2/questionnaire.csv')\n",
    "demographics = pd.read_csv('/Users/Sandi/Desktop/Projects/Capstone_2/demographic.csv')\n",
    "labs = pd.read_csv('/Users/Sandi/Desktop/Projects/Capstone_2/labs.csv')"
   ]
  },
  {
   "cell_type": "markdown",
   "metadata": {},
   "source": [
    "**Data Set Merge and Select Attribute**"
   ]
  },
  {
   "cell_type": "code",
   "execution_count": 75,
   "metadata": {},
   "outputs": [],
   "source": [
    "data.drop(['SEQN'], axis = 1, inplace=True)\n",
    "demographics.drop(['SEQN'], axis = 1, inplace=True)\n",
    "labs.drop(['SEQN'], axis = 1, inplace=True)\n",
    "#https://www.kaggle.com/what0919/diabetes-prediction"
   ]
  },
  {
   "cell_type": "code",
   "execution_count": 76,
   "metadata": {},
   "outputs": [],
   "source": [
    "df = pd.concat([data, demographics], axis=1, join='inner')\n",
    "df = pd.concat([df, labs], axis=1, join='inner')\n",
    "#merge"
   ]
  },
  {
   "cell_type": "code",
   "execution_count": 77,
   "metadata": {},
   "outputs": [
    {
     "data": {
      "text/html": [
       "<div>\n",
       "<style scoped>\n",
       "    .dataframe tbody tr th:only-of-type {\n",
       "        vertical-align: middle;\n",
       "    }\n",
       "\n",
       "    .dataframe tbody tr th {\n",
       "        vertical-align: top;\n",
       "    }\n",
       "\n",
       "    .dataframe thead th {\n",
       "        text-align: right;\n",
       "    }\n",
       "</style>\n",
       "<table border=\"1\" class=\"dataframe\">\n",
       "  <thead>\n",
       "    <tr style=\"text-align: right;\">\n",
       "      <th></th>\n",
       "      <th>ACD011A</th>\n",
       "      <th>ACD011B</th>\n",
       "      <th>ACD011C</th>\n",
       "      <th>ACD040</th>\n",
       "      <th>ACD110</th>\n",
       "      <th>ALQ101</th>\n",
       "      <th>ALQ110</th>\n",
       "      <th>ALQ120Q</th>\n",
       "      <th>ALQ120U</th>\n",
       "      <th>ALQ130</th>\n",
       "      <th>...</th>\n",
       "      <th>URXUTL</th>\n",
       "      <th>URDUTLLC</th>\n",
       "      <th>URXUTU</th>\n",
       "      <th>URDUTULC</th>\n",
       "      <th>URXUUR</th>\n",
       "      <th>URDUURLC</th>\n",
       "      <th>URXPREG</th>\n",
       "      <th>URXUAS</th>\n",
       "      <th>LBDB12</th>\n",
       "      <th>LBDB12SI</th>\n",
       "    </tr>\n",
       "  </thead>\n",
       "  <tbody>\n",
       "    <tr>\n",
       "      <th>0</th>\n",
       "      <td>1.0</td>\n",
       "      <td>NaN</td>\n",
       "      <td>NaN</td>\n",
       "      <td>NaN</td>\n",
       "      <td>NaN</td>\n",
       "      <td>1.0</td>\n",
       "      <td>NaN</td>\n",
       "      <td>1.0</td>\n",
       "      <td>3.0</td>\n",
       "      <td>1.0</td>\n",
       "      <td>...</td>\n",
       "      <td>NaN</td>\n",
       "      <td>NaN</td>\n",
       "      <td>NaN</td>\n",
       "      <td>NaN</td>\n",
       "      <td>NaN</td>\n",
       "      <td>NaN</td>\n",
       "      <td>NaN</td>\n",
       "      <td>NaN</td>\n",
       "      <td>524.0</td>\n",
       "      <td>386.7</td>\n",
       "    </tr>\n",
       "    <tr>\n",
       "      <th>1</th>\n",
       "      <td>1.0</td>\n",
       "      <td>NaN</td>\n",
       "      <td>NaN</td>\n",
       "      <td>NaN</td>\n",
       "      <td>NaN</td>\n",
       "      <td>1.0</td>\n",
       "      <td>NaN</td>\n",
       "      <td>7.0</td>\n",
       "      <td>1.0</td>\n",
       "      <td>4.0</td>\n",
       "      <td>...</td>\n",
       "      <td>NaN</td>\n",
       "      <td>NaN</td>\n",
       "      <td>NaN</td>\n",
       "      <td>NaN</td>\n",
       "      <td>NaN</td>\n",
       "      <td>NaN</td>\n",
       "      <td>NaN</td>\n",
       "      <td>NaN</td>\n",
       "      <td>507.0</td>\n",
       "      <td>374.2</td>\n",
       "    </tr>\n",
       "    <tr>\n",
       "      <th>2</th>\n",
       "      <td>1.0</td>\n",
       "      <td>NaN</td>\n",
       "      <td>NaN</td>\n",
       "      <td>NaN</td>\n",
       "      <td>NaN</td>\n",
       "      <td>1.0</td>\n",
       "      <td>NaN</td>\n",
       "      <td>0.0</td>\n",
       "      <td>NaN</td>\n",
       "      <td>NaN</td>\n",
       "      <td>...</td>\n",
       "      <td>NaN</td>\n",
       "      <td>NaN</td>\n",
       "      <td>NaN</td>\n",
       "      <td>NaN</td>\n",
       "      <td>NaN</td>\n",
       "      <td>NaN</td>\n",
       "      <td>NaN</td>\n",
       "      <td>NaN</td>\n",
       "      <td>732.0</td>\n",
       "      <td>540.2</td>\n",
       "    </tr>\n",
       "    <tr>\n",
       "      <th>3</th>\n",
       "      <td>1.0</td>\n",
       "      <td>NaN</td>\n",
       "      <td>NaN</td>\n",
       "      <td>NaN</td>\n",
       "      <td>NaN</td>\n",
       "      <td>NaN</td>\n",
       "      <td>NaN</td>\n",
       "      <td>NaN</td>\n",
       "      <td>NaN</td>\n",
       "      <td>NaN</td>\n",
       "      <td>...</td>\n",
       "      <td>0.062</td>\n",
       "      <td>0.0</td>\n",
       "      <td>0.238</td>\n",
       "      <td>0.0</td>\n",
       "      <td>0.0071</td>\n",
       "      <td>0.0</td>\n",
       "      <td>NaN</td>\n",
       "      <td>3.83</td>\n",
       "      <td>NaN</td>\n",
       "      <td>NaN</td>\n",
       "    </tr>\n",
       "    <tr>\n",
       "      <th>4</th>\n",
       "      <td>1.0</td>\n",
       "      <td>NaN</td>\n",
       "      <td>NaN</td>\n",
       "      <td>NaN</td>\n",
       "      <td>NaN</td>\n",
       "      <td>1.0</td>\n",
       "      <td>NaN</td>\n",
       "      <td>0.0</td>\n",
       "      <td>NaN</td>\n",
       "      <td>NaN</td>\n",
       "      <td>...</td>\n",
       "      <td>NaN</td>\n",
       "      <td>NaN</td>\n",
       "      <td>NaN</td>\n",
       "      <td>NaN</td>\n",
       "      <td>NaN</td>\n",
       "      <td>NaN</td>\n",
       "      <td>NaN</td>\n",
       "      <td>NaN</td>\n",
       "      <td>225.0</td>\n",
       "      <td>166.1</td>\n",
       "    </tr>\n",
       "  </tbody>\n",
       "</table>\n",
       "<p>5 rows × 1421 columns</p>\n",
       "</div>"
      ],
      "text/plain": [
       "   ACD011A  ACD011B  ACD011C  ACD040  ACD110  ALQ101  ALQ110  ALQ120Q  \\\n",
       "0      1.0      NaN      NaN     NaN     NaN     1.0     NaN      1.0   \n",
       "1      1.0      NaN      NaN     NaN     NaN     1.0     NaN      7.0   \n",
       "2      1.0      NaN      NaN     NaN     NaN     1.0     NaN      0.0   \n",
       "3      1.0      NaN      NaN     NaN     NaN     NaN     NaN      NaN   \n",
       "4      1.0      NaN      NaN     NaN     NaN     1.0     NaN      0.0   \n",
       "\n",
       "   ALQ120U  ALQ130  ...  URXUTL  URDUTLLC  URXUTU  URDUTULC  URXUUR  URDUURLC  \\\n",
       "0      3.0     1.0  ...     NaN       NaN     NaN       NaN     NaN       NaN   \n",
       "1      1.0     4.0  ...     NaN       NaN     NaN       NaN     NaN       NaN   \n",
       "2      NaN     NaN  ...     NaN       NaN     NaN       NaN     NaN       NaN   \n",
       "3      NaN     NaN  ...   0.062       0.0   0.238       0.0  0.0071       0.0   \n",
       "4      NaN     NaN  ...     NaN       NaN     NaN       NaN     NaN       NaN   \n",
       "\n",
       "   URXPREG  URXUAS  LBDB12  LBDB12SI  \n",
       "0      NaN     NaN   524.0     386.7  \n",
       "1      NaN     NaN   507.0     374.2  \n",
       "2      NaN     NaN   732.0     540.2  \n",
       "3      NaN    3.83     NaN       NaN  \n",
       "4      NaN     NaN   225.0     166.1  \n",
       "\n",
       "[5 rows x 1421 columns]"
      ]
     },
     "execution_count": 77,
     "metadata": {},
     "output_type": "execute_result"
    }
   ],
   "source": [
    "df.head()"
   ]
  },
  {
   "cell_type": "markdown",
   "metadata": {},
   "source": [
    "**NaN Handling and Feature Column Selection**"
   ]
  },
  {
   "cell_type": "code",
   "execution_count": 78,
   "metadata": {},
   "outputs": [],
   "source": [
    "from sklearn.feature_selection import VarianceThreshold\n",
    "\n",
    "df = df.rename(columns = {'SEQN' : 'ID',\n",
    "                          'RIAGENDR' : 'Gender',\n",
    "                          'RIDAGEYR' : 'AgeAtSurvey', \n",
    "                          'WHD120' : 'WeightAt25Yrs', \n",
    "                          'WHD130' : 'HeightAt25Yrs',\n",
    "                          'LBXPLTSI' : 'PlateletCount',\n",
    "                          'LBXSCK' : 'CreatinePhosphokinase',\n",
    "                          'MCQ160A' : 'HasArthritis',\n",
    "                          'MCQ010' : 'HasAsthma',\n",
    "                          'CSQ204' : 'AllergyCongestionPast12Months',\n",
    "                          'DBQ010' : 'Breast_fed',\n",
    "                          'DBQ229' : 'UseMilk>=5x/wk',\n",
    "                          'DBQ235B' : 'DrankMilkAge13to17yrs',\n",
    "                          'DBQ235C' : 'DrankMilkAge18to35yrs',\n",
    "                          'PUQ100' : 'ChemicalPesticideUsedInHomePast7days',\n",
    "                          'PUQ110' : 'ChemicalWeedKillUsedExteriorHomePast7days',\n",
    "                          'PAQ610' : 'NumberOfDays/WeekVigorousWork',\n",
    "                          'PAD615' : 'Minutes/DayVigorousIntensityWork',\n",
    "                          'PAQ625' : 'NumberOfDays/WeekModerateWork',\n",
    "                          'PAD630' : 'Minutes/DayModerateIntensityWork',\n",
    "                          'PAQ635' : 'WalkOrBicycle10+Min/weekYN',\n",
    "                          'PAQ640' : 'NumberDays/WeekWalkBicycle',\n",
    "                          'PAD645' : 'Minutes/DayWalkBicycleTransportation',\n",
    "                          'PAQ650' : 'VigorousRecreationalActivities10+min/WeekYN',\n",
    "                          'PAQ655' : 'Days/WeekVigorousRecreationalActivities',\n",
    "                          'PAD660' : 'Minutes/DayVigorousRecreationalActivities',\n",
    "                          'PAQ665' : 'ModerateRecreationalActivities10+min/WeekYN',\n",
    "                          'PAQ670' : 'Days/WeekModerateRecreationalActivities',\n",
    "                          'PAD675' : 'Minutes/DayModerateRecreationalActivities',\n",
    "                          'PAD680' : 'Minutes/DaySedentaryActivity'})\n",
    "\n",
    "df = df.loc[:, ['ID', 'Gender', 'AgeAtSurvey', 'WeightAt25Yrs', 'HeightAt25Yrs','PlateletCount', 'CreatinePhosphokinase', \n",
    "                'HasArthritis', 'HasAsthma', 'AllergyCongestionPast12Months', 'Breast_fed', 'UseMilk>=5x/wk', \n",
    "                'DrankMilkAge13to17yrs', 'DrankMilkAge18to35yrs', 'ChemicalPesticideUsedInHomePast7days', 'ChemicalWeedKillUsedExteriorHomePast7days',\n",
    "                'NumberOfDays/WeekVigorousWork', 'Minutes/DayVigorousIntensityWork',  \n",
    "                'NumberOfDays/WeekModerateWork', 'Minutes/DayModerateIntensityWork', \n",
    "                'WalkOrBicycle10+Min/weekYN', 'NumberDays/WeekWalkBicycle',\n",
    "                'Minutes/DayWalkBicycleTransportation', 'VigorousRecreationalActivities10+min/WeekYN', \n",
    "                'Days/WeekVigorousRecreationalActivities',\n",
    "                'Minutes/DayVigorousRecreationalActivities', 'ModerateRecreationalActivities10+min/WeekYN', \n",
    "                'Days/WeekModerateRecreationalActivities',\n",
    "                'Minutes/DayModerateRecreationalActivities', 'Minutes/DaySedentaryActivity']]\n",
    "\n",
    "#'PAQ677' : 'Past7DaysCardio20Minutes+','PAQ678' : 'Past7DaysStrengthTone20Minutes+', 'PAQ706' : 'Past7DaysCardio60Minutes+'\n"
   ]
  },
  {
   "cell_type": "code",
   "execution_count": 79,
   "metadata": {},
   "outputs": [
    {
     "data": {
      "text/html": [
       "<div>\n",
       "<style scoped>\n",
       "    .dataframe tbody tr th:only-of-type {\n",
       "        vertical-align: middle;\n",
       "    }\n",
       "\n",
       "    .dataframe tbody tr th {\n",
       "        vertical-align: top;\n",
       "    }\n",
       "\n",
       "    .dataframe thead th {\n",
       "        text-align: right;\n",
       "    }\n",
       "</style>\n",
       "<table border=\"1\" class=\"dataframe\">\n",
       "  <thead>\n",
       "    <tr style=\"text-align: right;\">\n",
       "      <th></th>\n",
       "      <th>Total</th>\n",
       "      <th>Percent</th>\n",
       "    </tr>\n",
       "  </thead>\n",
       "  <tbody>\n",
       "    <tr>\n",
       "      <th>Gender</th>\n",
       "      <td>0</td>\n",
       "      <td>0.000000</td>\n",
       "    </tr>\n",
       "    <tr>\n",
       "      <th>AgeAtSurvey</th>\n",
       "      <td>0</td>\n",
       "      <td>0.000000</td>\n",
       "    </tr>\n",
       "    <tr>\n",
       "      <th>HasAsthma</th>\n",
       "      <td>391</td>\n",
       "      <td>3.984510</td>\n",
       "    </tr>\n",
       "    <tr>\n",
       "      <th>PlateletCount</th>\n",
       "      <td>1269</td>\n",
       "      <td>12.931825</td>\n",
       "    </tr>\n",
       "    <tr>\n",
       "      <th>ChemicalPesticideUsedInHomePast7days</th>\n",
       "      <td>2281</td>\n",
       "      <td>23.244675</td>\n",
       "    </tr>\n",
       "    <tr>\n",
       "      <th>ChemicalWeedKillUsedExteriorHomePast7days</th>\n",
       "      <td>2282</td>\n",
       "      <td>23.254866</td>\n",
       "    </tr>\n",
       "    <tr>\n",
       "      <th>VigorousRecreationalActivities10+min/WeekYN</th>\n",
       "      <td>2925</td>\n",
       "      <td>29.807398</td>\n",
       "    </tr>\n",
       "    <tr>\n",
       "      <th>WalkOrBicycle10+Min/weekYN</th>\n",
       "      <td>2925</td>\n",
       "      <td>29.807398</td>\n",
       "    </tr>\n",
       "    <tr>\n",
       "      <th>ModerateRecreationalActivities10+min/WeekYN</th>\n",
       "      <td>2927</td>\n",
       "      <td>29.827779</td>\n",
       "    </tr>\n",
       "    <tr>\n",
       "      <th>Minutes/DaySedentaryActivity</th>\n",
       "      <td>2933</td>\n",
       "      <td>29.888923</td>\n",
       "    </tr>\n",
       "    <tr>\n",
       "      <th>CreatinePhosphokinase</th>\n",
       "      <td>3271</td>\n",
       "      <td>33.333333</td>\n",
       "    </tr>\n",
       "    <tr>\n",
       "      <th>UseMilk&gt;=5x/wk</th>\n",
       "      <td>4252</td>\n",
       "      <td>43.330276</td>\n",
       "    </tr>\n",
       "    <tr>\n",
       "      <th>HasArthritis</th>\n",
       "      <td>4252</td>\n",
       "      <td>43.330276</td>\n",
       "    </tr>\n",
       "    <tr>\n",
       "      <th>WeightAt25Yrs</th>\n",
       "      <td>4971</td>\n",
       "      <td>50.657291</td>\n",
       "    </tr>\n",
       "    <tr>\n",
       "      <th>DrankMilkAge13to17yrs</th>\n",
       "      <td>5687</td>\n",
       "      <td>57.953735</td>\n",
       "    </tr>\n",
       "    <tr>\n",
       "      <th>DrankMilkAge18to35yrs</th>\n",
       "      <td>5687</td>\n",
       "      <td>57.953735</td>\n",
       "    </tr>\n",
       "    <tr>\n",
       "      <th>AllergyCongestionPast12Months</th>\n",
       "      <td>6133</td>\n",
       "      <td>62.498726</td>\n",
       "    </tr>\n",
       "    <tr>\n",
       "      <th>Days/WeekModerateRecreationalActivities</th>\n",
       "      <td>6867</td>\n",
       "      <td>69.978600</td>\n",
       "    </tr>\n",
       "    <tr>\n",
       "      <th>Minutes/DayModerateRecreationalActivities</th>\n",
       "      <td>6869</td>\n",
       "      <td>69.998981</td>\n",
       "    </tr>\n",
       "    <tr>\n",
       "      <th>HeightAt25Yrs</th>\n",
       "      <td>7146</td>\n",
       "      <td>72.821767</td>\n",
       "    </tr>\n",
       "    <tr>\n",
       "      <th>NumberOfDays/WeekModerateWork</th>\n",
       "      <td>7596</td>\n",
       "      <td>77.407521</td>\n",
       "    </tr>\n",
       "    <tr>\n",
       "      <th>Minutes/DayModerateIntensityWork</th>\n",
       "      <td>7604</td>\n",
       "      <td>77.489045</td>\n",
       "    </tr>\n",
       "    <tr>\n",
       "      <th>Days/WeekVigorousRecreationalActivities</th>\n",
       "      <td>7831</td>\n",
       "      <td>79.802303</td>\n",
       "    </tr>\n",
       "    <tr>\n",
       "      <th>Minutes/DayVigorousRecreationalActivities</th>\n",
       "      <td>7834</td>\n",
       "      <td>79.832875</td>\n",
       "    </tr>\n",
       "    <tr>\n",
       "      <th>NumberDays/WeekWalkBicycle</th>\n",
       "      <td>7847</td>\n",
       "      <td>79.965352</td>\n",
       "    </tr>\n",
       "    <tr>\n",
       "      <th>Minutes/DayWalkBicycleTransportation</th>\n",
       "      <td>7851</td>\n",
       "      <td>80.006114</td>\n",
       "    </tr>\n",
       "    <tr>\n",
       "      <th>Breast_fed</th>\n",
       "      <td>8010</td>\n",
       "      <td>81.626414</td>\n",
       "    </tr>\n",
       "    <tr>\n",
       "      <th>NumberOfDays/WeekVigorousWork</th>\n",
       "      <td>8678</td>\n",
       "      <td>88.433710</td>\n",
       "    </tr>\n",
       "    <tr>\n",
       "      <th>Minutes/DayVigorousIntensityWork</th>\n",
       "      <td>8682</td>\n",
       "      <td>88.474473</td>\n",
       "    </tr>\n",
       "    <tr>\n",
       "      <th>ID</th>\n",
       "      <td>9813</td>\n",
       "      <td>100.000000</td>\n",
       "    </tr>\n",
       "  </tbody>\n",
       "</table>\n",
       "</div>"
      ],
      "text/plain": [
       "                                             Total     Percent\n",
       "Gender                                           0    0.000000\n",
       "AgeAtSurvey                                      0    0.000000\n",
       "HasAsthma                                      391    3.984510\n",
       "PlateletCount                                 1269   12.931825\n",
       "ChemicalPesticideUsedInHomePast7days          2281   23.244675\n",
       "ChemicalWeedKillUsedExteriorHomePast7days     2282   23.254866\n",
       "VigorousRecreationalActivities10+min/WeekYN   2925   29.807398\n",
       "WalkOrBicycle10+Min/weekYN                    2925   29.807398\n",
       "ModerateRecreationalActivities10+min/WeekYN   2927   29.827779\n",
       "Minutes/DaySedentaryActivity                  2933   29.888923\n",
       "CreatinePhosphokinase                         3271   33.333333\n",
       "UseMilk>=5x/wk                                4252   43.330276\n",
       "HasArthritis                                  4252   43.330276\n",
       "WeightAt25Yrs                                 4971   50.657291\n",
       "DrankMilkAge13to17yrs                         5687   57.953735\n",
       "DrankMilkAge18to35yrs                         5687   57.953735\n",
       "AllergyCongestionPast12Months                 6133   62.498726\n",
       "Days/WeekModerateRecreationalActivities       6867   69.978600\n",
       "Minutes/DayModerateRecreationalActivities     6869   69.998981\n",
       "HeightAt25Yrs                                 7146   72.821767\n",
       "NumberOfDays/WeekModerateWork                 7596   77.407521\n",
       "Minutes/DayModerateIntensityWork              7604   77.489045\n",
       "Days/WeekVigorousRecreationalActivities       7831   79.802303\n",
       "Minutes/DayVigorousRecreationalActivities     7834   79.832875\n",
       "NumberDays/WeekWalkBicycle                    7847   79.965352\n",
       "Minutes/DayWalkBicycleTransportation          7851   80.006114\n",
       "Breast_fed                                    8010   81.626414\n",
       "NumberOfDays/WeekVigorousWork                 8678   88.433710\n",
       "Minutes/DayVigorousIntensityWork              8682   88.474473\n",
       "ID                                            9813  100.000000"
      ]
     },
     "execution_count": 79,
     "metadata": {},
     "output_type": "execute_result"
    }
   ],
   "source": [
    "total = df.isnull().sum().sort_values(ascending = True)\n",
    "percent = (df.isnull().sum() / df.isnull().count() * 100).sort_values(ascending = True)\n",
    "missing_data = pd.concat([total, percent], axis = 1, keys = ['Total','Percent'])\n",
    "missing_data"
   ]
  },
  {
   "cell_type": "code",
   "execution_count": 80,
   "metadata": {},
   "outputs": [
    {
     "data": {
      "text/plain": [
       "2.0    7933\n",
       "1.0    1480\n",
       "9.0       8\n",
       "7.0       1\n",
       "Name: HasAsthma, dtype: int64"
      ]
     },
     "execution_count": 80,
     "metadata": {},
     "output_type": "execute_result"
    }
   ],
   "source": [
    "df['HasAsthma'].value_counts()"
   ]
  },
  {
   "cell_type": "markdown",
   "metadata": {},
   "source": [
    "**Feature Generation**\n",
    "new column should be created for BMI.  \n",
    "#The formula is BMI = kg/m2 where kg is a person’s weight in kilograms and m2 is their height in meters squared.\n",
    "'WeightAt25Yrs' in kg divided by the 'HeightAt25Yrs' in meters squared.  "
   ]
  },
  {
   "cell_type": "code",
   "execution_count": 81,
   "metadata": {},
   "outputs": [],
   "source": [
    "df.insert(4, 'BMI', df['WeightAt25Yrs']/ (df['WeightAt25Yrs']**2), True)\n",
    "#need to check the units for weight and height.\n",
    "#https://wwwn.cdc.gov/Nchs/Nhanes/2013-2014/WHQ_H.htm#Component_Description\n",
    "#English Instructions:\n",
    "    #ENTER HEIGHT IN FEET AND INCHES OR METERS AND CENTIMETERS.\n",
    "    #RECORD CURRENT WEIGHT. ENTER WEIGHT IN POUNDS OR KILOGRAMS. \n",
    "    #IF PREGNANT, ASK FOR WEIGHT BEFORE PREGNANCY. "
   ]
  },
  {
   "cell_type": "code",
   "execution_count": 82,
   "metadata": {},
   "outputs": [
    {
     "name": "stdout",
     "output_type": "stream",
     "text": [
      "<class 'pandas.core.frame.DataFrame'>\n",
      "RangeIndex: 9813 entries, 0 to 9812\n",
      "Data columns (total 31 columns):\n",
      "ID                                             0 non-null float64\n",
      "Gender                                         9813 non-null int64\n",
      "AgeAtSurvey                                    9813 non-null int64\n",
      "WeightAt25Yrs                                  4842 non-null float64\n",
      "BMI                                            4842 non-null float64\n",
      "HeightAt25Yrs                                  2667 non-null float64\n",
      "PlateletCount                                  8544 non-null float64\n",
      "CreatinePhosphokinase                          6542 non-null float64\n",
      "HasArthritis                                   5561 non-null float64\n",
      "HasAsthma                                      9422 non-null float64\n",
      "AllergyCongestionPast12Months                  3680 non-null float64\n",
      "Breast_fed                                     1803 non-null float64\n",
      "UseMilk>=5x/wk                                 5561 non-null float64\n",
      "DrankMilkAge13to17yrs                          4126 non-null float64\n",
      "DrankMilkAge18to35yrs                          4126 non-null float64\n",
      "ChemicalPesticideUsedInHomePast7days           7532 non-null float64\n",
      "ChemicalWeedKillUsedExteriorHomePast7days      7531 non-null float64\n",
      "NumberOfDays/WeekVigorousWork                  1135 non-null float64\n",
      "Minutes/DayVigorousIntensityWork               1131 non-null float64\n",
      "NumberOfDays/WeekModerateWork                  2217 non-null float64\n",
      "Minutes/DayModerateIntensityWork               2209 non-null float64\n",
      "WalkOrBicycle10+Min/weekYN                     6888 non-null float64\n",
      "NumberDays/WeekWalkBicycle                     1966 non-null float64\n",
      "Minutes/DayWalkBicycleTransportation           1962 non-null float64\n",
      "VigorousRecreationalActivities10+min/WeekYN    6888 non-null float64\n",
      "Days/WeekVigorousRecreationalActivities        1982 non-null float64\n",
      "Minutes/DayVigorousRecreationalActivities      1979 non-null float64\n",
      "ModerateRecreationalActivities10+min/WeekYN    6886 non-null float64\n",
      "Days/WeekModerateRecreationalActivities        2946 non-null float64\n",
      "Minutes/DayModerateRecreationalActivities      2944 non-null float64\n",
      "Minutes/DaySedentaryActivity                   6880 non-null float64\n",
      "dtypes: float64(29), int64(2)\n",
      "memory usage: 2.3 MB\n"
     ]
    }
   ],
   "source": [
    "df.info()"
   ]
  },
  {
   "cell_type": "markdown",
   "metadata": {},
   "source": [
    "**Question:\n",
    "What types of correlations can be found amongst the data?**"
   ]
  },
  {
   "cell_type": "code",
   "execution_count": 83,
   "metadata": {},
   "outputs": [
    {
     "data": {
      "text/plain": [
       "<matplotlib.axes._subplots.AxesSubplot at 0x1a1f779a58>"
      ]
     },
     "execution_count": 83,
     "metadata": {},
     "output_type": "execute_result"
    },
    {
     "data": {
      "image/png": "[encoded data removed]",
      "text/plain": [
       "<Figure size 1440x1440 with 2 Axes>"
      ]
     },
     "metadata": {
      "needs_background": "light"
     },
     "output_type": "display_data"
    }
   ],
   "source": [
    "colormap = plt.cm.viridis\n",
    "plt.figure(figsize=(20,20))\n",
    "sns.heatmap(df.astype(float).drop(axis=1, labels='ID').corr(), linewidths=0.1, vmax=1.0, square=True, cmap=colormap, annot=True)"
   ]
  },
  {
   "cell_type": "markdown",
   "metadata": {},
   "source": [
    "**Question:  Is there a correlation with those who reported having been told they had arthritis, and their blood counts?**\n",
    "#When arthritis = 1.0, report the Creatine Phosphokinase.  \n"
   ]
  },
  {
   "cell_type": "code",
   "execution_count": 84,
   "metadata": {},
   "outputs": [
    {
     "data": {
      "text/plain": [
       "2.0    4093\n",
       "1.0    1455\n",
       "9.0      13\n",
       "Name: HasArthritis, dtype: int64"
      ]
     },
     "execution_count": 84,
     "metadata": {},
     "output_type": "execute_result"
    }
   ],
   "source": [
    "#https://wwwn.cdc.gov/Nchs/Nhanes/2013-2014/MCQ_H.htm#MCQ160a\n",
    "df['HasArthritis'].value_counts()\n",
    "#those marked as 1.0 said yes that a doctor or health pro told them they had arthritis"
   ]
  },
  {
   "cell_type": "code",
   "execution_count": 85,
   "metadata": {},
   "outputs": [
    {
     "data": {
      "text/html": [
       "<div>\n",
       "<style scoped>\n",
       "    .dataframe tbody tr th:only-of-type {\n",
       "        vertical-align: middle;\n",
       "    }\n",
       "\n",
       "    .dataframe tbody tr th {\n",
       "        vertical-align: top;\n",
       "    }\n",
       "\n",
       "    .dataframe thead th {\n",
       "        text-align: right;\n",
       "    }\n",
       "</style>\n",
       "<table border=\"1\" class=\"dataframe\">\n",
       "  <thead>\n",
       "    <tr style=\"text-align: right;\">\n",
       "      <th></th>\n",
       "      <th>CreatinePhosphokinase</th>\n",
       "      <th>PlateletCount</th>\n",
       "    </tr>\n",
       "  </thead>\n",
       "  <tbody>\n",
       "    <tr>\n",
       "      <th>0</th>\n",
       "      <td>174.0</td>\n",
       "      <td>204.0</td>\n",
       "    </tr>\n",
       "    <tr>\n",
       "      <th>4</th>\n",
       "      <td>60.0</td>\n",
       "      <td>300.0</td>\n",
       "    </tr>\n",
       "    <tr>\n",
       "      <th>5</th>\n",
       "      <td>340.0</td>\n",
       "      <td>249.0</td>\n",
       "    </tr>\n",
       "    <tr>\n",
       "      <th>7</th>\n",
       "      <td>120.0</td>\n",
       "      <td>180.0</td>\n",
       "    </tr>\n",
       "    <tr>\n",
       "      <th>9</th>\n",
       "      <td>220.0</td>\n",
       "      <td>187.0</td>\n",
       "    </tr>\n",
       "    <tr>\n",
       "      <th>50</th>\n",
       "      <td>NaN</td>\n",
       "      <td>221.0</td>\n",
       "    </tr>\n",
       "    <tr>\n",
       "      <th>56</th>\n",
       "      <td>88.0</td>\n",
       "      <td>243.0</td>\n",
       "    </tr>\n",
       "    <tr>\n",
       "      <th>58</th>\n",
       "      <td>NaN</td>\n",
       "      <td>294.0</td>\n",
       "    </tr>\n",
       "    <tr>\n",
       "      <th>59</th>\n",
       "      <td>67.0</td>\n",
       "      <td>196.0</td>\n",
       "    </tr>\n",
       "    <tr>\n",
       "      <th>61</th>\n",
       "      <td>NaN</td>\n",
       "      <td>370.0</td>\n",
       "    </tr>\n",
       "  </tbody>\n",
       "</table>\n",
       "</div>"
      ],
      "text/plain": [
       "    CreatinePhosphokinase  PlateletCount\n",
       "0                   174.0          204.0\n",
       "4                    60.0          300.0\n",
       "5                   340.0          249.0\n",
       "7                   120.0          180.0\n",
       "9                   220.0          187.0\n",
       "50                    NaN          221.0\n",
       "56                   88.0          243.0\n",
       "58                    NaN          294.0\n",
       "59                   67.0          196.0\n",
       "61                    NaN          370.0"
      ]
     },
     "execution_count": 85,
     "metadata": {},
     "output_type": "execute_result"
    }
   ],
   "source": [
    "arthritis_bc_yes = df.loc[(df['HasArthritis'] == 1), ['CreatinePhosphokinase', 'PlateletCount']]\n",
    "arthritis_bc_yes.head(10)"
   ]
  },
  {
   "cell_type": "code",
   "execution_count": 86,
   "metadata": {},
   "outputs": [
    {
     "data": {
      "text/html": [
       "<div>\n",
       "<style scoped>\n",
       "    .dataframe tbody tr th:only-of-type {\n",
       "        vertical-align: middle;\n",
       "    }\n",
       "\n",
       "    .dataframe tbody tr th {\n",
       "        vertical-align: top;\n",
       "    }\n",
       "\n",
       "    .dataframe thead th {\n",
       "        text-align: right;\n",
       "    }\n",
       "</style>\n",
       "<table border=\"1\" class=\"dataframe\">\n",
       "  <thead>\n",
       "    <tr style=\"text-align: right;\">\n",
       "      <th></th>\n",
       "      <th>CreatinePhosphokinase</th>\n",
       "      <th>PlateletCount</th>\n",
       "    </tr>\n",
       "  </thead>\n",
       "  <tbody>\n",
       "    <tr>\n",
       "      <th>0</th>\n",
       "      <td>174.0</td>\n",
       "      <td>204.0</td>\n",
       "    </tr>\n",
       "    <tr>\n",
       "      <th>4</th>\n",
       "      <td>60.0</td>\n",
       "      <td>300.0</td>\n",
       "    </tr>\n",
       "    <tr>\n",
       "      <th>5</th>\n",
       "      <td>340.0</td>\n",
       "      <td>249.0</td>\n",
       "    </tr>\n",
       "    <tr>\n",
       "      <th>7</th>\n",
       "      <td>120.0</td>\n",
       "      <td>180.0</td>\n",
       "    </tr>\n",
       "    <tr>\n",
       "      <th>9</th>\n",
       "      <td>220.0</td>\n",
       "      <td>187.0</td>\n",
       "    </tr>\n",
       "    <tr>\n",
       "      <th>56</th>\n",
       "      <td>88.0</td>\n",
       "      <td>243.0</td>\n",
       "    </tr>\n",
       "    <tr>\n",
       "      <th>59</th>\n",
       "      <td>67.0</td>\n",
       "      <td>196.0</td>\n",
       "    </tr>\n",
       "    <tr>\n",
       "      <th>69</th>\n",
       "      <td>128.0</td>\n",
       "      <td>334.0</td>\n",
       "    </tr>\n",
       "    <tr>\n",
       "      <th>71</th>\n",
       "      <td>80.0</td>\n",
       "      <td>182.0</td>\n",
       "    </tr>\n",
       "    <tr>\n",
       "      <th>81</th>\n",
       "      <td>142.0</td>\n",
       "      <td>267.0</td>\n",
       "    </tr>\n",
       "  </tbody>\n",
       "</table>\n",
       "</div>"
      ],
      "text/plain": [
       "    CreatinePhosphokinase  PlateletCount\n",
       "0                   174.0          204.0\n",
       "4                    60.0          300.0\n",
       "5                   340.0          249.0\n",
       "7                   120.0          180.0\n",
       "9                   220.0          187.0\n",
       "56                   88.0          243.0\n",
       "59                   67.0          196.0\n",
       "69                  128.0          334.0\n",
       "71                   80.0          182.0\n",
       "81                  142.0          267.0"
      ]
     },
     "execution_count": 86,
     "metadata": {},
     "output_type": "execute_result"
    }
   ],
   "source": [
    "arthritis_bc = arthritis_bc_yes.dropna()\n",
    "#Eliminate NaN values, drop those rows.\n",
    "#dropna\n",
    "arthritis_bc.head(10)"
   ]
  },
  {
   "cell_type": "code",
   "execution_count": 87,
   "metadata": {},
   "outputs": [
    {
     "data": {
      "image/png": "[encoded data removed]",
      "text/plain": [
       "<Figure size 432x288 with 1 Axes>"
      ]
     },
     "metadata": {
      "needs_background": "light"
     },
     "output_type": "display_data"
    }
   ],
   "source": [
    "_ = plt.scatter(arthritis_bc['PlateletCount'], arthritis_bc['CreatinePhosphokinase'])\n",
    "\n",
    "_ = plt.xlabel('Platelet Count 1000cells/uL')\n",
    "_ = plt.ylabel('Creatine Phosphokinase (CPK)')\n",
    "_ = plt.title('Identified with Having Arthritis')  \n",
    "#Add cross hairs?"
   ]
  },
  {
   "cell_type": "markdown",
   "metadata": {},
   "source": [
    "**Answer:**  \n",
    "The scatterplot shows most participants identified with arthritis are in the lower left quadrant, which indicates lower platelet and CPK counts.  Based on this visual alone, a hyphotheses statement such that a participant with low levels of CPK and low platelet counts have a good chance of being told by a health professional that they have arthritis.\n",
    "Further, there are no participants in the upper right quadrant, which suggests that higher counts for both CPK and platelets relates to those not being diagnosed with arthritis.\n",
    "There are definitley a few outliers in the upper left quadrant that are not significant and would not be included when making generalizations.  \n",
    "There are more outliers in the lower right quadrant, perhaps significant enough to look further into whether the higher platelet counts play a role in diagnosing possible arthritis.\n",
    "\n",
    "In general, high CPK levels in the muscle suggest the presence of inflammatory muscle disease, but they can also be caused by trauma, injection into the muscle, or muscle disease due to hypothyroidism. Conversely, low levels of CPK can be indicative of rheumatoid arthritis.\n",
    "https://www.arthritis-health.com/glossary/creatine-phosphokinase"
   ]
  },
  {
   "cell_type": "code",
   "execution_count": null,
   "metadata": {},
   "outputs": [],
   "source": []
  },
  {
   "cell_type": "code",
   "execution_count": null,
   "metadata": {},
   "outputs": [],
   "source": []
  },
  {
   "cell_type": "code",
   "execution_count": null,
   "metadata": {},
   "outputs": [],
   "source": []
  },
  {
   "cell_type": "markdown",
   "metadata": {},
   "source": [
    "**Question:  Examining participants who have been diagnosed with asthma.  Can machine learning help in predicting asthma in people based on certain factors?**\n"
   ]
  },
  {
   "cell_type": "markdown",
   "metadata": {},
   "source": [
    "**Machine Learning**\n",
    "\n",
    "Below are studies to look at classification techniques common in Machine Learning. It is interesting to look at what clustering analysis and machine learning prediction will show.\n",
    "Look at those who have been identified as having asthma, connecting to their data.**\n"
   ]
  },
  {
   "cell_type": "code",
   "execution_count": 88,
   "metadata": {},
   "outputs": [],
   "source": [
    "from sklearn import linear_model\n",
    "from sklearn.svm import SVC\n",
    "from sklearn.model_selection import KFold\n",
    "#from sklearn.cross_validation import KFold;\n",
    "from sklearn.metrics import mean_squared_error, r2_score\n",
    "from sklearn.tree import DecisionTreeClassifier # Import Decision Tree Classifier\n",
    "from sklearn.model_selection import train_test_split # Import train_test_split function\n",
    "from sklearn import metrics #Import scikit-learn metrics module for accuracy calculation\n",
    "\n",
    "from sklearn import datasets\n",
    "from sklearn import svm"
   ]
  },
  {
   "cell_type": "code",
   "execution_count": 89,
   "metadata": {},
   "outputs": [],
   "source": [
    "asthma_all = df.loc[:,\n",
    "['AgeAtSurvey', 'PlateletCount', 'CreatinePhosphokinase', 'ChemicalPesticideUsedInHomePast7days', \n",
    " 'ChemicalWeedKillUsedExteriorHomePast7days',\n",
    " 'VigorousRecreationalActivities10+min/WeekYN','WalkOrBicycle10+Min/weekYN',\n",
    " 'ModerateRecreationalActivities10+min/WeekYN','Minutes/DaySedentaryActivity', 'UseMilk>=5x/wk', \n",
    "  'BMI', 'WeightAt25Yrs', 'HasArthritis', 'HasAsthma']]"
   ]
  },
  {
   "cell_type": "code",
   "execution_count": 90,
   "metadata": {},
   "outputs": [],
   "source": [
    "colnames_list = ['AgeAtSurvey', 'PlateletCount', 'CreatinePhosphokinase', 'ChemicalPesticideUsedInHomePast7days', \n",
    " 'ChemicalWeedKillUsedExteriorHomePast7days',\n",
    " 'VigorousRecreationalActivities10+min/WeekYN','WalkOrBicycle10+Min/weekYN',\n",
    " 'ModerateRecreationalActivities10+min/WeekYN','Minutes/DaySedentaryActivity', 'UseMilk>=5x/wk', \n",
    "  'BMI', 'WeightAt25Yrs', 'HasArthritis', 'HasAsthma']"
   ]
  },
  {
   "cell_type": "code",
   "execution_count": 91,
   "metadata": {},
   "outputs": [],
   "source": [
    "#Normalize data (length of 1)\n",
    "# Create x, where x the 'scores' column's values as floats\n",
    "x_normalize = asthma_all.values.astype(float)\n",
    "# Create a minimum and maximum processor object\n",
    "min_max_scaler = preprocessing.MinMaxScaler()\n",
    "# Create an object to transform the data to fit minmax processor\n",
    "x_scaled = min_max_scaler.fit_transform(x_normalize)\n",
    "# Run the normalizer on the dataframe\n",
    "asthma_all_normalized = pd.DataFrame(x_scaled)\n",
    "\n",
    "#will put all values into 0-1\n",
    "#then explanations of high and low rather than exact numbers"
   ]
  },
  {
   "cell_type": "code",
   "execution_count": 92,
   "metadata": {},
   "outputs": [],
   "source": [
    "#replace column names\n",
    "asthma_all_normalized.columns = colnames_list"
   ]
  },
  {
   "cell_type": "code",
   "execution_count": 93,
   "metadata": {},
   "outputs": [
    {
     "name": "stdout",
     "output_type": "stream",
     "text": [
      "<class 'pandas.core.frame.DataFrame'>\n",
      "RangeIndex: 9813 entries, 0 to 9812\n",
      "Data columns (total 14 columns):\n",
      "AgeAtSurvey                                    9813 non-null float64\n",
      "PlateletCount                                  8544 non-null float64\n",
      "CreatinePhosphokinase                          6542 non-null float64\n",
      "ChemicalPesticideUsedInHomePast7days           7532 non-null float64\n",
      "ChemicalWeedKillUsedExteriorHomePast7days      7531 non-null float64\n",
      "VigorousRecreationalActivities10+min/WeekYN    6888 non-null float64\n",
      "WalkOrBicycle10+Min/weekYN                     6888 non-null float64\n",
      "ModerateRecreationalActivities10+min/WeekYN    6886 non-null float64\n",
      "Minutes/DaySedentaryActivity                   6880 non-null float64\n",
      "UseMilk>=5x/wk                                 5561 non-null float64\n",
      "BMI                                            4842 non-null float64\n",
      "WeightAt25Yrs                                  4842 non-null float64\n",
      "HasArthritis                                   5561 non-null float64\n",
      "HasAsthma                                      9422 non-null float64\n",
      "dtypes: float64(14)\n",
      "memory usage: 1.0 MB\n"
     ]
    }
   ],
   "source": [
    "asthma_all_normalized.info()"
   ]
  },
  {
   "cell_type": "code",
   "execution_count": 94,
   "metadata": {},
   "outputs": [
    {
     "data": {
      "text/html": [
       "<div>\n",
       "<style scoped>\n",
       "    .dataframe tbody tr th:only-of-type {\n",
       "        vertical-align: middle;\n",
       "    }\n",
       "\n",
       "    .dataframe tbody tr th {\n",
       "        vertical-align: top;\n",
       "    }\n",
       "\n",
       "    .dataframe thead th {\n",
       "        text-align: right;\n",
       "    }\n",
       "</style>\n",
       "<table border=\"1\" class=\"dataframe\">\n",
       "  <thead>\n",
       "    <tr style=\"text-align: right;\">\n",
       "      <th></th>\n",
       "      <th>Total</th>\n",
       "      <th>Percent</th>\n",
       "    </tr>\n",
       "  </thead>\n",
       "  <tbody>\n",
       "    <tr>\n",
       "      <th>AgeAtSurvey</th>\n",
       "      <td>0</td>\n",
       "      <td>0.000000</td>\n",
       "    </tr>\n",
       "    <tr>\n",
       "      <th>HasAsthma</th>\n",
       "      <td>391</td>\n",
       "      <td>3.984510</td>\n",
       "    </tr>\n",
       "    <tr>\n",
       "      <th>PlateletCount</th>\n",
       "      <td>1269</td>\n",
       "      <td>12.931825</td>\n",
       "    </tr>\n",
       "    <tr>\n",
       "      <th>ChemicalPesticideUsedInHomePast7days</th>\n",
       "      <td>2281</td>\n",
       "      <td>23.244675</td>\n",
       "    </tr>\n",
       "    <tr>\n",
       "      <th>ChemicalWeedKillUsedExteriorHomePast7days</th>\n",
       "      <td>2282</td>\n",
       "      <td>23.254866</td>\n",
       "    </tr>\n",
       "    <tr>\n",
       "      <th>VigorousRecreationalActivities10+min/WeekYN</th>\n",
       "      <td>2925</td>\n",
       "      <td>29.807398</td>\n",
       "    </tr>\n",
       "    <tr>\n",
       "      <th>WalkOrBicycle10+Min/weekYN</th>\n",
       "      <td>2925</td>\n",
       "      <td>29.807398</td>\n",
       "    </tr>\n",
       "    <tr>\n",
       "      <th>ModerateRecreationalActivities10+min/WeekYN</th>\n",
       "      <td>2927</td>\n",
       "      <td>29.827779</td>\n",
       "    </tr>\n",
       "    <tr>\n",
       "      <th>Minutes/DaySedentaryActivity</th>\n",
       "      <td>2933</td>\n",
       "      <td>29.888923</td>\n",
       "    </tr>\n",
       "    <tr>\n",
       "      <th>CreatinePhosphokinase</th>\n",
       "      <td>3271</td>\n",
       "      <td>33.333333</td>\n",
       "    </tr>\n",
       "    <tr>\n",
       "      <th>UseMilk&gt;=5x/wk</th>\n",
       "      <td>4252</td>\n",
       "      <td>43.330276</td>\n",
       "    </tr>\n",
       "    <tr>\n",
       "      <th>HasArthritis</th>\n",
       "      <td>4252</td>\n",
       "      <td>43.330276</td>\n",
       "    </tr>\n",
       "    <tr>\n",
       "      <th>BMI</th>\n",
       "      <td>4971</td>\n",
       "      <td>50.657291</td>\n",
       "    </tr>\n",
       "    <tr>\n",
       "      <th>WeightAt25Yrs</th>\n",
       "      <td>4971</td>\n",
       "      <td>50.657291</td>\n",
       "    </tr>\n",
       "  </tbody>\n",
       "</table>\n",
       "</div>"
      ],
      "text/plain": [
       "                                             Total    Percent\n",
       "AgeAtSurvey                                      0   0.000000\n",
       "HasAsthma                                      391   3.984510\n",
       "PlateletCount                                 1269  12.931825\n",
       "ChemicalPesticideUsedInHomePast7days          2281  23.244675\n",
       "ChemicalWeedKillUsedExteriorHomePast7days     2282  23.254866\n",
       "VigorousRecreationalActivities10+min/WeekYN   2925  29.807398\n",
       "WalkOrBicycle10+Min/weekYN                    2925  29.807398\n",
       "ModerateRecreationalActivities10+min/WeekYN   2927  29.827779\n",
       "Minutes/DaySedentaryActivity                  2933  29.888923\n",
       "CreatinePhosphokinase                         3271  33.333333\n",
       "UseMilk>=5x/wk                                4252  43.330276\n",
       "HasArthritis                                  4252  43.330276\n",
       "BMI                                           4971  50.657291\n",
       "WeightAt25Yrs                                 4971  50.657291"
      ]
     },
     "execution_count": 94,
     "metadata": {},
     "output_type": "execute_result"
    }
   ],
   "source": [
    "total = asthma_all_normalized.isnull().sum().sort_values(ascending = True)\n",
    "percent = (asthma_all_normalized.isnull().sum() / asthma_all_normalized.isnull().count() * 100).sort_values(ascending = True)\n",
    "missing_data = pd.concat([total, percent], axis = 1, keys = ['Total','Percent'])\n",
    "missing_data\n",
    "#how many columns percentage of null values to drop them in the beginning."
   ]
  },
  {
   "cell_type": "code",
   "execution_count": 95,
   "metadata": {},
   "outputs": [
    {
     "data": {
      "text/html": [
       "<div>\n",
       "<style scoped>\n",
       "    .dataframe tbody tr th:only-of-type {\n",
       "        vertical-align: middle;\n",
       "    }\n",
       "\n",
       "    .dataframe tbody tr th {\n",
       "        vertical-align: top;\n",
       "    }\n",
       "\n",
       "    .dataframe thead th {\n",
       "        text-align: right;\n",
       "    }\n",
       "</style>\n",
       "<table border=\"1\" class=\"dataframe\">\n",
       "  <thead>\n",
       "    <tr style=\"text-align: right;\">\n",
       "      <th></th>\n",
       "      <th>AgeAtSurvey</th>\n",
       "      <th>PlateletCount</th>\n",
       "      <th>CreatinePhosphokinase</th>\n",
       "      <th>ChemicalPesticideUsedInHomePast7days</th>\n",
       "      <th>ChemicalWeedKillUsedExteriorHomePast7days</th>\n",
       "      <th>VigorousRecreationalActivities10+min/WeekYN</th>\n",
       "      <th>WalkOrBicycle10+Min/weekYN</th>\n",
       "      <th>ModerateRecreationalActivities10+min/WeekYN</th>\n",
       "      <th>Minutes/DaySedentaryActivity</th>\n",
       "      <th>UseMilk&gt;=5x/wk</th>\n",
       "      <th>BMI</th>\n",
       "      <th>WeightAt25Yrs</th>\n",
       "      <th>HasArthritis</th>\n",
       "      <th>HasAsthma</th>\n",
       "    </tr>\n",
       "  </thead>\n",
       "  <tbody>\n",
       "    <tr>\n",
       "      <th>0</th>\n",
       "      <td>0.8625</td>\n",
       "      <td>0.263830</td>\n",
       "      <td>0.042424</td>\n",
       "      <td>0.125</td>\n",
       "      <td>0.125</td>\n",
       "      <td>0.125</td>\n",
       "      <td>0.125</td>\n",
       "      <td>0.125</td>\n",
       "      <td>0.060006</td>\n",
       "      <td>0.125</td>\n",
       "      <td>0.270990</td>\n",
       "      <td>0.014582</td>\n",
       "      <td>0.000</td>\n",
       "      <td>0.125</td>\n",
       "    </tr>\n",
       "    <tr>\n",
       "      <th>1</th>\n",
       "      <td>0.6750</td>\n",
       "      <td>0.419858</td>\n",
       "      <td>0.035606</td>\n",
       "      <td>0.125</td>\n",
       "      <td>0.125</td>\n",
       "      <td>0.125</td>\n",
       "      <td>0.125</td>\n",
       "      <td>0.125</td>\n",
       "      <td>0.054005</td>\n",
       "      <td>0.000</td>\n",
       "      <td>0.215686</td>\n",
       "      <td>0.019610</td>\n",
       "      <td>0.125</td>\n",
       "      <td>0.000</td>\n",
       "    </tr>\n",
       "    <tr>\n",
       "      <th>2</th>\n",
       "      <td>0.9000</td>\n",
       "      <td>0.310638</td>\n",
       "      <td>0.009596</td>\n",
       "      <td>0.000</td>\n",
       "      <td>0.125</td>\n",
       "      <td>0.125</td>\n",
       "      <td>0.125</td>\n",
       "      <td>0.000</td>\n",
       "      <td>0.030003</td>\n",
       "      <td>0.000</td>\n",
       "      <td>0.285544</td>\n",
       "      <td>0.013576</td>\n",
       "      <td>0.125</td>\n",
       "      <td>0.125</td>\n",
       "    </tr>\n",
       "    <tr>\n",
       "      <th>4</th>\n",
       "      <td>0.9125</td>\n",
       "      <td>0.400000</td>\n",
       "      <td>0.013636</td>\n",
       "      <td>0.125</td>\n",
       "      <td>0.125</td>\n",
       "      <td>0.125</td>\n",
       "      <td>0.125</td>\n",
       "      <td>0.125</td>\n",
       "      <td>0.048005</td>\n",
       "      <td>0.000</td>\n",
       "      <td>0.404130</td>\n",
       "      <td>0.008045</td>\n",
       "      <td>0.000</td>\n",
       "      <td>0.125</td>\n",
       "    </tr>\n",
       "    <tr>\n",
       "      <th>5</th>\n",
       "      <td>0.7000</td>\n",
       "      <td>0.327660</td>\n",
       "      <td>0.084343</td>\n",
       "      <td>0.000</td>\n",
       "      <td>0.125</td>\n",
       "      <td>0.125</td>\n",
       "      <td>0.125</td>\n",
       "      <td>0.125</td>\n",
       "      <td>0.036004</td>\n",
       "      <td>0.250</td>\n",
       "      <td>0.278080</td>\n",
       "      <td>0.014079</td>\n",
       "      <td>0.000</td>\n",
       "      <td>0.125</td>\n",
       "    </tr>\n",
       "  </tbody>\n",
       "</table>\n",
       "</div>"
      ],
      "text/plain": [
       "   AgeAtSurvey  PlateletCount  CreatinePhosphokinase  \\\n",
       "0       0.8625       0.263830               0.042424   \n",
       "1       0.6750       0.419858               0.035606   \n",
       "2       0.9000       0.310638               0.009596   \n",
       "4       0.9125       0.400000               0.013636   \n",
       "5       0.7000       0.327660               0.084343   \n",
       "\n",
       "   ChemicalPesticideUsedInHomePast7days  \\\n",
       "0                                 0.125   \n",
       "1                                 0.125   \n",
       "2                                 0.000   \n",
       "4                                 0.125   \n",
       "5                                 0.000   \n",
       "\n",
       "   ChemicalWeedKillUsedExteriorHomePast7days  \\\n",
       "0                                      0.125   \n",
       "1                                      0.125   \n",
       "2                                      0.125   \n",
       "4                                      0.125   \n",
       "5                                      0.125   \n",
       "\n",
       "   VigorousRecreationalActivities10+min/WeekYN  WalkOrBicycle10+Min/weekYN  \\\n",
       "0                                        0.125                       0.125   \n",
       "1                                        0.125                       0.125   \n",
       "2                                        0.125                       0.125   \n",
       "4                                        0.125                       0.125   \n",
       "5                                        0.125                       0.125   \n",
       "\n",
       "   ModerateRecreationalActivities10+min/WeekYN  Minutes/DaySedentaryActivity  \\\n",
       "0                                        0.125                      0.060006   \n",
       "1                                        0.125                      0.054005   \n",
       "2                                        0.000                      0.030003   \n",
       "4                                        0.125                      0.048005   \n",
       "5                                        0.125                      0.036004   \n",
       "\n",
       "   UseMilk>=5x/wk       BMI  WeightAt25Yrs  HasArthritis  HasAsthma  \n",
       "0           0.125  0.270990       0.014582         0.000      0.125  \n",
       "1           0.000  0.215686       0.019610         0.125      0.000  \n",
       "2           0.000  0.285544       0.013576         0.125      0.125  \n",
       "4           0.000  0.404130       0.008045         0.000      0.125  \n",
       "5           0.250  0.278080       0.014079         0.000      0.125  "
      ]
     },
     "execution_count": 95,
     "metadata": {},
     "output_type": "execute_result"
    }
   ],
   "source": [
    "asthma_clean = asthma_all_normalized.dropna()\n",
    "asthma_clean.head()"
   ]
  },
  {
   "cell_type": "code",
   "execution_count": 96,
   "metadata": {},
   "outputs": [
    {
     "data": {
      "text/plain": [
       "0.125    2392\n",
       "0.000     432\n",
       "1.000       2\n",
       "Name: HasAsthma, dtype: int64"
      ]
     },
     "execution_count": 96,
     "metadata": {},
     "output_type": "execute_result"
    }
   ],
   "source": [
    "asthma_clean['HasAsthma'].value_counts()\n",
    "#this shows you need to revert HasAsthma back to original"
   ]
  },
  {
   "cell_type": "code",
   "execution_count": 97,
   "metadata": {},
   "outputs": [
    {
     "data": {
      "text/plain": [
       "0    2\n",
       "1    1\n",
       "2    2\n",
       "4    2\n",
       "5    2\n",
       "Name: HasAsthma, dtype: int64"
      ]
     },
     "execution_count": 97,
     "metadata": {},
     "output_type": "execute_result"
    }
   ],
   "source": [
    "class2 = asthma_clean['HasAsthma'] == 0.125\n",
    "asthma_clean['HasAsthma'][class2] = 2\n",
    "class1 = asthma_clean['HasAsthma'] == 0.000\n",
    "asthma_clean['HasAsthma'][class1] = 1\n",
    "asthma_clean['HasAsthma'] = asthma_clean['HasAsthma'].astype(int)\n",
    "asthma_clean['HasAsthma'].head()"
   ]
  },
  {
   "cell_type": "code",
   "execution_count": 98,
   "metadata": {},
   "outputs": [],
   "source": [
    "#split dataset in features and target variable\n",
    "#need to drop the HasAsthma here, so the x now has none\n",
    "colnames_list_noclass = ['AgeAtSurvey', 'PlateletCount', 'CreatinePhosphokinase', 'ChemicalPesticideUsedInHomePast7days', \n",
    " 'ChemicalWeedKillUsedExteriorHomePast7days',\n",
    " 'VigorousRecreationalActivities10+min/WeekYN','WalkOrBicycle10+Min/weekYN',\n",
    " 'ModerateRecreationalActivities10+min/WeekYN','Minutes/DaySedentaryActivity', 'UseMilk>=5x/wk', \n",
    "  'BMI', 'WeightAt25Yrs', 'HasArthritis']\n",
    "X = asthma_clean[colnames_list_noclass]\n",
    "y = asthma_clean['HasAsthma']\n",
    "##"
   ]
  },
  {
   "cell_type": "code",
   "execution_count": 99,
   "metadata": {},
   "outputs": [
    {
     "data": {
      "text/html": [
       "<div>\n",
       "<style scoped>\n",
       "    .dataframe tbody tr th:only-of-type {\n",
       "        vertical-align: middle;\n",
       "    }\n",
       "\n",
       "    .dataframe tbody tr th {\n",
       "        vertical-align: top;\n",
       "    }\n",
       "\n",
       "    .dataframe thead th {\n",
       "        text-align: right;\n",
       "    }\n",
       "</style>\n",
       "<table border=\"1\" class=\"dataframe\">\n",
       "  <thead>\n",
       "    <tr style=\"text-align: right;\">\n",
       "      <th></th>\n",
       "      <th>AgeAtSurvey</th>\n",
       "      <th>PlateletCount</th>\n",
       "      <th>CreatinePhosphokinase</th>\n",
       "      <th>ChemicalPesticideUsedInHomePast7days</th>\n",
       "      <th>ChemicalWeedKillUsedExteriorHomePast7days</th>\n",
       "      <th>VigorousRecreationalActivities10+min/WeekYN</th>\n",
       "      <th>WalkOrBicycle10+Min/weekYN</th>\n",
       "      <th>ModerateRecreationalActivities10+min/WeekYN</th>\n",
       "      <th>Minutes/DaySedentaryActivity</th>\n",
       "      <th>UseMilk&gt;=5x/wk</th>\n",
       "      <th>BMI</th>\n",
       "      <th>WeightAt25Yrs</th>\n",
       "      <th>HasArthritis</th>\n",
       "    </tr>\n",
       "  </thead>\n",
       "  <tbody>\n",
       "    <tr>\n",
       "      <th>0</th>\n",
       "      <td>0.8625</td>\n",
       "      <td>0.263830</td>\n",
       "      <td>0.042424</td>\n",
       "      <td>0.125</td>\n",
       "      <td>0.125</td>\n",
       "      <td>0.125</td>\n",
       "      <td>0.125</td>\n",
       "      <td>0.125</td>\n",
       "      <td>0.060006</td>\n",
       "      <td>0.125</td>\n",
       "      <td>0.270990</td>\n",
       "      <td>0.014582</td>\n",
       "      <td>0.000</td>\n",
       "    </tr>\n",
       "    <tr>\n",
       "      <th>1</th>\n",
       "      <td>0.6750</td>\n",
       "      <td>0.419858</td>\n",
       "      <td>0.035606</td>\n",
       "      <td>0.125</td>\n",
       "      <td>0.125</td>\n",
       "      <td>0.125</td>\n",
       "      <td>0.125</td>\n",
       "      <td>0.125</td>\n",
       "      <td>0.054005</td>\n",
       "      <td>0.000</td>\n",
       "      <td>0.215686</td>\n",
       "      <td>0.019610</td>\n",
       "      <td>0.125</td>\n",
       "    </tr>\n",
       "    <tr>\n",
       "      <th>2</th>\n",
       "      <td>0.9000</td>\n",
       "      <td>0.310638</td>\n",
       "      <td>0.009596</td>\n",
       "      <td>0.000</td>\n",
       "      <td>0.125</td>\n",
       "      <td>0.125</td>\n",
       "      <td>0.125</td>\n",
       "      <td>0.000</td>\n",
       "      <td>0.030003</td>\n",
       "      <td>0.000</td>\n",
       "      <td>0.285544</td>\n",
       "      <td>0.013576</td>\n",
       "      <td>0.125</td>\n",
       "    </tr>\n",
       "    <tr>\n",
       "      <th>4</th>\n",
       "      <td>0.9125</td>\n",
       "      <td>0.400000</td>\n",
       "      <td>0.013636</td>\n",
       "      <td>0.125</td>\n",
       "      <td>0.125</td>\n",
       "      <td>0.125</td>\n",
       "      <td>0.125</td>\n",
       "      <td>0.125</td>\n",
       "      <td>0.048005</td>\n",
       "      <td>0.000</td>\n",
       "      <td>0.404130</td>\n",
       "      <td>0.008045</td>\n",
       "      <td>0.000</td>\n",
       "    </tr>\n",
       "    <tr>\n",
       "      <th>5</th>\n",
       "      <td>0.7000</td>\n",
       "      <td>0.327660</td>\n",
       "      <td>0.084343</td>\n",
       "      <td>0.000</td>\n",
       "      <td>0.125</td>\n",
       "      <td>0.125</td>\n",
       "      <td>0.125</td>\n",
       "      <td>0.125</td>\n",
       "      <td>0.036004</td>\n",
       "      <td>0.250</td>\n",
       "      <td>0.278080</td>\n",
       "      <td>0.014079</td>\n",
       "      <td>0.000</td>\n",
       "    </tr>\n",
       "  </tbody>\n",
       "</table>\n",
       "</div>"
      ],
      "text/plain": [
       "   AgeAtSurvey  PlateletCount  CreatinePhosphokinase  \\\n",
       "0       0.8625       0.263830               0.042424   \n",
       "1       0.6750       0.419858               0.035606   \n",
       "2       0.9000       0.310638               0.009596   \n",
       "4       0.9125       0.400000               0.013636   \n",
       "5       0.7000       0.327660               0.084343   \n",
       "\n",
       "   ChemicalPesticideUsedInHomePast7days  \\\n",
       "0                                 0.125   \n",
       "1                                 0.125   \n",
       "2                                 0.000   \n",
       "4                                 0.125   \n",
       "5                                 0.000   \n",
       "\n",
       "   ChemicalWeedKillUsedExteriorHomePast7days  \\\n",
       "0                                      0.125   \n",
       "1                                      0.125   \n",
       "2                                      0.125   \n",
       "4                                      0.125   \n",
       "5                                      0.125   \n",
       "\n",
       "   VigorousRecreationalActivities10+min/WeekYN  WalkOrBicycle10+Min/weekYN  \\\n",
       "0                                        0.125                       0.125   \n",
       "1                                        0.125                       0.125   \n",
       "2                                        0.125                       0.125   \n",
       "4                                        0.125                       0.125   \n",
       "5                                        0.125                       0.125   \n",
       "\n",
       "   ModerateRecreationalActivities10+min/WeekYN  Minutes/DaySedentaryActivity  \\\n",
       "0                                        0.125                      0.060006   \n",
       "1                                        0.125                      0.054005   \n",
       "2                                        0.000                      0.030003   \n",
       "4                                        0.125                      0.048005   \n",
       "5                                        0.125                      0.036004   \n",
       "\n",
       "   UseMilk>=5x/wk       BMI  WeightAt25Yrs  HasArthritis  \n",
       "0           0.125  0.270990       0.014582         0.000  \n",
       "1           0.000  0.215686       0.019610         0.125  \n",
       "2           0.000  0.285544       0.013576         0.125  \n",
       "4           0.000  0.404130       0.008045         0.000  \n",
       "5           0.250  0.278080       0.014079         0.000  "
      ]
     },
     "execution_count": 99,
     "metadata": {},
     "output_type": "execute_result"
    }
   ],
   "source": [
    "X.head()"
   ]
  },
  {
   "cell_type": "code",
   "execution_count": 100,
   "metadata": {},
   "outputs": [
    {
     "data": {
      "text/plain": [
       "0    2\n",
       "1    1\n",
       "2    2\n",
       "4    2\n",
       "5    2\n",
       "Name: HasAsthma, dtype: int64"
      ]
     },
     "execution_count": 100,
     "metadata": {},
     "output_type": "execute_result"
    }
   ],
   "source": [
    "y.head()"
   ]
  },
  {
   "cell_type": "code",
   "execution_count": 101,
   "metadata": {},
   "outputs": [],
   "source": [
    "#y = y.astype('int')\n",
    "#https://stackoverflow.com/questions/45346550/valueerror-unknown-label-type-unknown\n",
    "#Your y is of type object, so sklearn cannot recognize its type."
   ]
  },
  {
   "cell_type": "code",
   "execution_count": 102,
   "metadata": {},
   "outputs": [
    {
     "data": {
      "text/plain": [
       "2826"
      ]
     },
     "execution_count": 102,
     "metadata": {},
     "output_type": "execute_result"
    }
   ],
   "source": [
    "y.count()"
   ]
  },
  {
   "cell_type": "code",
   "execution_count": 103,
   "metadata": {},
   "outputs": [
    {
     "data": {
      "text/plain": [
       "AgeAtSurvey                                    2826\n",
       "PlateletCount                                  2826\n",
       "CreatinePhosphokinase                          2826\n",
       "ChemicalPesticideUsedInHomePast7days           2826\n",
       "ChemicalWeedKillUsedExteriorHomePast7days      2826\n",
       "VigorousRecreationalActivities10+min/WeekYN    2826\n",
       "WalkOrBicycle10+Min/weekYN                     2826\n",
       "ModerateRecreationalActivities10+min/WeekYN    2826\n",
       "Minutes/DaySedentaryActivity                   2826\n",
       "UseMilk>=5x/wk                                 2826\n",
       "BMI                                            2826\n",
       "WeightAt25Yrs                                  2826\n",
       "HasArthritis                                   2826\n",
       "dtype: int64"
      ]
     },
     "execution_count": 103,
     "metadata": {},
     "output_type": "execute_result"
    }
   ],
   "source": [
    "X.count()"
   ]
  },
  {
   "cell_type": "code",
   "execution_count": 104,
   "metadata": {},
   "outputs": [
    {
     "data": {
      "text/html": [
       "<div>\n",
       "<style scoped>\n",
       "    .dataframe tbody tr th:only-of-type {\n",
       "        vertical-align: middle;\n",
       "    }\n",
       "\n",
       "    .dataframe tbody tr th {\n",
       "        vertical-align: top;\n",
       "    }\n",
       "\n",
       "    .dataframe thead th {\n",
       "        text-align: right;\n",
       "    }\n",
       "</style>\n",
       "<table border=\"1\" class=\"dataframe\">\n",
       "  <thead>\n",
       "    <tr style=\"text-align: right;\">\n",
       "      <th></th>\n",
       "      <th>AgeAtSurvey</th>\n",
       "      <th>PlateletCount</th>\n",
       "      <th>CreatinePhosphokinase</th>\n",
       "      <th>ChemicalPesticideUsedInHomePast7days</th>\n",
       "      <th>ChemicalWeedKillUsedExteriorHomePast7days</th>\n",
       "      <th>VigorousRecreationalActivities10+min/WeekYN</th>\n",
       "      <th>WalkOrBicycle10+Min/weekYN</th>\n",
       "      <th>ModerateRecreationalActivities10+min/WeekYN</th>\n",
       "      <th>Minutes/DaySedentaryActivity</th>\n",
       "      <th>UseMilk&gt;=5x/wk</th>\n",
       "      <th>BMI</th>\n",
       "      <th>WeightAt25Yrs</th>\n",
       "      <th>HasArthritis</th>\n",
       "      <th>HasAsthma</th>\n",
       "    </tr>\n",
       "  </thead>\n",
       "  <tbody>\n",
       "    <tr>\n",
       "      <th>0</th>\n",
       "      <td>0.8625</td>\n",
       "      <td>0.263830</td>\n",
       "      <td>0.042424</td>\n",
       "      <td>0.125</td>\n",
       "      <td>0.125</td>\n",
       "      <td>0.125</td>\n",
       "      <td>0.125</td>\n",
       "      <td>0.125</td>\n",
       "      <td>0.060006</td>\n",
       "      <td>0.125</td>\n",
       "      <td>0.270990</td>\n",
       "      <td>0.014582</td>\n",
       "      <td>0.000</td>\n",
       "      <td>2</td>\n",
       "    </tr>\n",
       "    <tr>\n",
       "      <th>1</th>\n",
       "      <td>0.6750</td>\n",
       "      <td>0.419858</td>\n",
       "      <td>0.035606</td>\n",
       "      <td>0.125</td>\n",
       "      <td>0.125</td>\n",
       "      <td>0.125</td>\n",
       "      <td>0.125</td>\n",
       "      <td>0.125</td>\n",
       "      <td>0.054005</td>\n",
       "      <td>0.000</td>\n",
       "      <td>0.215686</td>\n",
       "      <td>0.019610</td>\n",
       "      <td>0.125</td>\n",
       "      <td>1</td>\n",
       "    </tr>\n",
       "    <tr>\n",
       "      <th>2</th>\n",
       "      <td>0.9000</td>\n",
       "      <td>0.310638</td>\n",
       "      <td>0.009596</td>\n",
       "      <td>0.000</td>\n",
       "      <td>0.125</td>\n",
       "      <td>0.125</td>\n",
       "      <td>0.125</td>\n",
       "      <td>0.000</td>\n",
       "      <td>0.030003</td>\n",
       "      <td>0.000</td>\n",
       "      <td>0.285544</td>\n",
       "      <td>0.013576</td>\n",
       "      <td>0.125</td>\n",
       "      <td>2</td>\n",
       "    </tr>\n",
       "    <tr>\n",
       "      <th>4</th>\n",
       "      <td>0.9125</td>\n",
       "      <td>0.400000</td>\n",
       "      <td>0.013636</td>\n",
       "      <td>0.125</td>\n",
       "      <td>0.125</td>\n",
       "      <td>0.125</td>\n",
       "      <td>0.125</td>\n",
       "      <td>0.125</td>\n",
       "      <td>0.048005</td>\n",
       "      <td>0.000</td>\n",
       "      <td>0.404130</td>\n",
       "      <td>0.008045</td>\n",
       "      <td>0.000</td>\n",
       "      <td>2</td>\n",
       "    </tr>\n",
       "    <tr>\n",
       "      <th>5</th>\n",
       "      <td>0.7000</td>\n",
       "      <td>0.327660</td>\n",
       "      <td>0.084343</td>\n",
       "      <td>0.000</td>\n",
       "      <td>0.125</td>\n",
       "      <td>0.125</td>\n",
       "      <td>0.125</td>\n",
       "      <td>0.125</td>\n",
       "      <td>0.036004</td>\n",
       "      <td>0.250</td>\n",
       "      <td>0.278080</td>\n",
       "      <td>0.014079</td>\n",
       "      <td>0.000</td>\n",
       "      <td>2</td>\n",
       "    </tr>\n",
       "  </tbody>\n",
       "</table>\n",
       "</div>"
      ],
      "text/plain": [
       "   AgeAtSurvey  PlateletCount  CreatinePhosphokinase  \\\n",
       "0       0.8625       0.263830               0.042424   \n",
       "1       0.6750       0.419858               0.035606   \n",
       "2       0.9000       0.310638               0.009596   \n",
       "4       0.9125       0.400000               0.013636   \n",
       "5       0.7000       0.327660               0.084343   \n",
       "\n",
       "   ChemicalPesticideUsedInHomePast7days  \\\n",
       "0                                 0.125   \n",
       "1                                 0.125   \n",
       "2                                 0.000   \n",
       "4                                 0.125   \n",
       "5                                 0.000   \n",
       "\n",
       "   ChemicalWeedKillUsedExteriorHomePast7days  \\\n",
       "0                                      0.125   \n",
       "1                                      0.125   \n",
       "2                                      0.125   \n",
       "4                                      0.125   \n",
       "5                                      0.125   \n",
       "\n",
       "   VigorousRecreationalActivities10+min/WeekYN  WalkOrBicycle10+Min/weekYN  \\\n",
       "0                                        0.125                       0.125   \n",
       "1                                        0.125                       0.125   \n",
       "2                                        0.125                       0.125   \n",
       "4                                        0.125                       0.125   \n",
       "5                                        0.125                       0.125   \n",
       "\n",
       "   ModerateRecreationalActivities10+min/WeekYN  Minutes/DaySedentaryActivity  \\\n",
       "0                                        0.125                      0.060006   \n",
       "1                                        0.125                      0.054005   \n",
       "2                                        0.000                      0.030003   \n",
       "4                                        0.125                      0.048005   \n",
       "5                                        0.125                      0.036004   \n",
       "\n",
       "   UseMilk>=5x/wk       BMI  WeightAt25Yrs  HasArthritis  HasAsthma  \n",
       "0           0.125  0.270990       0.014582         0.000          2  \n",
       "1           0.000  0.215686       0.019610         0.125          1  \n",
       "2           0.000  0.285544       0.013576         0.125          2  \n",
       "4           0.000  0.404130       0.008045         0.000          2  \n",
       "5           0.250  0.278080       0.014079         0.000          2  "
      ]
     },
     "execution_count": 104,
     "metadata": {},
     "output_type": "execute_result"
    }
   ],
   "source": [
    "asthma_clean = X.copy()\n",
    "asthma_clean['HasAsthma'] = y\n",
    "asthma_clean.head()\n",
    "#use of copy  https://docs.python.org/3/library/copy.html"
   ]
  },
  {
   "cell_type": "code",
   "execution_count": 105,
   "metadata": {},
   "outputs": [],
   "source": [
    "HasAsthma_yes = asthma_clean[asthma_clean['HasAsthma'] == 1]\n",
    "HasAsthma_yes.head()\n",
    "HasAsthma_other= asthma_clean[asthma_clean['HasAsthma'] == 2] \n",
    "##"
   ]
  },
  {
   "cell_type": "code",
   "execution_count": 106,
   "metadata": {},
   "outputs": [
    {
     "name": "stdout",
     "output_type": "stream",
     "text": [
      "<class 'pandas.core.frame.DataFrame'>\n",
      "Int64Index: 2826 entries, 0 to 9805\n",
      "Data columns (total 13 columns):\n",
      "AgeAtSurvey                                    2826 non-null float64\n",
      "PlateletCount                                  2826 non-null float64\n",
      "CreatinePhosphokinase                          2826 non-null float64\n",
      "ChemicalPesticideUsedInHomePast7days           2826 non-null float64\n",
      "ChemicalWeedKillUsedExteriorHomePast7days      2826 non-null float64\n",
      "VigorousRecreationalActivities10+min/WeekYN    2826 non-null float64\n",
      "WalkOrBicycle10+Min/weekYN                     2826 non-null float64\n",
      "ModerateRecreationalActivities10+min/WeekYN    2826 non-null float64\n",
      "Minutes/DaySedentaryActivity                   2826 non-null float64\n",
      "UseMilk>=5x/wk                                 2826 non-null float64\n",
      "BMI                                            2826 non-null float64\n",
      "WeightAt25Yrs                                  2826 non-null float64\n",
      "HasArthritis                                   2826 non-null float64\n",
      "dtypes: float64(13)\n",
      "memory usage: 309.1 KB\n"
     ]
    }
   ],
   "source": [
    "X.info()"
   ]
  },
  {
   "cell_type": "code",
   "execution_count": 107,
   "metadata": {},
   "outputs": [
    {
     "data": {
      "text/html": [
       "<div>\n",
       "<style scoped>\n",
       "    .dataframe tbody tr th:only-of-type {\n",
       "        vertical-align: middle;\n",
       "    }\n",
       "\n",
       "    .dataframe tbody tr th {\n",
       "        vertical-align: top;\n",
       "    }\n",
       "\n",
       "    .dataframe thead th {\n",
       "        text-align: right;\n",
       "    }\n",
       "</style>\n",
       "<table border=\"1\" class=\"dataframe\">\n",
       "  <thead>\n",
       "    <tr style=\"text-align: right;\">\n",
       "      <th></th>\n",
       "      <th>AgeAtSurvey</th>\n",
       "      <th>PlateletCount</th>\n",
       "      <th>CreatinePhosphokinase</th>\n",
       "      <th>ChemicalPesticideUsedInHomePast7days</th>\n",
       "      <th>ChemicalWeedKillUsedExteriorHomePast7days</th>\n",
       "      <th>VigorousRecreationalActivities10+min/WeekYN</th>\n",
       "      <th>WalkOrBicycle10+Min/weekYN</th>\n",
       "      <th>ModerateRecreationalActivities10+min/WeekYN</th>\n",
       "      <th>Minutes/DaySedentaryActivity</th>\n",
       "      <th>UseMilk&gt;=5x/wk</th>\n",
       "      <th>BMI</th>\n",
       "      <th>WeightAt25Yrs</th>\n",
       "      <th>HasArthritis</th>\n",
       "      <th>HasAsthma</th>\n",
       "    </tr>\n",
       "  </thead>\n",
       "  <tbody>\n",
       "    <tr>\n",
       "      <th>1</th>\n",
       "      <td>0.6750</td>\n",
       "      <td>0.419858</td>\n",
       "      <td>0.035606</td>\n",
       "      <td>0.125</td>\n",
       "      <td>0.125</td>\n",
       "      <td>0.125</td>\n",
       "      <td>0.125</td>\n",
       "      <td>0.125</td>\n",
       "      <td>0.054005</td>\n",
       "      <td>0.000</td>\n",
       "      <td>0.215686</td>\n",
       "      <td>0.019610</td>\n",
       "      <td>0.125</td>\n",
       "      <td>1</td>\n",
       "    </tr>\n",
       "    <tr>\n",
       "      <th>7</th>\n",
       "      <td>0.7625</td>\n",
       "      <td>0.229787</td>\n",
       "      <td>0.028788</td>\n",
       "      <td>0.125</td>\n",
       "      <td>0.125</td>\n",
       "      <td>0.125</td>\n",
       "      <td>0.125</td>\n",
       "      <td>0.125</td>\n",
       "      <td>0.006001</td>\n",
       "      <td>0.125</td>\n",
       "      <td>0.429935</td>\n",
       "      <td>0.007241</td>\n",
       "      <td>0.000</td>\n",
       "      <td>1</td>\n",
       "    </tr>\n",
       "    <tr>\n",
       "      <th>39</th>\n",
       "      <td>0.7125</td>\n",
       "      <td>0.231206</td>\n",
       "      <td>0.037626</td>\n",
       "      <td>0.125</td>\n",
       "      <td>0.125</td>\n",
       "      <td>0.125</td>\n",
       "      <td>0.125</td>\n",
       "      <td>0.000</td>\n",
       "      <td>0.060006</td>\n",
       "      <td>0.125</td>\n",
       "      <td>0.419886</td>\n",
       "      <td>0.007542</td>\n",
       "      <td>0.125</td>\n",
       "      <td>1</td>\n",
       "    </tr>\n",
       "    <tr>\n",
       "      <th>81</th>\n",
       "      <td>0.7875</td>\n",
       "      <td>0.353191</td>\n",
       "      <td>0.034343</td>\n",
       "      <td>0.125</td>\n",
       "      <td>0.125</td>\n",
       "      <td>0.125</td>\n",
       "      <td>0.125</td>\n",
       "      <td>0.125</td>\n",
       "      <td>0.018002</td>\n",
       "      <td>0.125</td>\n",
       "      <td>0.319788</td>\n",
       "      <td>0.011565</td>\n",
       "      <td>0.000</td>\n",
       "      <td>1</td>\n",
       "    </tr>\n",
       "    <tr>\n",
       "      <th>108</th>\n",
       "      <td>0.7375</td>\n",
       "      <td>0.343262</td>\n",
       "      <td>0.022727</td>\n",
       "      <td>0.125</td>\n",
       "      <td>0.125</td>\n",
       "      <td>0.125</td>\n",
       "      <td>0.000</td>\n",
       "      <td>0.125</td>\n",
       "      <td>0.072007</td>\n",
       "      <td>0.250</td>\n",
       "      <td>0.319788</td>\n",
       "      <td>0.011565</td>\n",
       "      <td>0.125</td>\n",
       "      <td>1</td>\n",
       "    </tr>\n",
       "  </tbody>\n",
       "</table>\n",
       "</div>"
      ],
      "text/plain": [
       "     AgeAtSurvey  PlateletCount  CreatinePhosphokinase  \\\n",
       "1         0.6750       0.419858               0.035606   \n",
       "7         0.7625       0.229787               0.028788   \n",
       "39        0.7125       0.231206               0.037626   \n",
       "81        0.7875       0.353191               0.034343   \n",
       "108       0.7375       0.343262               0.022727   \n",
       "\n",
       "     ChemicalPesticideUsedInHomePast7days  \\\n",
       "1                                   0.125   \n",
       "7                                   0.125   \n",
       "39                                  0.125   \n",
       "81                                  0.125   \n",
       "108                                 0.125   \n",
       "\n",
       "     ChemicalWeedKillUsedExteriorHomePast7days  \\\n",
       "1                                        0.125   \n",
       "7                                        0.125   \n",
       "39                                       0.125   \n",
       "81                                       0.125   \n",
       "108                                      0.125   \n",
       "\n",
       "     VigorousRecreationalActivities10+min/WeekYN  WalkOrBicycle10+Min/weekYN  \\\n",
       "1                                          0.125                       0.125   \n",
       "7                                          0.125                       0.125   \n",
       "39                                         0.125                       0.125   \n",
       "81                                         0.125                       0.125   \n",
       "108                                        0.125                       0.000   \n",
       "\n",
       "     ModerateRecreationalActivities10+min/WeekYN  \\\n",
       "1                                          0.125   \n",
       "7                                          0.125   \n",
       "39                                         0.000   \n",
       "81                                         0.125   \n",
       "108                                        0.125   \n",
       "\n",
       "     Minutes/DaySedentaryActivity  UseMilk>=5x/wk       BMI  WeightAt25Yrs  \\\n",
       "1                        0.054005           0.000  0.215686       0.019610   \n",
       "7                        0.006001           0.125  0.429935       0.007241   \n",
       "39                       0.060006           0.125  0.419886       0.007542   \n",
       "81                       0.018002           0.125  0.319788       0.011565   \n",
       "108                      0.072007           0.250  0.319788       0.011565   \n",
       "\n",
       "     HasArthritis  HasAsthma  \n",
       "1           0.125          1  \n",
       "7           0.000          1  \n",
       "39          0.125          1  \n",
       "81          0.000          1  \n",
       "108         0.125          1  "
      ]
     },
     "execution_count": 107,
     "metadata": {},
     "output_type": "execute_result"
    }
   ],
   "source": [
    "HasAsthma_yes.head()"
   ]
  },
  {
   "cell_type": "code",
   "execution_count": 108,
   "metadata": {},
   "outputs": [
    {
     "data": {
      "text/html": [
       "<div>\n",
       "<style scoped>\n",
       "    .dataframe tbody tr th:only-of-type {\n",
       "        vertical-align: middle;\n",
       "    }\n",
       "\n",
       "    .dataframe tbody tr th {\n",
       "        vertical-align: top;\n",
       "    }\n",
       "\n",
       "    .dataframe thead th {\n",
       "        text-align: right;\n",
       "    }\n",
       "</style>\n",
       "<table border=\"1\" class=\"dataframe\">\n",
       "  <thead>\n",
       "    <tr style=\"text-align: right;\">\n",
       "      <th></th>\n",
       "      <th>AgeAtSurvey</th>\n",
       "      <th>PlateletCount</th>\n",
       "      <th>CreatinePhosphokinase</th>\n",
       "      <th>ChemicalPesticideUsedInHomePast7days</th>\n",
       "      <th>ChemicalWeedKillUsedExteriorHomePast7days</th>\n",
       "      <th>VigorousRecreationalActivities10+min/WeekYN</th>\n",
       "      <th>WalkOrBicycle10+Min/weekYN</th>\n",
       "      <th>ModerateRecreationalActivities10+min/WeekYN</th>\n",
       "      <th>Minutes/DaySedentaryActivity</th>\n",
       "      <th>UseMilk&gt;=5x/wk</th>\n",
       "      <th>BMI</th>\n",
       "      <th>WeightAt25Yrs</th>\n",
       "      <th>HasArthritis</th>\n",
       "      <th>HasAsthma</th>\n",
       "    </tr>\n",
       "  </thead>\n",
       "  <tbody>\n",
       "    <tr>\n",
       "      <th>0</th>\n",
       "      <td>0.8625</td>\n",
       "      <td>0.263830</td>\n",
       "      <td>0.042424</td>\n",
       "      <td>0.125</td>\n",
       "      <td>0.125</td>\n",
       "      <td>0.125</td>\n",
       "      <td>0.125</td>\n",
       "      <td>0.125</td>\n",
       "      <td>0.060006</td>\n",
       "      <td>0.125</td>\n",
       "      <td>0.270990</td>\n",
       "      <td>0.014582</td>\n",
       "      <td>0.000</td>\n",
       "      <td>2</td>\n",
       "    </tr>\n",
       "    <tr>\n",
       "      <th>2</th>\n",
       "      <td>0.9000</td>\n",
       "      <td>0.310638</td>\n",
       "      <td>0.009596</td>\n",
       "      <td>0.000</td>\n",
       "      <td>0.125</td>\n",
       "      <td>0.125</td>\n",
       "      <td>0.125</td>\n",
       "      <td>0.000</td>\n",
       "      <td>0.030003</td>\n",
       "      <td>0.000</td>\n",
       "      <td>0.285544</td>\n",
       "      <td>0.013576</td>\n",
       "      <td>0.125</td>\n",
       "      <td>2</td>\n",
       "    </tr>\n",
       "    <tr>\n",
       "      <th>4</th>\n",
       "      <td>0.9125</td>\n",
       "      <td>0.400000</td>\n",
       "      <td>0.013636</td>\n",
       "      <td>0.125</td>\n",
       "      <td>0.125</td>\n",
       "      <td>0.125</td>\n",
       "      <td>0.125</td>\n",
       "      <td>0.125</td>\n",
       "      <td>0.048005</td>\n",
       "      <td>0.000</td>\n",
       "      <td>0.404130</td>\n",
       "      <td>0.008045</td>\n",
       "      <td>0.000</td>\n",
       "      <td>2</td>\n",
       "    </tr>\n",
       "    <tr>\n",
       "      <th>5</th>\n",
       "      <td>0.7000</td>\n",
       "      <td>0.327660</td>\n",
       "      <td>0.084343</td>\n",
       "      <td>0.000</td>\n",
       "      <td>0.125</td>\n",
       "      <td>0.125</td>\n",
       "      <td>0.125</td>\n",
       "      <td>0.125</td>\n",
       "      <td>0.036004</td>\n",
       "      <td>0.250</td>\n",
       "      <td>0.278080</td>\n",
       "      <td>0.014079</td>\n",
       "      <td>0.000</td>\n",
       "      <td>2</td>\n",
       "    </tr>\n",
       "    <tr>\n",
       "      <th>9</th>\n",
       "      <td>0.7000</td>\n",
       "      <td>0.239716</td>\n",
       "      <td>0.054040</td>\n",
       "      <td>0.125</td>\n",
       "      <td>0.125</td>\n",
       "      <td>0.125</td>\n",
       "      <td>0.125</td>\n",
       "      <td>0.125</td>\n",
       "      <td>0.003000</td>\n",
       "      <td>0.000</td>\n",
       "      <td>0.455337</td>\n",
       "      <td>0.006537</td>\n",
       "      <td>0.000</td>\n",
       "      <td>2</td>\n",
       "    </tr>\n",
       "  </tbody>\n",
       "</table>\n",
       "</div>"
      ],
      "text/plain": [
       "   AgeAtSurvey  PlateletCount  CreatinePhosphokinase  \\\n",
       "0       0.8625       0.263830               0.042424   \n",
       "2       0.9000       0.310638               0.009596   \n",
       "4       0.9125       0.400000               0.013636   \n",
       "5       0.7000       0.327660               0.084343   \n",
       "9       0.7000       0.239716               0.054040   \n",
       "\n",
       "   ChemicalPesticideUsedInHomePast7days  \\\n",
       "0                                 0.125   \n",
       "2                                 0.000   \n",
       "4                                 0.125   \n",
       "5                                 0.000   \n",
       "9                                 0.125   \n",
       "\n",
       "   ChemicalWeedKillUsedExteriorHomePast7days  \\\n",
       "0                                      0.125   \n",
       "2                                      0.125   \n",
       "4                                      0.125   \n",
       "5                                      0.125   \n",
       "9                                      0.125   \n",
       "\n",
       "   VigorousRecreationalActivities10+min/WeekYN  WalkOrBicycle10+Min/weekYN  \\\n",
       "0                                        0.125                       0.125   \n",
       "2                                        0.125                       0.125   \n",
       "4                                        0.125                       0.125   \n",
       "5                                        0.125                       0.125   \n",
       "9                                        0.125                       0.125   \n",
       "\n",
       "   ModerateRecreationalActivities10+min/WeekYN  Minutes/DaySedentaryActivity  \\\n",
       "0                                        0.125                      0.060006   \n",
       "2                                        0.000                      0.030003   \n",
       "4                                        0.125                      0.048005   \n",
       "5                                        0.125                      0.036004   \n",
       "9                                        0.125                      0.003000   \n",
       "\n",
       "   UseMilk>=5x/wk       BMI  WeightAt25Yrs  HasArthritis  HasAsthma  \n",
       "0           0.125  0.270990       0.014582         0.000          2  \n",
       "2           0.000  0.285544       0.013576         0.125          2  \n",
       "4           0.000  0.404130       0.008045         0.000          2  \n",
       "5           0.250  0.278080       0.014079         0.000          2  \n",
       "9           0.000  0.455337       0.006537         0.000          2  "
      ]
     },
     "execution_count": 108,
     "metadata": {},
     "output_type": "execute_result"
    }
   ],
   "source": [
    "HasAsthma_other.head()"
   ]
  },
  {
   "cell_type": "code",
   "execution_count": 109,
   "metadata": {},
   "outputs": [
    {
     "data": {
      "text/html": [
       "<div>\n",
       "<style scoped>\n",
       "    .dataframe tbody tr th:only-of-type {\n",
       "        vertical-align: middle;\n",
       "    }\n",
       "\n",
       "    .dataframe tbody tr th {\n",
       "        vertical-align: top;\n",
       "    }\n",
       "\n",
       "    .dataframe thead th {\n",
       "        text-align: right;\n",
       "    }\n",
       "</style>\n",
       "<table border=\"1\" class=\"dataframe\">\n",
       "  <thead>\n",
       "    <tr style=\"text-align: right;\">\n",
       "      <th></th>\n",
       "      <th>AgeAtSurvey</th>\n",
       "      <th>PlateletCount</th>\n",
       "      <th>CreatinePhosphokinase</th>\n",
       "      <th>ChemicalPesticideUsedInHomePast7days</th>\n",
       "      <th>ChemicalWeedKillUsedExteriorHomePast7days</th>\n",
       "      <th>VigorousRecreationalActivities10+min/WeekYN</th>\n",
       "      <th>WalkOrBicycle10+Min/weekYN</th>\n",
       "      <th>ModerateRecreationalActivities10+min/WeekYN</th>\n",
       "      <th>Minutes/DaySedentaryActivity</th>\n",
       "      <th>UseMilk&gt;=5x/wk</th>\n",
       "      <th>BMI</th>\n",
       "      <th>WeightAt25Yrs</th>\n",
       "      <th>HasArthritis</th>\n",
       "      <th>HasAsthma</th>\n",
       "    </tr>\n",
       "  </thead>\n",
       "  <tbody>\n",
       "    <tr>\n",
       "      <th>0</th>\n",
       "      <td>0.8625</td>\n",
       "      <td>0.263830</td>\n",
       "      <td>0.042424</td>\n",
       "      <td>0.125</td>\n",
       "      <td>0.125</td>\n",
       "      <td>0.125</td>\n",
       "      <td>0.125</td>\n",
       "      <td>0.125</td>\n",
       "      <td>0.060006</td>\n",
       "      <td>0.125</td>\n",
       "      <td>0.270990</td>\n",
       "      <td>0.014582</td>\n",
       "      <td>0.000</td>\n",
       "      <td>2</td>\n",
       "    </tr>\n",
       "    <tr>\n",
       "      <th>1</th>\n",
       "      <td>0.6750</td>\n",
       "      <td>0.419858</td>\n",
       "      <td>0.035606</td>\n",
       "      <td>0.125</td>\n",
       "      <td>0.125</td>\n",
       "      <td>0.125</td>\n",
       "      <td>0.125</td>\n",
       "      <td>0.125</td>\n",
       "      <td>0.054005</td>\n",
       "      <td>0.000</td>\n",
       "      <td>0.215686</td>\n",
       "      <td>0.019610</td>\n",
       "      <td>0.125</td>\n",
       "      <td>1</td>\n",
       "    </tr>\n",
       "    <tr>\n",
       "      <th>2</th>\n",
       "      <td>0.9000</td>\n",
       "      <td>0.310638</td>\n",
       "      <td>0.009596</td>\n",
       "      <td>0.000</td>\n",
       "      <td>0.125</td>\n",
       "      <td>0.125</td>\n",
       "      <td>0.125</td>\n",
       "      <td>0.000</td>\n",
       "      <td>0.030003</td>\n",
       "      <td>0.000</td>\n",
       "      <td>0.285544</td>\n",
       "      <td>0.013576</td>\n",
       "      <td>0.125</td>\n",
       "      <td>2</td>\n",
       "    </tr>\n",
       "    <tr>\n",
       "      <th>4</th>\n",
       "      <td>0.9125</td>\n",
       "      <td>0.400000</td>\n",
       "      <td>0.013636</td>\n",
       "      <td>0.125</td>\n",
       "      <td>0.125</td>\n",
       "      <td>0.125</td>\n",
       "      <td>0.125</td>\n",
       "      <td>0.125</td>\n",
       "      <td>0.048005</td>\n",
       "      <td>0.000</td>\n",
       "      <td>0.404130</td>\n",
       "      <td>0.008045</td>\n",
       "      <td>0.000</td>\n",
       "      <td>2</td>\n",
       "    </tr>\n",
       "    <tr>\n",
       "      <th>5</th>\n",
       "      <td>0.7000</td>\n",
       "      <td>0.327660</td>\n",
       "      <td>0.084343</td>\n",
       "      <td>0.000</td>\n",
       "      <td>0.125</td>\n",
       "      <td>0.125</td>\n",
       "      <td>0.125</td>\n",
       "      <td>0.125</td>\n",
       "      <td>0.036004</td>\n",
       "      <td>0.250</td>\n",
       "      <td>0.278080</td>\n",
       "      <td>0.014079</td>\n",
       "      <td>0.000</td>\n",
       "      <td>2</td>\n",
       "    </tr>\n",
       "  </tbody>\n",
       "</table>\n",
       "</div>"
      ],
      "text/plain": [
       "   AgeAtSurvey  PlateletCount  CreatinePhosphokinase  \\\n",
       "0       0.8625       0.263830               0.042424   \n",
       "1       0.6750       0.419858               0.035606   \n",
       "2       0.9000       0.310638               0.009596   \n",
       "4       0.9125       0.400000               0.013636   \n",
       "5       0.7000       0.327660               0.084343   \n",
       "\n",
       "   ChemicalPesticideUsedInHomePast7days  \\\n",
       "0                                 0.125   \n",
       "1                                 0.125   \n",
       "2                                 0.000   \n",
       "4                                 0.125   \n",
       "5                                 0.000   \n",
       "\n",
       "   ChemicalWeedKillUsedExteriorHomePast7days  \\\n",
       "0                                      0.125   \n",
       "1                                      0.125   \n",
       "2                                      0.125   \n",
       "4                                      0.125   \n",
       "5                                      0.125   \n",
       "\n",
       "   VigorousRecreationalActivities10+min/WeekYN  WalkOrBicycle10+Min/weekYN  \\\n",
       "0                                        0.125                       0.125   \n",
       "1                                        0.125                       0.125   \n",
       "2                                        0.125                       0.125   \n",
       "4                                        0.125                       0.125   \n",
       "5                                        0.125                       0.125   \n",
       "\n",
       "   ModerateRecreationalActivities10+min/WeekYN  Minutes/DaySedentaryActivity  \\\n",
       "0                                        0.125                      0.060006   \n",
       "1                                        0.125                      0.054005   \n",
       "2                                        0.000                      0.030003   \n",
       "4                                        0.125                      0.048005   \n",
       "5                                        0.125                      0.036004   \n",
       "\n",
       "   UseMilk>=5x/wk       BMI  WeightAt25Yrs  HasArthritis  HasAsthma  \n",
       "0           0.125  0.270990       0.014582         0.000          2  \n",
       "1           0.000  0.215686       0.019610         0.125          1  \n",
       "2           0.000  0.285544       0.013576         0.125          2  \n",
       "4           0.000  0.404130       0.008045         0.000          2  \n",
       "5           0.250  0.278080       0.014079         0.000          2  "
      ]
     },
     "execution_count": 109,
     "metadata": {},
     "output_type": "execute_result"
    }
   ],
   "source": [
    "asthma_clean.head()"
   ]
  },
  {
   "cell_type": "code",
   "execution_count": 110,
   "metadata": {},
   "outputs": [
    {
     "data": {
      "text/html": [
       "<div>\n",
       "<style scoped>\n",
       "    .dataframe tbody tr th:only-of-type {\n",
       "        vertical-align: middle;\n",
       "    }\n",
       "\n",
       "    .dataframe tbody tr th {\n",
       "        vertical-align: top;\n",
       "    }\n",
       "\n",
       "    .dataframe thead th {\n",
       "        text-align: right;\n",
       "    }\n",
       "</style>\n",
       "<table border=\"1\" class=\"dataframe\">\n",
       "  <thead>\n",
       "    <tr style=\"text-align: right;\">\n",
       "      <th></th>\n",
       "      <th>AgeAtSurvey</th>\n",
       "      <th>PlateletCount</th>\n",
       "      <th>CreatinePhosphokinase</th>\n",
       "      <th>ChemicalPesticideUsedInHomePast7days</th>\n",
       "      <th>ChemicalWeedKillUsedExteriorHomePast7days</th>\n",
       "      <th>VigorousRecreationalActivities10+min/WeekYN</th>\n",
       "      <th>WalkOrBicycle10+Min/weekYN</th>\n",
       "      <th>ModerateRecreationalActivities10+min/WeekYN</th>\n",
       "      <th>Minutes/DaySedentaryActivity</th>\n",
       "      <th>UseMilk&gt;=5x/wk</th>\n",
       "      <th>BMI</th>\n",
       "      <th>WeightAt25Yrs</th>\n",
       "      <th>HasArthritis</th>\n",
       "    </tr>\n",
       "  </thead>\n",
       "  <tbody>\n",
       "    <tr>\n",
       "      <th>0</th>\n",
       "      <td>0.8625</td>\n",
       "      <td>0.263830</td>\n",
       "      <td>0.042424</td>\n",
       "      <td>0.125</td>\n",
       "      <td>0.125</td>\n",
       "      <td>0.125</td>\n",
       "      <td>0.125</td>\n",
       "      <td>0.125</td>\n",
       "      <td>0.060006</td>\n",
       "      <td>0.125</td>\n",
       "      <td>0.270990</td>\n",
       "      <td>0.014582</td>\n",
       "      <td>0.000</td>\n",
       "    </tr>\n",
       "    <tr>\n",
       "      <th>1</th>\n",
       "      <td>0.6750</td>\n",
       "      <td>0.419858</td>\n",
       "      <td>0.035606</td>\n",
       "      <td>0.125</td>\n",
       "      <td>0.125</td>\n",
       "      <td>0.125</td>\n",
       "      <td>0.125</td>\n",
       "      <td>0.125</td>\n",
       "      <td>0.054005</td>\n",
       "      <td>0.000</td>\n",
       "      <td>0.215686</td>\n",
       "      <td>0.019610</td>\n",
       "      <td>0.125</td>\n",
       "    </tr>\n",
       "    <tr>\n",
       "      <th>2</th>\n",
       "      <td>0.9000</td>\n",
       "      <td>0.310638</td>\n",
       "      <td>0.009596</td>\n",
       "      <td>0.000</td>\n",
       "      <td>0.125</td>\n",
       "      <td>0.125</td>\n",
       "      <td>0.125</td>\n",
       "      <td>0.000</td>\n",
       "      <td>0.030003</td>\n",
       "      <td>0.000</td>\n",
       "      <td>0.285544</td>\n",
       "      <td>0.013576</td>\n",
       "      <td>0.125</td>\n",
       "    </tr>\n",
       "    <tr>\n",
       "      <th>4</th>\n",
       "      <td>0.9125</td>\n",
       "      <td>0.400000</td>\n",
       "      <td>0.013636</td>\n",
       "      <td>0.125</td>\n",
       "      <td>0.125</td>\n",
       "      <td>0.125</td>\n",
       "      <td>0.125</td>\n",
       "      <td>0.125</td>\n",
       "      <td>0.048005</td>\n",
       "      <td>0.000</td>\n",
       "      <td>0.404130</td>\n",
       "      <td>0.008045</td>\n",
       "      <td>0.000</td>\n",
       "    </tr>\n",
       "    <tr>\n",
       "      <th>5</th>\n",
       "      <td>0.7000</td>\n",
       "      <td>0.327660</td>\n",
       "      <td>0.084343</td>\n",
       "      <td>0.000</td>\n",
       "      <td>0.125</td>\n",
       "      <td>0.125</td>\n",
       "      <td>0.125</td>\n",
       "      <td>0.125</td>\n",
       "      <td>0.036004</td>\n",
       "      <td>0.250</td>\n",
       "      <td>0.278080</td>\n",
       "      <td>0.014079</td>\n",
       "      <td>0.000</td>\n",
       "    </tr>\n",
       "  </tbody>\n",
       "</table>\n",
       "</div>"
      ],
      "text/plain": [
       "   AgeAtSurvey  PlateletCount  CreatinePhosphokinase  \\\n",
       "0       0.8625       0.263830               0.042424   \n",
       "1       0.6750       0.419858               0.035606   \n",
       "2       0.9000       0.310638               0.009596   \n",
       "4       0.9125       0.400000               0.013636   \n",
       "5       0.7000       0.327660               0.084343   \n",
       "\n",
       "   ChemicalPesticideUsedInHomePast7days  \\\n",
       "0                                 0.125   \n",
       "1                                 0.125   \n",
       "2                                 0.000   \n",
       "4                                 0.125   \n",
       "5                                 0.000   \n",
       "\n",
       "   ChemicalWeedKillUsedExteriorHomePast7days  \\\n",
       "0                                      0.125   \n",
       "1                                      0.125   \n",
       "2                                      0.125   \n",
       "4                                      0.125   \n",
       "5                                      0.125   \n",
       "\n",
       "   VigorousRecreationalActivities10+min/WeekYN  WalkOrBicycle10+Min/weekYN  \\\n",
       "0                                        0.125                       0.125   \n",
       "1                                        0.125                       0.125   \n",
       "2                                        0.125                       0.125   \n",
       "4                                        0.125                       0.125   \n",
       "5                                        0.125                       0.125   \n",
       "\n",
       "   ModerateRecreationalActivities10+min/WeekYN  Minutes/DaySedentaryActivity  \\\n",
       "0                                        0.125                      0.060006   \n",
       "1                                        0.125                      0.054005   \n",
       "2                                        0.000                      0.030003   \n",
       "4                                        0.125                      0.048005   \n",
       "5                                        0.125                      0.036004   \n",
       "\n",
       "   UseMilk>=5x/wk       BMI  WeightAt25Yrs  HasArthritis  \n",
       "0           0.125  0.270990       0.014582         0.000  \n",
       "1           0.000  0.215686       0.019610         0.125  \n",
       "2           0.000  0.285544       0.013576         0.125  \n",
       "4           0.000  0.404130       0.008045         0.000  \n",
       "5           0.250  0.278080       0.014079         0.000  "
      ]
     },
     "execution_count": 110,
     "metadata": {},
     "output_type": "execute_result"
    }
   ],
   "source": [
    "X.head()"
   ]
  },
  {
   "cell_type": "code",
   "execution_count": 111,
   "metadata": {},
   "outputs": [
    {
     "data": {
      "text/html": [
       "<div>\n",
       "<style scoped>\n",
       "    .dataframe tbody tr th:only-of-type {\n",
       "        vertical-align: middle;\n",
       "    }\n",
       "\n",
       "    .dataframe tbody tr th {\n",
       "        vertical-align: top;\n",
       "    }\n",
       "\n",
       "    .dataframe thead th {\n",
       "        text-align: right;\n",
       "    }\n",
       "</style>\n",
       "<table border=\"1\" class=\"dataframe\">\n",
       "  <thead>\n",
       "    <tr style=\"text-align: right;\">\n",
       "      <th></th>\n",
       "      <th>AgeAtSurvey</th>\n",
       "      <th>PlateletCount</th>\n",
       "      <th>CreatinePhosphokinase</th>\n",
       "      <th>ChemicalPesticideUsedInHomePast7days</th>\n",
       "      <th>ChemicalWeedKillUsedExteriorHomePast7days</th>\n",
       "      <th>VigorousRecreationalActivities10+min/WeekYN</th>\n",
       "      <th>WalkOrBicycle10+Min/weekYN</th>\n",
       "      <th>ModerateRecreationalActivities10+min/WeekYN</th>\n",
       "      <th>Minutes/DaySedentaryActivity</th>\n",
       "      <th>UseMilk&gt;=5x/wk</th>\n",
       "      <th>BMI</th>\n",
       "      <th>WeightAt25Yrs</th>\n",
       "      <th>HasArthritis</th>\n",
       "      <th>HasAsthma</th>\n",
       "    </tr>\n",
       "  </thead>\n",
       "  <tbody>\n",
       "    <tr>\n",
       "      <th>311</th>\n",
       "      <td>0.4000</td>\n",
       "      <td>0.293617</td>\n",
       "      <td>0.046212</td>\n",
       "      <td>0.125</td>\n",
       "      <td>0.000</td>\n",
       "      <td>0.125</td>\n",
       "      <td>0.000</td>\n",
       "      <td>0.000</td>\n",
       "      <td>0.042004</td>\n",
       "      <td>0.250</td>\n",
       "      <td>0.285544</td>\n",
       "      <td>0.013576</td>\n",
       "      <td>0.125</td>\n",
       "      <td>2</td>\n",
       "    </tr>\n",
       "    <tr>\n",
       "      <th>4334</th>\n",
       "      <td>0.6875</td>\n",
       "      <td>0.304965</td>\n",
       "      <td>0.038384</td>\n",
       "      <td>0.125</td>\n",
       "      <td>0.125</td>\n",
       "      <td>0.125</td>\n",
       "      <td>0.125</td>\n",
       "      <td>0.125</td>\n",
       "      <td>0.012001</td>\n",
       "      <td>0.125</td>\n",
       "      <td>0.436903</td>\n",
       "      <td>0.007039</td>\n",
       "      <td>0.000</td>\n",
       "      <td>2</td>\n",
       "    </tr>\n",
       "    <tr>\n",
       "      <th>6542</th>\n",
       "      <td>1.0000</td>\n",
       "      <td>0.539007</td>\n",
       "      <td>0.082323</td>\n",
       "      <td>0.125</td>\n",
       "      <td>0.000</td>\n",
       "      <td>0.125</td>\n",
       "      <td>0.125</td>\n",
       "      <td>0.125</td>\n",
       "      <td>0.048005</td>\n",
       "      <td>0.000</td>\n",
       "      <td>0.329646</td>\n",
       "      <td>0.011062</td>\n",
       "      <td>0.000</td>\n",
       "      <td>2</td>\n",
       "    </tr>\n",
       "    <tr>\n",
       "      <th>1237</th>\n",
       "      <td>0.4750</td>\n",
       "      <td>0.344681</td>\n",
       "      <td>0.073485</td>\n",
       "      <td>0.125</td>\n",
       "      <td>0.125</td>\n",
       "      <td>0.000</td>\n",
       "      <td>0.125</td>\n",
       "      <td>0.000</td>\n",
       "      <td>0.030003</td>\n",
       "      <td>0.250</td>\n",
       "      <td>0.270990</td>\n",
       "      <td>0.014582</td>\n",
       "      <td>0.125</td>\n",
       "      <td>2</td>\n",
       "    </tr>\n",
       "    <tr>\n",
       "      <th>5423</th>\n",
       "      <td>0.8500</td>\n",
       "      <td>0.449645</td>\n",
       "      <td>0.017172</td>\n",
       "      <td>0.125</td>\n",
       "      <td>0.125</td>\n",
       "      <td>0.125</td>\n",
       "      <td>0.125</td>\n",
       "      <td>0.125</td>\n",
       "      <td>0.030003</td>\n",
       "      <td>0.000</td>\n",
       "      <td>0.497235</td>\n",
       "      <td>0.005531</td>\n",
       "      <td>0.000</td>\n",
       "      <td>2</td>\n",
       "    </tr>\n",
       "  </tbody>\n",
       "</table>\n",
       "</div>"
      ],
      "text/plain": [
       "      AgeAtSurvey  PlateletCount  CreatinePhosphokinase  \\\n",
       "311        0.4000       0.293617               0.046212   \n",
       "4334       0.6875       0.304965               0.038384   \n",
       "6542       1.0000       0.539007               0.082323   \n",
       "1237       0.4750       0.344681               0.073485   \n",
       "5423       0.8500       0.449645               0.017172   \n",
       "\n",
       "      ChemicalPesticideUsedInHomePast7days  \\\n",
       "311                                  0.125   \n",
       "4334                                 0.125   \n",
       "6542                                 0.125   \n",
       "1237                                 0.125   \n",
       "5423                                 0.125   \n",
       "\n",
       "      ChemicalWeedKillUsedExteriorHomePast7days  \\\n",
       "311                                       0.000   \n",
       "4334                                      0.125   \n",
       "6542                                      0.000   \n",
       "1237                                      0.125   \n",
       "5423                                      0.125   \n",
       "\n",
       "      VigorousRecreationalActivities10+min/WeekYN  WalkOrBicycle10+Min/weekYN  \\\n",
       "311                                         0.125                       0.000   \n",
       "4334                                        0.125                       0.125   \n",
       "6542                                        0.125                       0.125   \n",
       "1237                                        0.000                       0.125   \n",
       "5423                                        0.125                       0.125   \n",
       "\n",
       "      ModerateRecreationalActivities10+min/WeekYN  \\\n",
       "311                                         0.000   \n",
       "4334                                        0.125   \n",
       "6542                                        0.125   \n",
       "1237                                        0.000   \n",
       "5423                                        0.125   \n",
       "\n",
       "      Minutes/DaySedentaryActivity  UseMilk>=5x/wk       BMI  WeightAt25Yrs  \\\n",
       "311                       0.042004           0.250  0.285544       0.013576   \n",
       "4334                      0.012001           0.125  0.436903       0.007039   \n",
       "6542                      0.048005           0.000  0.329646       0.011062   \n",
       "1237                      0.030003           0.250  0.270990       0.014582   \n",
       "5423                      0.030003           0.000  0.497235       0.005531   \n",
       "\n",
       "      HasArthritis  HasAsthma  \n",
       "311          0.125          2  \n",
       "4334         0.000          2  \n",
       "6542         0.000          2  \n",
       "1237         0.125          2  \n",
       "5423         0.000          2  "
      ]
     },
     "execution_count": 111,
     "metadata": {},
     "output_type": "execute_result"
    }
   ],
   "source": [
    "length_HasAsthma_yes=len(HasAsthma_yes)\n",
    "length_HasAsthma_other=len(HasAsthma_other)\n",
    "random_index= np.random.randint(0, length_HasAsthma_other, size=(1,length_HasAsthma_yes))\n",
    "random_index[0]\n",
    "HasAsthma_other = HasAsthma_other.iloc[random_index[0]]\n",
    "HasAsthma_new= pd.concat([HasAsthma_other, HasAsthma_yes])\n",
    "HasAsthma_new.head(5)\n",
    "##results in equal no and yes."
   ]
  },
  {
   "cell_type": "code",
   "execution_count": 112,
   "metadata": {},
   "outputs": [
    {
     "data": {
      "text/plain": [
       "2    434\n",
       "1    434\n",
       "Name: HasAsthma, dtype: int64"
      ]
     },
     "execution_count": 112,
     "metadata": {},
     "output_type": "execute_result"
    }
   ],
   "source": [
    "HasAsthma_new['HasAsthma'].value_counts()"
   ]
  },
  {
   "cell_type": "code",
   "execution_count": 113,
   "metadata": {},
   "outputs": [],
   "source": [
    "X = HasAsthma_new[colnames_list_noclass]\n",
    "y = HasAsthma_new['HasAsthma']"
   ]
  },
  {
   "cell_type": "code",
   "execution_count": 114,
   "metadata": {},
   "outputs": [],
   "source": [
    "# split X and y into training and testing sets\n",
    "from sklearn.model_selection import train_test_split\n",
    "X_train,X_test,y_train,y_test=train_test_split(X,y,test_size=0.25,random_state=0)\n",
    "#Dataset is broken into two parts in a ratio of 75:25. \n",
    "#75% data will be used for model training and 25% for model testing."
   ]
  },
  {
   "cell_type": "code",
   "execution_count": 115,
   "metadata": {},
   "outputs": [
    {
     "data": {
      "text/plain": [
       "8463"
      ]
     },
     "execution_count": 115,
     "metadata": {},
     "output_type": "execute_result"
    }
   ],
   "source": [
    "X_train.size"
   ]
  },
  {
   "cell_type": "code",
   "execution_count": 116,
   "metadata": {},
   "outputs": [
    {
     "data": {
      "text/plain": [
       "2821"
      ]
     },
     "execution_count": 116,
     "metadata": {},
     "output_type": "execute_result"
    }
   ],
   "source": [
    "X_test.size"
   ]
  },
  {
   "cell_type": "code",
   "execution_count": 117,
   "metadata": {},
   "outputs": [
    {
     "data": {
      "text/plain": [
       "651"
      ]
     },
     "execution_count": 117,
     "metadata": {},
     "output_type": "execute_result"
    }
   ],
   "source": [
    "y_train.size"
   ]
  },
  {
   "cell_type": "code",
   "execution_count": 118,
   "metadata": {},
   "outputs": [
    {
     "data": {
      "text/plain": [
       "217"
      ]
     },
     "execution_count": 118,
     "metadata": {},
     "output_type": "execute_result"
    }
   ],
   "source": [
    "y_test.size"
   ]
  },
  {
   "cell_type": "code",
   "execution_count": 119,
   "metadata": {},
   "outputs": [],
   "source": [
    "# import the class\n",
    "from sklearn.linear_model import LogisticRegression"
   ]
  },
  {
   "cell_type": "code",
   "execution_count": 120,
   "metadata": {},
   "outputs": [],
   "source": [
    "# instantiate the model (using the default parameters)\n",
    "logreg = LogisticRegression(max_iter=1000)"
   ]
  },
  {
   "cell_type": "code",
   "execution_count": null,
   "metadata": {},
   "outputs": [],
   "source": []
  },
  {
   "cell_type": "code",
   "execution_count": 121,
   "metadata": {},
   "outputs": [],
   "source": [
    "#https://www.geeksforgeeks.org/ml-label-encoding-of-datasets-in-python/\n",
    "# Import label encoder\n",
    "from sklearn import preprocessing\n",
    "\n",
    "\n",
    "# label_encoder object knows how to understand word labels. \n",
    "label_encoder = preprocessing.LabelEncoder() "
   ]
  },
  {
   "cell_type": "code",
   "execution_count": 122,
   "metadata": {},
   "outputs": [
    {
     "data": {
      "text/plain": [
       "LogisticRegression(C=1.0, class_weight=None, dual=False, fit_intercept=True,\n",
       "                   intercept_scaling=1, l1_ratio=None, max_iter=1000,\n",
       "                   multi_class='auto', n_jobs=None, penalty='l2',\n",
       "                   random_state=None, solver='lbfgs', tol=0.0001, verbose=0,\n",
       "                   warm_start=False)"
      ]
     },
     "execution_count": 122,
     "metadata": {},
     "output_type": "execute_result"
    }
   ],
   "source": [
    "# fit the model with data\n",
    "logreg.fit(X_train,y_train)"
   ]
  },
  {
   "cell_type": "code",
   "execution_count": 123,
   "metadata": {},
   "outputs": [],
   "source": [
    "y_pred=logreg.predict(X_test)"
   ]
  },
  {
   "cell_type": "code",
   "execution_count": 124,
   "metadata": {},
   "outputs": [],
   "source": [
    "# import the metrics class\n",
    "from sklearn import metrics"
   ]
  },
  {
   "cell_type": "code",
   "execution_count": 125,
   "metadata": {},
   "outputs": [
    {
     "data": {
      "text/plain": [
       "array([[71, 37],\n",
       "       [55, 54]])"
      ]
     },
     "execution_count": 125,
     "metadata": {},
     "output_type": "execute_result"
    }
   ],
   "source": [
    "cnf_matrix = metrics.confusion_matrix(y_test, y_pred)\n",
    "cnf_matrix"
   ]
  },
  {
   "cell_type": "code",
   "execution_count": 126,
   "metadata": {},
   "outputs": [
    {
     "data": {
      "text/plain": [
       "0.576036866359447"
      ]
     },
     "execution_count": 126,
     "metadata": {},
     "output_type": "execute_result"
    }
   ],
   "source": [
    "classification_accuracy = metrics.accuracy_score(y_test, y_pred)\n",
    "classification_accuracy"
   ]
  },
  {
   "cell_type": "code",
   "execution_count": 127,
   "metadata": {},
   "outputs": [],
   "source": [
    "import seaborn as sns"
   ]
  },
  {
   "cell_type": "code",
   "execution_count": 128,
   "metadata": {},
   "outputs": [
    {
     "data": {
      "text/plain": [
       "<matplotlib.axes._subplots.AxesSubplot at 0x1a1e2863c8>"
      ]
     },
     "execution_count": 128,
     "metadata": {},
     "output_type": "execute_result"
    },
    {
     "data": {
      "image/png": "[encoded data removed]",
      "text/plain": [
       "<Figure size 432x288 with 2 Axes>"
      ]
     },
     "metadata": {
      "needs_background": "light"
     },
     "output_type": "display_data"
    }
   ],
   "source": [
    "sns.heatmap(cnf_matrix, annot = True, fmt = 'g', cmap = 'Blues')\n",
    "#Visualize the confusion matrix using a heatmap"
   ]
  },
  {
   "cell_type": "code",
   "execution_count": 129,
   "metadata": {},
   "outputs": [
    {
     "name": "stdout",
     "output_type": "stream",
     "text": [
      "Accuracy: 0.576036866359447\n",
      "Precision: 0.5634920634920635\n",
      "Recall: 0.6574074074074074\n"
     ]
    }
   ],
   "source": [
    "print(\"Accuracy:\",metrics.accuracy_score(y_test, y_pred))\n",
    "print(\"Precision:\",metrics.precision_score(y_test, y_pred))\n",
    "print(\"Recall:\",metrics.recall_score(y_test, y_pred))\n",
    "#https://www.datacamp.com/community/tutorials/understanding-logistic-regression-python"
   ]
  },
  {
   "cell_type": "markdown",
   "metadata": {},
   "source": [
    "**Visualize the confusion matrix using a heatmap.**The classification rate is around 55%, which is a good\n",
    "Accuracy in that it is more than 50%.  The precision, or how often the model is correct, predicts if people with certain habits or bloodwork will or will not get asthma 85% of the time. If there are\n",
    "people that will or will not get asthma, the Logistic Regression model can identify it 57.4% of\n",
    "the time.  There are two classes here; the person will get asthma or the person will not get asthma.   The classifier made a total of 217 predictions.  \n",
    "The prediction showed “yes” 103 times, and “no” 114 times.\n"
   ]
  },
  {
   "cell_type": "code",
   "execution_count": 130,
   "metadata": {},
   "outputs": [],
   "source": [
    "#https://heartbeat.fritz.ai/k-means-clustering-using-sklearn-and-python-4a054d67b187\n",
    "from sklearn.cluster import KMeans"
   ]
  },
  {
   "cell_type": "code",
   "execution_count": 131,
   "metadata": {},
   "outputs": [],
   "source": [
    "#hide hasasthma for the kmeans\n",
    "HasAsthma_new[colnames_list].drop(['HasAsthma'], axis = 1, inplace=True)"
   ]
  },
  {
   "cell_type": "code",
   "execution_count": 132,
   "metadata": {},
   "outputs": [
    {
     "data": {
      "text/plain": [
       "Index(['AgeAtSurvey', 'PlateletCount', 'CreatinePhosphokinase',\n",
       "       'ChemicalPesticideUsedInHomePast7days',\n",
       "       'ChemicalWeedKillUsedExteriorHomePast7days',\n",
       "       'VigorousRecreationalActivities10+min/WeekYN',\n",
       "       'WalkOrBicycle10+Min/weekYN',\n",
       "       'ModerateRecreationalActivities10+min/WeekYN',\n",
       "       'Minutes/DaySedentaryActivity', 'UseMilk>=5x/wk', 'BMI',\n",
       "       'WeightAt25Yrs', 'HasArthritis', 'HasAsthma'],\n",
       "      dtype='object')"
      ]
     },
     "execution_count": 132,
     "metadata": {},
     "output_type": "execute_result"
    }
   ],
   "source": [
    "HasAsthma_new.columns"
   ]
  },
  {
   "cell_type": "code",
   "execution_count": 133,
   "metadata": {},
   "outputs": [],
   "source": [
    " #HasAsthma_yes\n",
    "    #HasAsthma_new\n",
    "    #asthma_clean[feature_cols]\n",
    "    #asthma_clean['HasAsthma']\n",
    "#x = asthma_clean[feature_cols].iloc[:, [2,3,9,10]].values\n",
    "#x = HasAsthma_new.iloc[:, :].values\n",
    "#x = asthma_clean[colnames_list] .iloc[:, :].values\n",
    "x = HasAsthma_new[colnames_list_noclass] .iloc[:, :].values"
   ]
  },
  {
   "cell_type": "code",
   "execution_count": 134,
   "metadata": {
    "scrolled": false
   },
   "outputs": [
    {
     "name": "stdout",
     "output_type": "stream",
     "text": [
      "[3 0 2 3 2 3 2 0 2 2 0 3 3 3 0 1 0 3 2 2 3 0 2 0 2 0 0 3 2 2 0 2 3 3 2 3 3\n",
      " 0 3 0 0 2 2 3 3 3 2 0 2 0 1 0 1 2 2 2 2 3 3 3 2 0 3 2 1 3 0 2 3 1 0 0 1 2\n",
      " 2 0 0 2 2 4 0 0 2 0 0 2 0 3 2 2 2 2 0 0 3 0 3 3 0 2 0 3 3 2 2 3 0 3 0 2 0\n",
      " 0 0 1 0 1 3 2 0 2 0 1 2 2 2 1 2 2 2 0 3 1 2 2 0 2 0 0 3 0 0 3 0 3 3 0 0 3\n",
      " 3 3 3 3 4 2 3 3 0 4 2 0 0 2 2 2 0 2 1 2 0 0 0 3 2 2 2 3 3 0 3 2 3 2 3 2 2\n",
      " 0 3 2 0 0 0 2 3 0 0 0 0 3 0 2 2 0 2 2 0 3 0 3 3 2 3 3 3 2 0 3 2 2 1 4 2 2\n",
      " 2 3 4 0 3 0 3 3 3 1 2 0 2 2 1 3 2 0 0 3 0 2 2 2 0 2 0 3 3 2 2 2 2 2 2 3 1\n",
      " 3 3 2 2 2 2 0 0 3 3 2 3 3 0 3 2 0 0 0 0 3 2 2 0 0 3 2 2 0 4 2 0 3 3 2 0 3\n",
      " 0 0 3 2 1 2 3 0 2 2 2 3 2 2 3 0 0 2 3 2 2 3 3 2 3 2 3 0 2 0 1 0 2 3 3 0 2\n",
      " 2 0 3 2 2 3 2 0 0 0 0 2 2 0 0 4 2 0 2 3 2 2 2 2 0 2 2 0 2 3 1 0 0 0 2 3 3\n",
      " 0 3 3 3 0 2 2 2 3 2 2 0 3 2 0 0 0 3 3 0 0 0 2 2 3 3 2 3 3 3 3 0 3 3 2 0 2\n",
      " 0 0 0 1 2 2 2 0 0 3 2 2 3 0 0 3 3 3 0 1 3 3 0 3 2 2 2 0 2 0 2 0 0 0 0 2 3\n",
      " 4 3 3 0 0 2 3 3 3 3 3 3 2 0 3 3 2 2 0 2 4 2 2 0 3 3 3 2 0 1 2 0 0 0 2 0 0\n",
      " 2 1 0 0 2 3 0 2 3 3 0 0 3 0 3 2 3 1 3 2 0 0 0 0 3 4 3 2 0 3 2 0 2 0 2 0 2\n",
      " 0 3 2 2 3 2 2 3 3 3 0 0 1 3 2 2 0 0 3 0 0 3 4 0 1 3 0 3 3 0 3 0 0 3 3 0 3\n",
      " 3 4 0 1 2 2 3 3 2 3 0 2 0 0 0 3 0 2 0 3 2 0 0 4 2 3 2 0 2 3 3 3 0 3 3 3 0\n",
      " 2 3 3 2 2 3 3 2 0 2 3 3 3 2 2 2 0 2 0 3 2 3 2 3 4 2 0 0 3 0 2 0 0 3 0 3 4\n",
      " 2 2 3 4 3 0 2 3 3 3 0 2 3 0 0 2 2 0 0 0 3 3 0 0 3 2 0 3 3 2 2 2 0 2 0 0 4\n",
      " 0 0 0 3 0 0 2 3 3 2 3 3 3 2 0 2 0 0 0 0 4 2 0 3 3 3 3 2 3 0 3 3 0 0 4 2 2\n",
      " 0 3 0 0 3 3 2 3 2 3 3 2 2 2 0 2 3 1 2 2 3 3 0 3 2 3 3 3 0 2 3 3 0 3 2 3 3\n",
      " 3 2 2 0 0 2 2 2 3 3 3 0 2 2 2 2 0 2 0 2 2 3 0 3 3 0 2 3 2 0 0 0 2 0 2 2 0\n",
      " 2 3 2 2 0 3 0 0 2 0 2 3 0 2 2 2 3 0 3 3 3 3 4 0 3 3 0 0 2 3 2 2 3 0 3 2 0\n",
      " 2 3 3 2 2 3 3 2 3 3 0 3 0 3 3 4 3 3 2 2 1 3 3 3 3 2 2 0 2 2 0 2 2 2 0 0 2\n",
      " 3 2 0 2 3 3 0 2 3 2 2 2 0 0 3 3 2]\n"
     ]
    },
    {
     "data": {
      "text/plain": [
       "array([[0.65402462, 0.29796368, 0.0422712 , 0.10511364, 0.11742424,\n",
       "        0.09659091, 0.09801136, 0.07481061, 0.05501497, 0.1188447 ,\n",
       "        0.38116251, 0.00982129, 0.07481061],\n",
       "       [0.77715517, 0.31944241, 0.02809126, 0.08189655, 0.12068966,\n",
       "        0.11637931, 0.0862069 , 0.09051724, 0.04117653, 0.06465517,\n",
       "        0.        , 1.        , 0.08189655],\n",
       "       [0.87826855, 0.32443676, 0.03156387, 0.11130742, 0.11219081,\n",
       "        0.1130742 , 0.10600707, 0.07376325, 0.04273396, 0.1130742 ,\n",
       "        0.40015011, 0.0088659 , 0.05123675],\n",
       "       [0.43823801, 0.32594279, 0.03784338, 0.11946494, 0.12084871,\n",
       "        0.08440959, 0.09225092, 0.07057196, 0.04096351, 0.12453875,\n",
       "        0.34824368, 0.01123302, 0.11162362],\n",
       "       [0.68154762, 0.3003715 , 0.04304954, 0.14285714, 1.        ,\n",
       "        0.10714286, 0.11309524, 0.08333333, 0.05457689, 0.125     ,\n",
       "        0.40756962, 0.0083228 , 0.0952381 ]])"
      ]
     },
     "execution_count": 134,
     "metadata": {},
     "output_type": "execute_result"
    }
   ],
   "source": [
    "kmeans5 = KMeans(n_clusters=5)\n",
    "y_kmeans5 = kmeans5.fit_predict(x)\n",
    "print(y_kmeans5)\n",
    "#find the 5 clusters formed from the data\n",
    "kmeans5.cluster_centers_"
   ]
  },
  {
   "cell_type": "code",
   "execution_count": 135,
   "metadata": {},
   "outputs": [
    {
     "data": {
      "image/png": "[encoded data removed]",
      "text/plain": [
       "<Figure size 432x288 with 1 Axes>"
      ]
     },
     "metadata": {
      "needs_background": "light"
     },
     "output_type": "display_data"
    }
   ],
   "source": [
    "Error =[]\n",
    "for i in range(1, 11):\n",
    "    kmeans = KMeans(n_clusters = i).fit(x)\n",
    "    kmeans.fit(x)\n",
    "    Error.append(kmeans.inertia_)\n",
    "plt.plot(range(1, 11), Error)\n",
    "plt.title('Elbow method')\n",
    "plt.xlabel('No of clusters')\n",
    "plt.ylabel('Error')\n",
    "plt.show()\n",
    "#The Elbow method shows the optimal at k=4"
   ]
  },
  {
   "cell_type": "code",
   "execution_count": 136,
   "metadata": {},
   "outputs": [
    {
     "name": "stdout",
     "output_type": "stream",
     "text": [
      "[0 2 2 0 2 0 2 0 2 2 0 0 0 0 0 1 0 0 2 2 0 0 2 2 2 0 2 0 2 2 0 2 0 0 2 0 0\n",
      " 2 0 2 0 2 2 0 0 0 2 2 2 0 1 2 1 2 2 2 2 0 0 0 2 2 0 2 1 0 0 2 0 1 0 0 1 2\n",
      " 2 2 2 2 2 3 2 2 2 0 2 2 2 0 2 2 2 2 0 2 0 2 0 0 0 2 0 0 0 2 2 0 0 0 2 2 0\n",
      " 2 2 1 0 1 0 2 0 2 2 1 2 2 2 1 2 2 2 2 0 1 2 2 0 2 0 2 0 0 0 0 0 0 0 0 0 0\n",
      " 0 0 0 0 3 2 0 0 0 3 2 0 2 2 2 2 0 2 1 2 2 0 0 0 2 2 2 0 0 0 0 2 0 2 0 2 2\n",
      " 2 0 2 2 0 0 2 0 0 0 2 2 0 2 2 2 2 2 2 0 0 2 0 0 2 0 0 0 2 2 0 2 2 1 3 2 2\n",
      " 2 0 3 2 0 2 0 0 0 1 2 2 2 2 1 0 2 2 0 0 0 2 2 2 0 2 2 0 0 2 2 2 2 2 2 0 1\n",
      " 0 0 2 2 2 2 0 0 0 0 2 0 0 0 0 2 0 0 2 0 0 2 2 2 0 0 2 2 0 3 2 0 0 0 2 2 0\n",
      " 0 0 0 2 1 2 0 0 2 2 2 0 2 2 0 0 0 2 0 2 2 0 0 2 0 2 0 2 2 0 1 2 2 0 0 0 2\n",
      " 2 2 0 2 2 0 2 2 0 2 0 2 2 0 2 3 2 0 2 0 2 2 2 2 0 2 2 2 2 0 1 2 2 2 2 0 0\n",
      " 2 0 0 0 2 2 2 2 0 2 2 2 0 2 2 2 2 0 0 2 2 2 2 2 0 0 2 0 0 0 0 2 0 0 2 0 2\n",
      " 0 0 0 1 2 2 2 2 2 0 2 2 0 0 0 0 0 0 0 1 0 0 0 0 2 2 2 0 2 2 2 2 0 0 2 2 0\n",
      " 3 0 0 0 0 2 0 0 0 0 0 0 2 2 0 0 2 2 0 2 3 2 2 0 0 0 0 2 2 1 2 2 0 0 2 2 0\n",
      " 2 1 2 2 2 0 2 2 0 0 0 2 0 2 0 2 0 1 0 2 2 2 2 0 0 3 0 2 2 0 2 0 2 2 2 2 2\n",
      " 2 0 2 2 0 2 2 0 0 0 2 2 1 0 2 2 2 0 0 0 2 0 3 2 1 0 0 0 0 2 0 0 0 0 0 2 0\n",
      " 0 3 0 1 2 2 0 0 2 0 0 2 2 0 2 0 2 2 0 0 2 0 0 3 2 0 2 0 2 0 0 0 2 0 0 0 0\n",
      " 2 0 0 2 2 0 0 2 0 2 0 0 0 2 2 2 2 2 2 0 2 0 2 0 3 2 0 0 0 2 2 2 0 0 0 0 3\n",
      " 2 2 0 3 0 2 2 0 0 0 0 2 0 0 0 2 2 0 0 0 0 0 2 0 0 2 0 0 0 2 2 2 2 2 0 0 3\n",
      " 2 0 2 0 0 2 2 0 0 2 0 0 0 2 2 2 0 0 0 2 3 2 2 0 0 0 0 2 0 2 0 0 0 0 3 2 2\n",
      " 2 0 0 0 0 0 2 0 2 0 0 2 2 2 2 2 0 1 2 2 0 0 2 0 2 0 0 0 0 2 0 0 2 0 2 0 0\n",
      " 0 2 2 2 0 2 2 2 0 0 0 0 2 2 2 2 0 2 0 2 2 0 0 0 0 2 2 0 2 0 2 2 2 2 2 2 0\n",
      " 2 0 2 2 2 0 0 2 2 2 2 0 2 2 2 2 0 0 0 0 0 0 3 0 0 0 2 0 2 0 2 2 0 0 0 2 2\n",
      " 2 0 0 2 2 0 0 2 0 0 2 0 0 0 0 3 0 0 2 2 1 0 0 0 0 2 2 2 2 2 0 2 2 2 2 0 2\n",
      " 0 2 0 2 0 0 2 2 0 2 2 2 0 2 0 0 2]\n"
     ]
    },
    {
     "data": {
      "text/plain": [
       "array([[0.49290954, 0.31531325, 0.04206305, 0.11369193, 0.11919315,\n",
       "        0.08679707, 0.09688264, 0.07243276, 0.04623347, 0.12438875,\n",
       "        0.35969412, 0.0107878 , 0.10360636],\n",
       "       [0.77715517, 0.31944241, 0.02809126, 0.08189655, 0.12068966,\n",
       "        0.11637931, 0.0862069 , 0.09051724, 0.04117653, 0.06465517,\n",
       "        0.        , 1.        , 0.08189655],\n",
       "       [0.82732274, 0.31747039, 0.03213677, 0.11033007, 0.11430318,\n",
       "        0.10971883, 0.10085575, 0.07365526, 0.04598846, 0.11308068,\n",
       "        0.39395728, 0.00912912, 0.05409535],\n",
       "       [0.68154762, 0.3003715 , 0.04304954, 0.14285714, 1.        ,\n",
       "        0.10714286, 0.11309524, 0.08333333, 0.05457689, 0.125     ,\n",
       "        0.40756962, 0.0083228 , 0.0952381 ]])"
      ]
     },
     "execution_count": 136,
     "metadata": {},
     "output_type": "execute_result"
    }
   ],
   "source": [
    "kmeans4 = KMeans(n_clusters=4)\n",
    "y_kmeans4 = kmeans4.fit_predict(x)\n",
    "print(y_kmeans4)\n",
    "#find the 4 clusters formed from the data\n",
    "kmeans4.cluster_centers_\n",
    "#bring labels back to original people.  Put these cluster labels in as another column.  \n",
    "#Then do groupby with statistics.  Look for values to summarize the labels.\n",
    "#Every row has one of these labels.  Can take the average of all of the x columns, each one.\n",
    "#have another column that is the count of each"
   ]
  },
  {
   "cell_type": "code",
   "execution_count": null,
   "metadata": {},
   "outputs": [],
   "source": []
  },
  {
   "cell_type": "code",
   "execution_count": null,
   "metadata": {},
   "outputs": [],
   "source": []
  },
  {
   "cell_type": "markdown",
   "metadata": {},
   "source": [
    "https://datascience.stackexchange.com/questions/16700/confused-about-how-to-apply-kmeans-on-my-a-dataset-with-features-extracted"
   ]
  },
  {
   "cell_type": "code",
   "execution_count": 150,
   "metadata": {},
   "outputs": [],
   "source": [
    "#Make a copy of DF\n",
    "#df_tr = df\n",
    "HasAsthma_new_tr = HasAsthma_new\n",
    "#Transsform the timeOfDay to dummies\n",
    "#df_tr = pd.get_dummies(df_tr, columns=['timeOfDay'])\n",
    "\n",
    "#Standardize\n",
    "#clmns = ['Wattage', 'Duration','timeOfDay_Afternoon', 'timeOfDay_Evening','timeOfDay_Morning']\n",
    "#df_tr_std = stats.zscore(df_tr[clmns])\n",
    "#Cluster the data\n",
    "#kmeans = KMeans(n_clusters=2, random_state=0).fit(df_tr_std)\n",
    "clmns = ['AgeAtSurvey','ChemicalPesticideUsedInHomePast7days','Minutes/DaySedentaryActivity', 'UseMilk>=5x/wk', 'BMI']\n",
    "#labels = kmeans.labels_\n",
    "labels = kmeans4.labels_\n",
    "\n",
    "#Glue back to originaal data\n",
    "#df_tr['clusters'] = labels\n",
    "HasAsthma_new_tr['clusters'] = labels\n",
    "#Add the column into our list\n",
    "#clmns.extend(['clusters'])\n",
    "clmns.extend(['clusters'])\n",
    "##HasAsthma_new.columns is the list?\n"
   ]
  },
  {
   "cell_type": "code",
   "execution_count": 151,
   "metadata": {},
   "outputs": [
    {
     "ename": "SyntaxError",
     "evalue": "invalid syntax (<ipython-input-151-aab82c3d5523>, line 3)",
     "output_type": "error",
     "traceback": [
      "\u001b[0;36m  File \u001b[0;32m\"<ipython-input-151-aab82c3d5523>\"\u001b[0;36m, line \u001b[0;32m3\u001b[0m\n\u001b[0;31m    print HasAsthma_new_tr[clmns].groupby(['clusters']).mean()\u001b[0m\n\u001b[0m                         ^\u001b[0m\n\u001b[0;31mSyntaxError\u001b[0m\u001b[0;31m:\u001b[0m invalid syntax\n"
     ]
    }
   ],
   "source": [
    "#Lets analyze the clusters\n",
    "#print df_tr[clmns].groupby(['clusters']).mean()\n",
    "print HasAsthma_new_tr[clmns].groupby(['clusters']).mean()"
   ]
  },
  {
   "cell_type": "code",
   "execution_count": null,
   "metadata": {},
   "outputs": [],
   "source": []
  },
  {
   "cell_type": "code",
   "execution_count": null,
   "metadata": {},
   "outputs": [],
   "source": []
  },
  {
   "cell_type": "code",
   "execution_count": null,
   "metadata": {},
   "outputs": [],
   "source": []
  },
  {
   "cell_type": "code",
   "execution_count": null,
   "metadata": {},
   "outputs": [],
   "source": []
  },
  {
   "cell_type": "code",
   "execution_count": 137,
   "metadata": {},
   "outputs": [],
   "source": [
    "kmeans_cluster_col = HasAsthma_new.append"
   ]
  },
  {
   "cell_type": "code",
   "execution_count": 138,
   "metadata": {},
   "outputs": [
    {
     "data": {
      "text/plain": [
       "<function matplotlib.pyplot.legend(*args, **kwargs)>"
      ]
     },
     "execution_count": 138,
     "metadata": {},
     "output_type": "execute_result"
    },
    {
     "data": {
      "image/png": "[encoded data removed]",
      "text/plain": [
       "<Figure size 432x288 with 1 Axes>"
      ]
     },
     "metadata": {
      "needs_background": "light"
     },
     "output_type": "display_data"
    }
   ],
   "source": [
    "plt.scatter(x[:, 8], x[:, 10], c = y_kmeans4, cmap='rainbow')\n",
    "# 8 = min/day sedentary activity, 10 = BMI at age 25"
   ]
  },
  {
   "cell_type": "code",
   "execution_count": 139,
   "metadata": {},
   "outputs": [
    {
     "data": {
      "text/plain": [
       "<matplotlib.collections.PathCollection at 0x1a20f32390>"
      ]
     },
     "execution_count": 139,
     "metadata": {},
     "output_type": "execute_result"
    },
    {
     "data": {
      "image/png": "[encoded data removed]",
      "text/plain": [
       "<Figure size 432x288 with 1 Axes>"
      ]
     },
     "metadata": {
      "needs_background": "light"
     },
     "output_type": "display_data"
    }
   ],
   "source": [
    "plt.scatter(x[:, 3], x[:, 9], c = y_kmeans4, cmap='rainbow')\n",
    "# 3 = ChemicalPesticideUseIndoors past7days, 9 = UseMilk >=5x/wk"
   ]
  },
  {
   "cell_type": "code",
   "execution_count": 140,
   "metadata": {
    "scrolled": true
   },
   "outputs": [
    {
     "data": {
      "text/plain": [
       "<matplotlib.collections.PathCollection at 0x1a20f7e550>"
      ]
     },
     "execution_count": 140,
     "metadata": {},
     "output_type": "execute_result"
    },
    {
     "data": {
      "image/png": "[encoded data removed]",
      "text/plain": [
       "<Figure size 432x288 with 1 Axes>"
      ]
     },
     "metadata": {
      "needs_background": "light"
     },
     "output_type": "display_data"
    }
   ],
   "source": [
    "plt.scatter(x[:, 0], x[:, 9], c = y_kmeans4, cmap='rainbow')\n",
    "# 0 = current age     9 = UseMilk >=5x/wk"
   ]
  },
  {
   "cell_type": "code",
   "execution_count": 141,
   "metadata": {},
   "outputs": [],
   "source": [
    "#https://stackabuse.com/k-means-clustering-with-scikit-learn/"
   ]
  },
  {
   "cell_type": "code",
   "execution_count": null,
   "metadata": {},
   "outputs": [],
   "source": []
  },
  {
   "cell_type": "code",
   "execution_count": null,
   "metadata": {},
   "outputs": [],
   "source": []
  },
  {
   "cell_type": "markdown",
   "metadata": {},
   "source": [
    "Apply K-Means clustering on all records to get groups/clusters and analyze each group.\n",
    "Lets say you create 5 clusters from your data. K-Means will give cluster labels to each record.\n",
    "Now you filter data for each label separately and analyze each column. For example How many Asthma and Non Asthma people in cluster 1? If Asthma people are leading in this cluster then what is the min/max BMI in cluster 1? Do this for other columns and try to proof your hypothesis.\n",
    "Do the same thing for clusters 2, 3, 4 and 5 and see if they are showing different statistics and story.\n",
    "Then you can conclude that how Machine Learning technique (K-Means) can help segmenting and grouping people who have Asthma and provide safe/dangerous levels for those columns/features/attributes/observations"
   ]
  },
  {
   "cell_type": "code",
   "execution_count": null,
   "metadata": {},
   "outputs": [],
   "source": []
  },
  {
   "cell_type": "code",
   "execution_count": null,
   "metadata": {},
   "outputs": [],
   "source": [
    "#This can be used for a separate study on children\n",
    "#'PAQ677' : 'Past7DaysCardio20Minutes+'\n",
    "#'PAQ678' : 'Past7DaysStrengthTone20Minutes+'\n",
    "#'PAQ706' : 'Past7DaysCardio60Minutes+'\n",
    "#**Exercise conversion to be counted at yes if indicated 3 or more days that week**\n",
    "#old value(string) into new value(integer)  #1 == \"yes\"\n",
    "#df.loc[(df['Past7DaysCardio20Minutes+'] >=3) & (df['Past7DaysCardio20Minutes+'] <=7),'Past7DaysCardio20Minutes+'] = 1\n",
    "#df.loc[(df['Past7DaysStrengthTone20Minutes+'] >=3) & (df['Past7DaysStrengthTone20Minutes+'] <=7),'Past7DaysStrengthTone20Minutes+'] = 1\n",
    "#df.loc[(df['Past7DaysCardio60Minutes+'] >=3) & (df['Past7DaysCardio60Minutes+'] <=7),'Past7DaysCardio60Minutes+'] = 1"
   ]
  }
 ],
 "metadata": {
  "kernelspec": {
   "display_name": "Python 3",
   "language": "python",
   "name": "python3"
  },
  "language_info": {
   "codemirror_mode": {
    "name": "ipython",
    "version": 3
   },
   "file_extension": ".py",
   "mimetype": "text/x-python",
   "name": "python",
   "nbconvert_exporter": "python",
   "pygments_lexer": "ipython3",
   "version": "3.7.3"
  }
 },
 "nbformat": 4,
 "nbformat_minor": 2
}
