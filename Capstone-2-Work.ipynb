{
 "cells": [
  {
   "cell_type": "code",
   "execution_count": null,
   "metadata": {},
   "outputs": [],
   "source": []
  },
  {
   "cell_type": "code",
   "execution_count": null,
   "metadata": {},
   "outputs": [],
   "source": []
  },
  {
   "cell_type": "code",
   "execution_count": null,
   "metadata": {},
   "outputs": [],
   "source": []
  },
  {
   "cell_type": "markdown",
   "metadata": {},
   "source": [
    "#https://wwwn.cdc.gov/Nchs/Nhanes/Search/variablelist.aspx?Component=Questionnaire&CycleBeginYear=2013\n",
    "##The variable dictionary to understand the code at the top of each column. "
   ]
  },
  {
   "cell_type": "code",
   "execution_count": null,
   "metadata": {},
   "outputs": [],
   "source": [
    "import numpy as np # linear algebra\n",
    "import pandas as pd # data processing, CSV file I/O (e.g. pd.read_csv)\n",
    "import seaborn as sns\n",
    "import matplotlib\n",
    "import matplotlib.pyplot as plt\n",
    "from scipy import stats\n",
    "from scipy.stats import norm\n",
    "from scipy.stats import t\n",
    "from numpy.random import seed\n",
    "\n",
    "import re\n",
    "import sklearn\n",
    "\n",
    "import warnings\n",
    "warnings.filterwarnings(\"ignore\")\n",
    "\n",
    "%matplotlib inline"
   ]
  },
  {
   "cell_type": "code",
   "execution_count": null,
   "metadata": {},
   "outputs": [],
   "source": [
    "from pandas.io.json import json_normalize \n",
    "data = pd.read_csv('/Users/Sandi/Desktop/Projects/Capstone_2/questionnaire.csv')\n",
    "demographics = pd.read_csv('/Users/Sandi/Desktop/Projects/Capstone_2/demographic.csv')\n",
    "labs = pd.read_csv('/Users/Sandi/Desktop/Projects/Capstone_2/labs.csv')"
   ]
  },
  {
   "cell_type": "markdown",
   "metadata": {},
   "source": [
    "**Data Set Merge and Select Attribute**"
   ]
  },
  {
   "cell_type": "code",
   "execution_count": null,
   "metadata": {},
   "outputs": [],
   "source": [
    "data.drop(['SEQN'], axis = 1, inplace=True)\n",
    "demographics.drop(['SEQN'], axis = 1, inplace=True)\n",
    "labs.drop(['SEQN'], axis = 1, inplace=True)\n",
    "#https://www.kaggle.com/what0919/diabetes-prediction"
   ]
  },
  {
   "cell_type": "code",
   "execution_count": null,
   "metadata": {},
   "outputs": [],
   "source": [
    "df = pd.concat([data, demographics], axis=1, join='inner')\n",
    "df = pd.concat([df, labs], axis=1, join='inner')\n",
    "df.describe()\n",
    "#merge"
   ]
  },
  {
   "cell_type": "code",
   "execution_count": null,
   "metadata": {},
   "outputs": [],
   "source": []
  },
  {
   "cell_type": "markdown",
   "metadata": {},
   "source": [
    "**NaN Handling and Feature Column Selection**"
   ]
  },
  {
   "cell_type": "code",
   "execution_count": null,
   "metadata": {},
   "outputs": [],
   "source": [
    "from sklearn.feature_selection import VarianceThreshold\n",
    "\n",
    "df = df.rename(columns = {'SEQN' : 'ID',\n",
    "                          'RIAGENDR' : 'Gender',\n",
    "                          'RIDAGEYR' : 'AgeAtSurvey', \n",
    "                          'WHD120' : 'WeightAt25Yrs', \n",
    "                          'WHD130' : 'HeightAt25Yrs',\n",
    "                          'LBXPLTSI' : 'PlateletCount',\n",
    "                          'LBXSCK' : 'CreatinePhosphokinase',\n",
    "                          'MCQ160A' : 'HasArthritis',\n",
    "                          'MCQ010' : 'HasAsthma',\n",
    "                          'CSQ204' : 'AllergyCongestionPast12Months',\n",
    "                          'DBQ010' : 'Breast_fed',\n",
    "                          'DBQ229' : 'UseMilk>=5x/wk',\n",
    "                          'DBQ235B' : 'DrankMilkAge13to17yrs',\n",
    "                          'DBQ235C' : 'DrankMilkAge18to35yrs',\n",
    "                          'PUQ100' : 'ChemicalPesticideUsedInHomePast7days',\n",
    "                          'PUQ110' : 'ChemicalWeedKillUsedExteriorHomePast7days',\n",
    "                          'PAQ610' : 'NumberOfDays/WeekVigorousWork',\n",
    "                          'PAD615' : 'Minutes/DayVigorousIntensityWork',\n",
    "                          'PAQ625' : 'NumberOfDays/WeekModerateWork',\n",
    "                          'PAD630' : 'Minutes/DayModerateIntensityWork',\n",
    "                          'PAQ635' : 'WalkOrBicycle10+Min/weekYN',\n",
    "                          'PAQ640' : 'NumberDays/WeekWalkBicycle',\n",
    "                          'PAD645' : 'Minutes/DayWalkBicycleTransportation',\n",
    "                          'PAQ650' : 'VigorousRecreationalActivities10+min/WeekYN',\n",
    "                          'PAQ655' : 'Days/WeekVigorousRecreationalActivities',\n",
    "                          'PAD660' : 'Minutes/DayVigorousRecreationalActivities',\n",
    "                          'PAQ665' : 'ModerateRecreationalActivities10+min/WeekYN',\n",
    "                          'PAQ670' : 'Days/WeekModerateRecreationalActivities',\n",
    "                          'PAD675' : 'Minutes/DayModerateRecreationalActivities',\n",
    "                          'PAD680' : 'Minutes/DaySedentaryActivity'})\n",
    "\n",
    "df = df.loc[:, ['ID', 'Gender', 'AgeAtSurvey', 'WeightAt25Yrs', 'HeightAt25Yrs','PlateletCount', 'CreatinePhosphokinase', \n",
    "                'HasArthritis', 'HasAsthma', 'AllergyCongestionPast12Months', 'Breast_fed', 'UseMilk>=5x/wk', \n",
    "                'DrankMilkAge13to17yrs', 'DrankMilkAge18to35yrs', 'ChemicalPesticideUsedInHomePast7days', 'ChemicalWeedKillUsedExteriorHomePast7days',\n",
    "                'NumberOfDays/WeekVigorousWork', 'Minutes/DayVigorousIntensityWork',  \n",
    "                'NumberOfDays/WeekModerateWork', 'Minutes/DayModerateIntensityWork', \n",
    "                'WalkOrBicycle10+Min/weekYN', 'NumberDays/WeekWalkBicycle',\n",
    "                'Minutes/DayWalkBicycleTransportation', 'VigorousRecreationalActivities10+min/WeekYN', \n",
    "                'Days/WeekVigorousRecreationalActivities',\n",
    "                'Minutes/DayVigorousRecreationalActivities', 'ModerateRecreationalActivities10+min/WeekYN', \n",
    "                'Days/WeekModerateRecreationalActivities',\n",
    "                'Minutes/DayModerateRecreationalActivities', 'Minutes/DaySedentaryActivity']]\n",
    "\n",
    "#'PAQ677' : 'Past7DaysCardio20Minutes+','PAQ678' : 'Past7DaysStrengthTone20Minutes+', 'PAQ706' : 'Past7DaysCardio60Minutes+'\n"
   ]
  },
  {
   "cell_type": "code",
   "execution_count": null,
   "metadata": {},
   "outputs": [],
   "source": [
    "df.info()\n"
   ]
  },
  {
   "cell_type": "markdown",
   "metadata": {},
   "source": [
    "**Feature Generation**\n",
    "new column should be created for BMI.  \n",
    "#The formula is BMI = kg/m2 where kg is a person’s weight in kilograms and m2 is their height in meters squared.\n",
    "'WeightAt25Yrs' in kg divided by the 'HeightAt25Yrs' in meters squared.  "
   ]
  },
  {
   "cell_type": "code",
   "execution_count": null,
   "metadata": {},
   "outputs": [],
   "source": [
    "df.insert(4, 'BMI', df['WeightAt25Yrs']/ (df['WeightAt25Yrs']**2), True)\n",
    "#need to check the units for weight and height.\n",
    "#https://wwwn.cdc.gov/Nchs/Nhanes/2013-2014/WHQ_H.htm#Component_Description\n",
    "#English Instructions:\n",
    "    #ENTER HEIGHT IN FEET AND INCHES OR METERS AND CENTIMETERS.\n",
    "    #RECORD CURRENT WEIGHT. ENTER WEIGHT IN POUNDS OR KILOGRAMS. \n",
    "    #IF PREGNANT, ASK FOR WEIGHT BEFORE PREGNANCY. "
   ]
  },
  {
   "cell_type": "code",
   "execution_count": null,
   "metadata": {},
   "outputs": [],
   "source": [
    "df.info()"
   ]
  },
  {
   "cell_type": "code",
   "execution_count": null,
   "metadata": {},
   "outputs": [],
   "source": []
  },
  {
   "cell_type": "code",
   "execution_count": null,
   "metadata": {},
   "outputs": [],
   "source": [
    "colormap = plt.cm.viridis\n",
    "plt.figure(figsize=(20,20))\n",
    "sns.heatmap(df.astype(float).drop(axis=1, labels='ID').corr(), linewidths=0.1, vmax=1.0, square=True, cmap=colormap, annot=True)"
   ]
  },
  {
   "cell_type": "code",
   "execution_count": null,
   "metadata": {},
   "outputs": [],
   "source": []
  },
  {
   "cell_type": "code",
   "execution_count": null,
   "metadata": {},
   "outputs": [],
   "source": []
  },
  {
   "cell_type": "code",
   "execution_count": null,
   "metadata": {},
   "outputs": [],
   "source": []
  },
  {
   "cell_type": "code",
   "execution_count": null,
   "metadata": {},
   "outputs": [],
   "source": []
  },
  {
   "cell_type": "code",
   "execution_count": null,
   "metadata": {},
   "outputs": [],
   "source": [
    "#https://wwwn.cdc.gov/Nchs/Nhanes/2013-2014/MCQ_H.htm#MCQ160a\n",
    "df['HasArthritis'].value_counts()\n",
    "#those marked as 1.0 said yes that a doctor or health pro told them they had arthritis"
   ]
  },
  {
   "cell_type": "code",
   "execution_count": null,
   "metadata": {},
   "outputs": [],
   "source": []
  },
  {
   "cell_type": "markdown",
   "metadata": {},
   "source": [
    "**Question:  Is there a correlation with those who reported having been told they had arthritis, and their blood counts?**\n",
    "#When arthritis = 1.0, report the Creatine Phosphokinase.  \n"
   ]
  },
  {
   "cell_type": "code",
   "execution_count": null,
   "metadata": {},
   "outputs": [],
   "source": [
    "arthritis_bc_yes = df.loc[(df['HasArthritis'] == 1), ['CreatinePhosphokinase', 'PlateletCount']]\n",
    "arthritis_bc_yes.head(10)"
   ]
  },
  {
   "cell_type": "code",
   "execution_count": null,
   "metadata": {},
   "outputs": [],
   "source": [
    "arthritis_bc = arthritis_bc_yes.dropna()\n",
    "#Eliminate NaN values, drop those rows.\n",
    "#dropna\n",
    "arthritis_bc.head(10)"
   ]
  },
  {
   "cell_type": "code",
   "execution_count": null,
   "metadata": {},
   "outputs": [],
   "source": [
    "_ = plt.scatter(arthritis_bc['PlateletCount'], arthritis_bc['CreatinePhosphokinase'])\n",
    "\n",
    "_ = plt.xlabel('Platelet Count 1000cells/uL')\n",
    "_ = plt.ylabel('Creatine Phosphokinase (CPK)')\n",
    "_ = plt.title('Identified with Having Arthritis')  \n",
    "#Add cross hairs?"
   ]
  },
  {
   "cell_type": "markdown",
   "metadata": {},
   "source": [
    "**Answer:**  \n",
    "The scatterplot shows most participants identified with arthritis are in the lower left quadrant, which indicates lower platelet and CPK counts.  Based on this visual alone, a hyphotheses statement such that a participant with low levels of CPK and low platelet counts have a good chance of being told by a health professional that they have arthritis.\n",
    "Further, there are no participants in the upper right quadrant, which suggests that higher counts for both CPK and platelets relates to those not being diagnosed with arthritis.\n",
    "There are definitley a few outliers in the upper left quadrant that are not significant and would not be included when making generalizations.  \n",
    "There are more outliers in the lower right quadrant, perhaps significant enough to look further into whether the higher platelet counts play a role in diagnosing possible arthritis.\n",
    "\n",
    "In general, high CPK levels in the muscle suggest the presence of inflammatory muscle disease, but they can also be caused by trauma, injection into the muscle, or muscle disease due to hypothyroidism. Conversely, low levels of CPK can be indicative of rheumatoid arthritis.\n",
    "https://www.arthritis-health.com/glossary/creatine-phosphokinase"
   ]
  },
  {
   "cell_type": "code",
   "execution_count": null,
   "metadata": {},
   "outputs": [],
   "source": []
  },
  {
   "cell_type": "markdown",
   "metadata": {},
   "source": [
    "**Question:  Examining participants who have been diagnosed with asthma.  Can machine learning help in predicting asthma in people based on certain factors of nutrition growing up, current chemical exposure, or current activity levels?**\n"
   ]
  },
  {
   "cell_type": "code",
   "execution_count": null,
   "metadata": {},
   "outputs": [],
   "source": [
    "asthma_yes_all = df.loc[(df['HasAsthma'] == 1), \n",
    "                ['AllergyCongestionPast12Months', 'Breast_fed', 'UseMilk>=5x/wk', \n",
    "                'DrankMilkAge13to17yrs', 'DrankMilkAge18to35yrs', 'ChemicalPesticideUsedInHomePast7days', 'ChemicalWeedKillUsedExteriorHomePast7days',\n",
    "                'NumberOfDays/WeekVigorousWork', 'Minutes/DayVigorousIntensityWork',  \n",
    "                'NumberOfDays/WeekModerateWork', 'Minutes/DayModerateIntensityWork', \n",
    "                'WalkOrBicycle10+Min/weekYN', 'NumberDays/WeekWalkBicycle',\n",
    "                'Minutes/DayWalkBicycleTransportation', 'VigorousRecreationalActivities10+min/WeekYN', \n",
    "                'Days/WeekVigorousRecreationalActivities', 'Minutes/DayVigorousRecreationalActivities', 'ModerateRecreationalActivities10+min/WeekYN', \n",
    "                'Days/WeekModerateRecreationalActivities', 'Minutes/DayModerateRecreationalActivities', \n",
    "                'Minutes/DaySedentaryActivity', 'BMI']]\n"
   ]
  },
  {
   "cell_type": "code",
   "execution_count": null,
   "metadata": {},
   "outputs": [],
   "source": []
  },
  {
   "cell_type": "markdown",
   "metadata": {},
   "source": [
    "**Look at those who have been identified as having asthma, connecting to their answers for the milk, being breast-fed, chemical pesticide use, BMI at age 25, and columns related to exercise and activity.**\n",
    "clustering analysis, machine learning predicting.  Will give groups.  Pick one group, plot.\n",
    "\n",
    "\n",
    "\n"
   ]
  },
  {
   "cell_type": "code",
   "execution_count": null,
   "metadata": {},
   "outputs": [],
   "source": [
    "from sklearn import linear_model\n",
    "from sklearn.svm import SVC\n",
    "from sklearn.model_selection import KFold\n",
    "#from sklearn.cross_validation import KFold;\n",
    "from sklearn.metrics import mean_squared_error, r2_score\n"
   ]
  },
  {
   "cell_type": "code",
   "execution_count": null,
   "metadata": {},
   "outputs": [],
   "source": [
    "asthma_yes_all.info()"
   ]
  },
  {
   "cell_type": "code",
   "execution_count": null,
   "metadata": {},
   "outputs": [],
   "source": []
  },
  {
   "cell_type": "markdown",
   "metadata": {},
   "source": [
    "**using this code with changes to work for HasAsthma.**\n",
    "\n",
    "#Drop all except the milk consumption, breastfed, and chemical pesticide and weed kill.\n",
    "\n",
    "df.drop(['GlycoHemoglobin'], axis = 1, inplace=True)\n",
    "\n",
    "\n",
    "#data -> attributes, target -> diabetes\n",
    "\n",
    "data = df.drop(['Diabetes'], axis=1)\n",
    "target = df[['Diabetes']]\n",
    "\n",
    "#seperate training set and test set\n",
    "\n",
    "train_X = data[:6000]\n",
    "test_X = data[6000:]\n",
    "train_Y = target[:6000]\n",
    "test_Y = target[6000:]\n",
    "\n",
    "#create linear regression obj\n",
    "\n",
    "lr_regr = linear_model.LinearRegression()\n",
    "\n",
    "#training via linear regression model\n",
    "\n",
    "lr_regr.fit(train_X, train_Y)\n",
    "\n",
    "#make prediction using the test set\n",
    "\n",
    "lr_pred_diabetes = lr_regr.predict(test_X)\n",
    "lr_score = lr_regr.score(test_X, test_Y)\n",
    "\n",
    "print('LRr_Coefficients: ', lr_regr.coef_)\n",
    "print('LR_Mean Square Error: %.2f' % mean_squared_error(test_Y, lr_pred_diabetes))\n",
    "print('LR_Variance score: %.2f' % r2_score(test_Y, lr_pred_diabetes))\n",
    "print('Score: %.2f' % lr_regr.score(test_X, test_Y))\n"
   ]
  },
  {
   "cell_type": "code",
   "execution_count": null,
   "metadata": {},
   "outputs": [],
   "source": []
  },
  {
   "cell_type": "code",
   "execution_count": null,
   "metadata": {},
   "outputs": [],
   "source": []
  },
  {
   "cell_type": "code",
   "execution_count": null,
   "metadata": {},
   "outputs": [],
   "source": []
  },
  {
   "cell_type": "markdown",
   "metadata": {},
   "source": [
    "**Then to look at those who have been identified as having allergycongestion, connecting to their answers for the milk, being breast-fed, chemical pesticide use.**"
   ]
  },
  {
   "cell_type": "code",
   "execution_count": null,
   "metadata": {},
   "outputs": [],
   "source": []
  },
  {
   "cell_type": "code",
   "execution_count": null,
   "metadata": {},
   "outputs": [],
   "source": []
  },
  {
   "cell_type": "code",
   "execution_count": null,
   "metadata": {},
   "outputs": [],
   "source": []
  },
  {
   "cell_type": "code",
   "execution_count": null,
   "metadata": {},
   "outputs": [],
   "source": []
  },
  {
   "cell_type": "code",
   "execution_count": null,
   "metadata": {},
   "outputs": [],
   "source": [
    "#This can be used for a separate study on children\n",
    "#'PAQ677' : 'Past7DaysCardio20Minutes+'\n",
    "#'PAQ678' : 'Past7DaysStrengthTone20Minutes+'\n",
    "#'PAQ706' : 'Past7DaysCardio60Minutes+'\n",
    "#**Exercise conversion to be counted at yes if indicated 3 or more days that week**\n",
    "#old value(string) into new value(integer)  #1 == \"yes\"\n",
    "#df.loc[(df['Past7DaysCardio20Minutes+'] >=3) & (df['Past7DaysCardio20Minutes+'] <=7),'Past7DaysCardio20Minutes+'] = 1\n",
    "#df.loc[(df['Past7DaysStrengthTone20Minutes+'] >=3) & (df['Past7DaysStrengthTone20Minutes+'] <=7),'Past7DaysStrengthTone20Minutes+'] = 1\n",
    "#df.loc[(df['Past7DaysCardio60Minutes+'] >=3) & (df['Past7DaysCardio60Minutes+'] <=7),'Past7DaysCardio60Minutes+'] = 1"
   ]
  },
  {
   "cell_type": "code",
   "execution_count": null,
   "metadata": {},
   "outputs": [],
   "source": []
  },
  {
   "cell_type": "code",
   "execution_count": null,
   "metadata": {},
   "outputs": [],
   "source": []
  },
  {
   "cell_type": "code",
   "execution_count": null,
   "metadata": {},
   "outputs": [],
   "source": [
    " "
   ]
  },
  {
   "cell_type": "code",
   "execution_count": null,
   "metadata": {},
   "outputs": [],
   "source": []
  },
  {
   "cell_type": "code",
   "execution_count": null,
   "metadata": {},
   "outputs": [],
   "source": []
  },
  {
   "cell_type": "code",
   "execution_count": null,
   "metadata": {},
   "outputs": [],
   "source": []
  },
  {
   "cell_type": "code",
   "execution_count": null,
   "metadata": {},
   "outputs": [],
   "source": []
  }
 ],
 "metadata": {
  "kernelspec": {
   "display_name": "Python 3",
   "language": "python",
   "name": "python3"
  },
  "language_info": {
   "codemirror_mode": {
    "name": "ipython",
    "version": 3
   },
   "file_extension": ".py",
   "mimetype": "text/x-python",
   "name": "python",
   "nbconvert_exporter": "python",
   "pygments_lexer": "ipython3",
   "version": "3.7.3"
  }
 },
 "nbformat": 4,
 "nbformat_minor": 2
}
